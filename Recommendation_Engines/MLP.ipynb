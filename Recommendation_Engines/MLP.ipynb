{
  "nbformat": 4,
  "nbformat_minor": 0,
  "metadata": {
    "colab": {
      "name": "Copy of embedding_network_recsys.ipynb",
      "provenance": [],
      "collapsed_sections": [],
      "authorship_tag": "ABX9TyMt17bQ5AiIlLxczDRLsvim",
      "include_colab_link": true
    },
    "kernelspec": {
      "name": "python3",
      "display_name": "Python 3"
    },
    "language_info": {
      "name": "python"
    },
    "accelerator": "GPU"
  },
  "cells": [
    {
      "cell_type": "markdown",
      "metadata": {
        "id": "view-in-github",
        "colab_type": "text"
      },
      "source": [
        "<a href=\"https://colab.research.google.com/github/ntolayd/Projects/blob/main/Recommendation_Engines/MLP.ipynb\" target=\"_parent\"><img src=\"https://colab.research.google.com/assets/colab-badge.svg\" alt=\"Open In Colab\"/></a>"
      ]
    },
    {
      "cell_type": "code",
      "metadata": {
        "colab": {
          "base_uri": "https://localhost:8080/"
        },
        "id": "81P8pfOixxoL",
        "outputId": "a3d055eb-6b9d-474a-fd9c-67199a972fd5"
      },
      "source": [
        "from google.colab import drive\n",
        "drive.mount('/content/gdrive')"
      ],
      "execution_count": 1,
      "outputs": [
        {
          "output_type": "stream",
          "text": [
            "Mounted at /content/gdrive\n"
          ],
          "name": "stdout"
        }
      ]
    },
    {
      "cell_type": "code",
      "metadata": {
        "id": "ie6DBuU94AoO"
      },
      "source": [
        "import pandas as pd\n",
        "import matplotlib.pyplot as plt\n",
        "import math\n",
        "import numpy as np\n",
        "import seaborn as sns\n",
        "import warnings\n",
        "import pickle\n",
        "from sklearn.metrics import mean_absolute_error, mean_squared_error\n",
        "warnings.filterwarnings('ignore')"
      ],
      "execution_count": 2,
      "outputs": []
    },
    {
      "cell_type": "code",
      "metadata": {
        "colab": {
          "base_uri": "https://localhost:8080/"
        },
        "id": "8uQgvFlYyhky",
        "outputId": "79a51837-00e4-42cb-f2b0-14a9ed71d71b"
      },
      "source": [
        "#data loading\n",
        "!unzip \"/content/gdrive/My Drive/ml-1m.zip\"\n",
        "masked = pd.read_csv('/content/gdrive/MyDrive/masked_melted.csv')\n",
        "test_set = pd.read_csv('/content/gdrive/MyDrive/test_set.csv')\n",
        "with open(r'/content/gdrive/MyDrive/masked_idx.pkl', \"rb\") as input_file:\n",
        "  masked_idx = pickle.load(input_file)\n",
        "movies = pd.read_csv(\"ml-1m/movies.dat\", sep='::', engine='python', header=None)\n",
        "movies.columns = ['movie_id', 'movie_name', 'genre']\n",
        "ratings = pd.read_csv(\"ml-1m/ratings.dat\", sep='::', engine='python', header=None)\n",
        "ratings.columns=['user_id', 'movie_id', 'rating','timestamp']"
      ],
      "execution_count": 3,
      "outputs": [
        {
          "output_type": "stream",
          "text": [
            "Archive:  /content/gdrive/My Drive/ml-1m.zip\n",
            "   creating: ml-1m/\n",
            "  inflating: ml-1m/movies.dat        \n",
            "  inflating: ml-1m/ratings.dat       \n",
            "  inflating: ml-1m/README            \n",
            "  inflating: ml-1m/users.dat         \n"
          ],
          "name": "stdout"
        }
      ]
    },
    {
      "cell_type": "code",
      "metadata": {
        "id": "2UUzYPXnHQWX"
      },
      "source": [
        "masked = masked[~(masked['value'] == 0)]"
      ],
      "execution_count": 4,
      "outputs": []
    },
    {
      "cell_type": "markdown",
      "metadata": {
        "id": "ENqzDQQ443uA"
      },
      "source": [
        "Base Model"
      ]
    },
    {
      "cell_type": "code",
      "metadata": {
        "id": "l8NzQ88S3RcP"
      },
      "source": [
        "from keras.models import Model\n",
        "from keras.layers import Input, Flatten, Dense, Concatenate, Dropout, merge\n",
        "from keras.layers.merge import Multiply\n",
        "from keras.layers.merge import Dot\n",
        "from keras.layers.embeddings import Embedding\n",
        "from keras.optimizers import Adam\n",
        "from keras.regularizers import l1, l2"
      ],
      "execution_count": 5,
      "outputs": []
    },
    {
      "cell_type": "code",
      "metadata": {
        "id": "A1nNZssX3c0F"
      },
      "source": [
        "unique_movie_numb = masked['movie_id'].max()\n",
        "unique_user_numb = masked['user_id'].max()"
      ],
      "execution_count": 6,
      "outputs": []
    },
    {
      "cell_type": "code",
      "metadata": {
        "id": "yev1hoRQFwOU"
      },
      "source": [
        "masked['value'] = masked['value'] / 5"
      ],
      "execution_count": 7,
      "outputs": []
    },
    {
      "cell_type": "code",
      "metadata": {
        "id": "vYyA3p2Z3yhx"
      },
      "source": [
        "embedding_size= 5\n",
        "\n",
        "#Movie input\n",
        "input_movies = Input(shape=[1])\n",
        "embed_movies = Embedding(unique_movie_numb + 1, embedding_size,name = 'movie_embedding')(input_movies)\n",
        "movies_out = Flatten()(embed_movies)\n",
        "\n",
        "#user network\n",
        "input_users = Input(shape=[1])\n",
        "embed_users = Embedding(unique_user_numb + 1, embedding_size,name = 'user_embedding')(input_users)\n",
        "users_out = Flatten()(embed_users)\n",
        "\n",
        "y = Dot(1, normalize=False)([users_out, movies_out])\n",
        "\n",
        "model = Model(inputs=[input_users, input_movies], outputs=y)\n",
        "\n",
        "model.compile(loss='mse',\n",
        "              optimizer=Adam(lr=0.001),\n",
        "              metrics=['mae']\n",
        "             )"
      ],
      "execution_count": 8,
      "outputs": []
    },
    {
      "cell_type": "code",
      "metadata": {
        "colab": {
          "base_uri": "https://localhost:8080/"
        },
        "id": "eV9VCL0_6dXx",
        "outputId": "7b73b0fb-e9ca-437f-8b54-e85b148f9f39"
      },
      "source": [
        "history = model.fit([masked[\"user_id\"], masked[\"movie_id\"]]\n",
        "                    , masked[\"value\"] \n",
        "                    , batch_size=128, epochs=10\n",
        "                    , validation_split=0.1\n",
        "                    , shuffle=True)\n"
      ],
      "execution_count": 9,
      "outputs": [
        {
          "output_type": "stream",
          "text": [
            "Epoch 1/10\n",
            "5627/5627 [==============================] - 32s 3ms/step - loss: 0.3500 - mae: 0.5052 - val_loss: 0.5279 - val_mae: 0.6912\n",
            "Epoch 2/10\n",
            "5627/5627 [==============================] - 16s 3ms/step - loss: 0.0363 - mae: 0.1502 - val_loss: 0.5277 - val_mae: 0.6907\n",
            "Epoch 3/10\n",
            "5627/5627 [==============================] - 16s 3ms/step - loss: 0.0343 - mae: 0.1462 - val_loss: 0.5277 - val_mae: 0.6907\n",
            "Epoch 4/10\n",
            "5627/5627 [==============================] - 16s 3ms/step - loss: 0.0336 - mae: 0.1449 - val_loss: 0.5277 - val_mae: 0.6907\n",
            "Epoch 5/10\n",
            "5627/5627 [==============================] - 16s 3ms/step - loss: 0.0328 - mae: 0.1428 - val_loss: 0.5278 - val_mae: 0.6907\n",
            "Epoch 6/10\n",
            "5627/5627 [==============================] - 16s 3ms/step - loss: 0.0319 - mae: 0.1408 - val_loss: 0.5278 - val_mae: 0.6907\n",
            "Epoch 7/10\n",
            "5627/5627 [==============================] - 16s 3ms/step - loss: 0.0310 - mae: 0.1386 - val_loss: 0.5279 - val_mae: 0.6908\n",
            "Epoch 8/10\n",
            "5627/5627 [==============================] - 16s 3ms/step - loss: 0.0303 - mae: 0.1369 - val_loss: 0.5279 - val_mae: 0.6907\n",
            "Epoch 9/10\n",
            "5627/5627 [==============================] - 16s 3ms/step - loss: 0.0298 - mae: 0.1357 - val_loss: 0.5279 - val_mae: 0.6907\n",
            "Epoch 10/10\n",
            "5627/5627 [==============================] - 16s 3ms/step - loss: 0.0293 - mae: 0.1347 - val_loss: 0.5279 - val_mae: 0.6907\n"
          ],
          "name": "stdout"
        }
      ]
    },
    {
      "cell_type": "code",
      "metadata": {
        "id": "pF1oeduwewVJ",
        "outputId": "0483e77b-2197-4784-f573-dfedf647f3ea",
        "colab": {
          "base_uri": "https://localhost:8080/",
          "height": 296
        }
      },
      "source": [
        "plt.plot(history.history['loss'])\n",
        "plt.plot(history.history['val_loss'])\n",
        "plt.ylabel('loss')\n",
        "plt.xlabel('epoch')\n",
        "plt.legend(['train', 'validation'])"
      ],
      "execution_count": 10,
      "outputs": [
        {
          "output_type": "execute_result",
          "data": {
            "text/plain": [
              "<matplotlib.legend.Legend at 0x7fec0e03a990>"
            ]
          },
          "metadata": {
            "tags": []
          },
          "execution_count": 10
        },
        {
          "output_type": "display_data",
          "data": {
            "image/png": "[encoded data removed]",
            "text/plain": [
              "<Figure size 432x288 with 1 Axes>"
            ]
          },
          "metadata": {
            "tags": [],
            "needs_background": "light"
          }
        }
      ]
    },
    {
      "cell_type": "code",
      "metadata": {
        "id": "FAaDzTCv7Ny5",
        "colab": {
          "base_uri": "https://localhost:8080/"
        },
        "outputId": "ba3ca9d8-ee27-4cef-f718-06c976f43e5c"
      },
      "source": [
        "predictions = model.predict([test_set[\"user_id\"], test_set[\"movie_id\"]]) * 5\n",
        "print(mean_absolute_error(test_set['rating'], predictions))\n",
        "print(math.sqrt(mean_squared_error(test_set['rating'], predictions)))"
      ],
      "execution_count": 11,
      "outputs": [
        {
          "output_type": "stream",
          "text": [
            "0.9759076315153195\n",
            "1.4291143559495048\n"
          ],
          "name": "stdout"
        }
      ]
    },
    {
      "cell_type": "code",
      "metadata": {
        "id": "hId1NlmOsX7f"
      },
      "source": [
        "movie_ids = masked['movie_id'].unique()\n",
        "\n",
        "\n",
        "#recommender\n",
        "def make_recommendation(user_id, k):\n",
        "  user = np.array([user_id for i in range(len(movie_ids))])\n",
        "  predictions = model.predict([user, movie_ids])\n",
        "  predictions = [i[0] for i in predictions]\n",
        "  df = pd.DataFrame({'user_id':user, 'movie_id':movie_ids, 'Recommendation_Score':predictions}).sort_values(by='Recommendation_Score', ascending=False).head(k)\n",
        "  return df"
      ],
      "execution_count": 16,
      "outputs": []
    },
    {
      "cell_type": "code",
      "metadata": {
        "id": "fxLzfZVcsX2E"
      },
      "source": [
        "def apk(actual, predicted, k=10):\n",
        "\n",
        "    if len(actual) == 0:\n",
        "      return 0\n",
        "\n",
        "    if len(predicted)>k:\n",
        "        predicted = predicted[:k]\n",
        "\n",
        "    score = 0.0\n",
        "    num_hits = 0.0\n",
        "\n",
        "    for i,p in enumerate(predicted):\n",
        "        if p in actual and p not in predicted[:i]:\n",
        "            num_hits += 1.0\n",
        "            score += num_hits / (i+1.0)\n",
        "\n",
        "\n",
        "    return score / min(len(actual), k)"
      ],
      "execution_count": 17,
      "outputs": []
    },
    {
      "cell_type": "code",
      "metadata": {
        "id": "nXXR2-rJt0KS"
      },
      "source": [
        "def apk_user(user_id,k):\n",
        "  user_avg = masked[masked['user_id']== user_id]['value'].mean()*5\n",
        "  user_test = test_set[test_set['user_id'] == user_id][['movie_id','rating']]\n",
        "  user_test = user_test[user_test['rating'] >= user_avg]['movie_id'].values\n",
        "  rec = make_recommendation(user_id,k)\n",
        "  rec = rec['movie_id']\n",
        "  return apk(user_test, rec, k)"
      ],
      "execution_count": 18,
      "outputs": []
    },
    {
      "cell_type": "code",
      "metadata": {
        "id": "G-5AHeBEvIPp",
        "outputId": "dd6a8785-0af0-45e0-966a-95d5e6112326",
        "colab": {
          "base_uri": "https://localhost:8080/"
        }
      },
      "source": [
        "mean_apk = np.mean([apk_user(i,30) for i in masked['user_id'].unique()])\n",
        "print(mean_apk)"
      ],
      "execution_count": 15,
      "outputs": [
        {
          "output_type": "stream",
          "text": [
            "0.008302908305776475\n"
          ],
          "name": "stdout"
        }
      ]
    },
    {
      "cell_type": "markdown",
      "metadata": {
        "id": "C19XJtjOB1LD"
      },
      "source": [
        "Deeper model"
      ]
    },
    {
      "cell_type": "code",
      "metadata": {
        "id": "ySV6_q2s9l3F"
      },
      "source": [
        "embedding_size= 10\n",
        "\n",
        "#Movie input\n",
        "input_movies = Input(shape=[1])\n",
        "embed_movies = Embedding(unique_movie_numb + 1,embedding_size,name = 'movie_embedding')(input_movies)\n",
        "movies_out = Flatten()(embed_movies)\n",
        "\n",
        "#user input\n",
        "input_users = Input(shape=[1])\n",
        "embed_users = Embedding(unique_user_numb + 1,embedding_size,name = 'user_embedding')(input_users)\n",
        "users_out = Flatten()(embed_users)\n",
        "\n",
        "\n",
        "input_vecs = Concatenate()([users_out, movies_out])\n",
        "\n",
        "\n",
        "x = Dense(256, activation='relu')(input_vecs)\n",
        "x = Dropout(0.3)(x)\n",
        "\n",
        "\n",
        "y = Dense(1,activation='relu')(x)\n",
        "\n",
        "model = Model(inputs=[input_users, input_movies], outputs=y)\n",
        "\n",
        "model.compile(loss='mse',\n",
        "              optimizer=Adam(lr=0.001),\n",
        "              metrics=['mae']\n",
        "             )"
      ],
      "execution_count": 8,
      "outputs": []
    },
    {
      "cell_type": "code",
      "metadata": {
        "id": "SWAKahKZSRyN",
        "outputId": "044498da-5d9a-4034-8bbc-1925c5dc7a9e",
        "colab": {
          "base_uri": "https://localhost:8080/"
        }
      },
      "source": [
        "history = model.fit([masked[\"user_id\"], masked[\"movie_id\"]]\n",
        "                    , masked[\"value\"] \n",
        "                    , batch_size=128, epochs=10\n",
        "                    , validation_split=0.1\n",
        "                    , shuffle=True)\n"
      ],
      "execution_count": 9,
      "outputs": [
        {
          "output_type": "stream",
          "text": [
            "Epoch 1/10\n",
            "5627/5627 [==============================] - 35s 4ms/step - loss: 0.0484 - mae: 0.1685 - val_loss: 0.0458 - val_mae: 0.1740\n",
            "Epoch 2/10\n",
            "5627/5627 [==============================] - 20s 4ms/step - loss: 0.0326 - mae: 0.1429 - val_loss: 0.0456 - val_mae: 0.1722\n",
            "Epoch 3/10\n",
            "5627/5627 [==============================] - 20s 3ms/step - loss: 0.0312 - mae: 0.1393 - val_loss: 0.0455 - val_mae: 0.1723\n",
            "Epoch 4/10\n",
            "5627/5627 [==============================] - 19s 3ms/step - loss: 0.0303 - mae: 0.1370 - val_loss: 0.0458 - val_mae: 0.1736\n",
            "Epoch 5/10\n",
            "5627/5627 [==============================] - 20s 4ms/step - loss: 0.0299 - mae: 0.1361 - val_loss: 0.0455 - val_mae: 0.1724\n",
            "Epoch 6/10\n",
            "5627/5627 [==============================] - 20s 3ms/step - loss: 0.0295 - mae: 0.1352 - val_loss: 0.0455 - val_mae: 0.1720\n",
            "Epoch 7/10\n",
            "5627/5627 [==============================] - 19s 3ms/step - loss: 0.0292 - mae: 0.1344 - val_loss: 0.0459 - val_mae: 0.1741\n",
            "Epoch 8/10\n",
            "5627/5627 [==============================] - 19s 3ms/step - loss: 0.0287 - mae: 0.1329 - val_loss: 0.0455 - val_mae: 0.1731\n",
            "Epoch 9/10\n",
            "5627/5627 [==============================] - 19s 3ms/step - loss: 0.0281 - mae: 0.1315 - val_loss: 0.0459 - val_mae: 0.1744\n",
            "Epoch 10/10\n",
            "5627/5627 [==============================] - 20s 4ms/step - loss: 0.0275 - mae: 0.1301 - val_loss: 0.0459 - val_mae: 0.1745\n"
          ],
          "name": "stdout"
        }
      ]
    },
    {
      "cell_type": "code",
      "metadata": {
        "id": "C9MrwVM7e6W-",
        "outputId": "6f353852-d85b-4c20-aab3-18a51e30cf64",
        "colab": {
          "base_uri": "https://localhost:8080/",
          "height": 296
        }
      },
      "source": [
        "plt.plot(history.history['loss'])\n",
        "plt.plot(history.history['val_loss'])\n",
        "plt.ylabel('loss')\n",
        "plt.xlabel('epoch')\n",
        "plt.legend(['train', 'validation'])"
      ],
      "execution_count": 10,
      "outputs": [
        {
          "output_type": "execute_result",
          "data": {
            "text/plain": [
              "<matplotlib.legend.Legend at 0x7f5582568ad0>"
            ]
          },
          "metadata": {
            "tags": []
          },
          "execution_count": 10
        },
        {
          "output_type": "display_data",
          "data": {
            "image/png": "[encoded data removed]",
            "text/plain": [
              "<Figure size 432x288 with 1 Axes>"
            ]
          },
          "metadata": {
            "tags": [],
            "needs_background": "light"
          }
        }
      ]
    },
    {
      "cell_type": "code",
      "metadata": {
        "id": "yo0UpQK9n_pb",
        "outputId": "00a87083-5e20-41a3-dd1b-53db479de66b",
        "colab": {
          "base_uri": "https://localhost:8080/"
        }
      },
      "source": [
        "predictions = model.predict([test_set[\"user_id\"], test_set[\"movie_id\"]]) * 5\n",
        "print(mean_absolute_error(test_set['rating'], predictions))\n",
        "print(math.sqrt(mean_squared_error(test_set['rating'], predictions)))"
      ],
      "execution_count": 11,
      "outputs": [
        {
          "output_type": "stream",
          "text": [
            "0.6975244589045628\n",
            "0.8900835459419596\n"
          ],
          "name": "stdout"
        }
      ]
    },
    {
      "cell_type": "code",
      "metadata": {
        "id": "xv5PEtIdw7y5",
        "outputId": "f9164d51-ffb2-471c-e60d-0316068e9419",
        "colab": {
          "base_uri": "https://localhost:8080/"
        }
      },
      "source": [
        "mean_apk = np.mean([apk_user(i,30) for i in masked['user_id'].unique()])\n",
        "print(mean_apk)"
      ],
      "execution_count": 19,
      "outputs": [
        {
          "output_type": "stream",
          "text": [
            "0.016510220754933327\n"
          ],
          "name": "stdout"
        }
      ]
    },
    {
      "cell_type": "markdown",
      "metadata": {
        "id": "sP8C8lwDNfQf"
      },
      "source": [
        "NeuMF Model"
      ]
    },
    {
      "cell_type": "code",
      "metadata": {
        "id": "pYywFsIhFnzG"
      },
      "source": [
        "input_movies = Input(shape=[1])\n",
        "input_users = Input(shape=[1])\n",
        "latent_dim = 10\n",
        "\n",
        "mf_user_embedding = Embedding(input_dim=unique_user_numb + 1, output_dim=latent_dim,\n",
        "                    name='mf_user_embedding', input_length=1)\n",
        "\n",
        "mf_item_embedding = Embedding(input_dim=unique_movie_numb + 1, output_dim=latent_dim,\n",
        "                    name='mf_item_embedding', input_length=1)\n",
        "\n",
        "mlp_user_embedding = Embedding(input_dim=unique_user_numb + 1, output_dim=128,\n",
        "                      name='mlp_user_embedding',\n",
        "                      input_length=1)\n",
        "\n",
        "mlp_item_embedding = Embedding(input_dim=unique_movie_numb + 1, output_dim=128,\n",
        "                      name='mlp_item_embedding',\n",
        "                      input_length=1)\n",
        "\n",
        "# MF latent vector\n",
        "mf_user_latent = Flatten()(mf_user_embedding(input_users))\n",
        "mf_item_latent = Flatten()(mf_item_embedding(input_movies))\n",
        "mf_cat_latent = Multiply()([mf_user_latent, mf_item_latent])\n",
        "\n",
        "# MLP latent vector\n",
        "mlp_user_latent = Flatten()(mlp_user_embedding(input_users))\n",
        "mlp_item_latent = Flatten()(mlp_item_embedding(input_movies))\n",
        "mlp_cat_latent = Concatenate()([mlp_user_latent, mlp_item_latent])\n",
        "\n",
        "mlp_vector = mlp_cat_latent\n",
        "\n",
        "\n",
        "layer = Dense(256, activation='relu')\n",
        "mlp_vector = layer(mlp_vector)\n",
        "\n",
        "predict_layer = Concatenate()([mf_cat_latent, mlp_vector])\n",
        "result = Dense(1, activation='relu')\n",
        "\n",
        "model = Model(inputs=[input_users,input_movies], outputs=result(predict_layer))\n",
        "\n",
        "model.compile(loss='mse',\n",
        "              optimizer=Adam(lr=0.001),\n",
        "              metrics=['mae']\n",
        "             )"
      ],
      "execution_count": 35,
      "outputs": []
    },
    {
      "cell_type": "code",
      "metadata": {
        "id": "PJM3VvKdYu_9"
      },
      "source": [
        "def get_model(num_users, num_items, mf_dim=10, layers=[256]):\n",
        "\n",
        "    num_layer = len(layers) #Number of layers in the MLP\n",
        "    # Input variables\n",
        "    user_input = Input(shape=(1,), dtype='int32', name = 'user_input')\n",
        "    item_input = Input(shape=(1,), dtype='int32', name = 'item_input')\n",
        "    \n",
        "    # Embedding layer\n",
        "    MF_Embedding_User = Embedding(input_dim = num_users+1, output_dim = mf_dim, name = 'mf_embedding_user',\n",
        "                                  input_length=1)\n",
        "    MF_Embedding_Item = Embedding(input_dim = num_items+1, output_dim = mf_dim, name = 'mf_embedding_item',\n",
        "                                  input_length=1)   \n",
        "\n",
        "    MLP_Embedding_User = Embedding(input_dim = num_users+1, output_dim = int(layers[0]/2), name = \"mlp_embedding_user\",\n",
        "                                   input_length=1)\n",
        "    MLP_Embedding_Item = Embedding(input_dim = num_items+1, output_dim = int(layers[0]/2), name = 'mlp_embedding_item',\n",
        "                                   input_length=1)   \n",
        "    \n",
        "    # MF part\n",
        "    mf_user_latent = Flatten()(MF_Embedding_User(user_input))\n",
        "    mf_item_latent = Flatten()(MF_Embedding_Item(item_input))\n",
        "    mf_vector = Multiply()([mf_user_latent, mf_item_latent]) # element-wise multiply\n",
        "\n",
        "    # MLP part \n",
        "    mlp_user_latent = Flatten()(MLP_Embedding_User(user_input))\n",
        "    mlp_item_latent = Flatten()(MLP_Embedding_Item(item_input))\n",
        "    mlp_vector = Concatenate()([mlp_user_latent, mlp_item_latent])\n",
        "    \n",
        "    for idx in range(1, num_layer):\n",
        "        layer = Dense(layers[idx], activation='relu', name=\"layer%d\" %idx)\n",
        "        mlp_vector = layer(mlp_vector)\n",
        "\n",
        "    predict_vector = Concatenate()([mf_vector, mlp_vector])\n",
        "    \n",
        "    # Final prediction layer\n",
        "    prediction = Dense(1, activation='relu', name = \"prediction\")(predict_vector)\n",
        "    \n",
        "    model = Model(inputs=[user_input, item_input], \n",
        "                  outputs=prediction)\n",
        "    \n",
        "    return model"
      ],
      "execution_count": 36,
      "outputs": []
    },
    {
      "cell_type": "code",
      "metadata": {
        "id": "G8yn_6UJaW2K"
      },
      "source": [
        "model = get_model(unique_user_numb, unique_movie_numb)"
      ],
      "execution_count": 37,
      "outputs": []
    },
    {
      "cell_type": "code",
      "metadata": {
        "id": "Js3IB2l3eKfK"
      },
      "source": [
        "model.compile(loss='mse',\n",
        "              optimizer=Adam(lr=0.001),\n",
        "              metrics=['mae']\n",
        "             )"
      ],
      "execution_count": 38,
      "outputs": []
    },
    {
      "cell_type": "code",
      "metadata": {
        "id": "slburYFpP6zI",
        "outputId": "58e068e4-7a4c-44e0-ab3a-69b7378e55d4",
        "colab": {
          "base_uri": "https://localhost:8080/"
        }
      },
      "source": [
        "history = model.fit([masked[\"user_id\"], masked[\"movie_id\"]]\n",
        "                    , masked[\"value\"] \n",
        "                    , batch_size=128, epochs=10\n",
        "                    , validation_split=0.1\n",
        "                    , shuffle=True)"
      ],
      "execution_count": 39,
      "outputs": [
        {
          "output_type": "stream",
          "text": [
            "Epoch 1/10\n",
            "5627/5627 [==============================] - 71s 13ms/step - loss: 0.0643 - mae: 0.1880 - val_loss: 0.0643 - val_mae: 0.2138\n",
            "Epoch 2/10\n",
            "5627/5627 [==============================] - 71s 13ms/step - loss: 0.0305 - mae: 0.1378 - val_loss: 0.0519 - val_mae: 0.1887\n",
            "Epoch 3/10\n",
            "5627/5627 [==============================] - 73s 13ms/step - loss: 0.0275 - mae: 0.1300 - val_loss: 0.0478 - val_mae: 0.1788\n",
            "Epoch 4/10\n",
            "5627/5627 [==============================] - 72s 13ms/step - loss: 0.0262 - mae: 0.1269 - val_loss: 0.0512 - val_mae: 0.1862\n",
            "Epoch 5/10\n",
            "5627/5627 [==============================] - 72s 13ms/step - loss: 0.0255 - mae: 0.1251 - val_loss: 0.0475 - val_mae: 0.1783\n",
            "Epoch 6/10\n",
            "5627/5627 [==============================] - 71s 13ms/step - loss: 0.0250 - mae: 0.1237 - val_loss: 0.0472 - val_mae: 0.1781\n",
            "Epoch 7/10\n",
            "5627/5627 [==============================] - 71s 13ms/step - loss: 0.0247 - mae: 0.1227 - val_loss: 0.0475 - val_mae: 0.1790\n",
            "Epoch 8/10\n",
            "5627/5627 [==============================] - 69s 12ms/step - loss: 0.0244 - mae: 0.1220 - val_loss: 0.0476 - val_mae: 0.1786\n",
            "Epoch 9/10\n",
            "5627/5627 [==============================] - 70s 12ms/step - loss: 0.0241 - mae: 0.1212 - val_loss: 0.0472 - val_mae: 0.1776\n",
            "Epoch 10/10\n",
            "5627/5627 [==============================] - 69s 12ms/step - loss: 0.0240 - mae: 0.1209 - val_loss: 0.0470 - val_mae: 0.1767\n"
          ],
          "name": "stdout"
        }
      ]
    },
    {
      "cell_type": "code",
      "metadata": {
        "id": "96-3_9Pbe_cO",
        "outputId": "204f015e-5987-4eee-8480-11a3f770d5a9",
        "colab": {
          "base_uri": "https://localhost:8080/",
          "height": 296
        }
      },
      "source": [
        "plt.plot(history.history['loss'])\n",
        "plt.plot(history.history['val_loss'])\n",
        "plt.ylabel('loss')\n",
        "plt.xlabel('epoch')\n",
        "plt.legend(['train', 'validation'])"
      ],
      "execution_count": 40,
      "outputs": [
        {
          "output_type": "execute_result",
          "data": {
            "text/plain": [
              "<matplotlib.legend.Legend at 0x7febeded3110>"
            ]
          },
          "metadata": {
            "tags": []
          },
          "execution_count": 40
        },
        {
          "output_type": "display_data",
          "data": {
            "image/png": "[encoded data removed]",
            "text/plain": [
              "<Figure size 432x288 with 1 Axes>"
            ]
          },
          "metadata": {
            "tags": [],
            "needs_background": "light"
          }
        }
      ]
    },
    {
      "cell_type": "code",
      "metadata": {
        "id": "hlyEsYlnQWxZ",
        "outputId": "f376ba77-1f10-4c2b-bac4-4246e45983a3",
        "colab": {
          "base_uri": "https://localhost:8080/"
        }
      },
      "source": [
        "predictions = model.predict([test_set[\"user_id\"], test_set[\"movie_id\"]]) * 5\n",
        "print(mean_absolute_error(test_set['rating'], predictions))\n",
        "print(math.sqrt(mean_squared_error(test_set['rating'], predictions)))"
      ],
      "execution_count": 41,
      "outputs": [
        {
          "output_type": "stream",
          "text": [
            "0.7023501948955585\n",
            "0.901515448332707\n"
          ],
          "name": "stdout"
        }
      ]
    },
    {
      "cell_type": "code",
      "metadata": {
        "id": "hMdn6ylFw_wZ",
        "outputId": "051b9a59-b348-4c34-82fd-dded3565498c",
        "colab": {
          "base_uri": "https://localhost:8080/"
        }
      },
      "source": [
        "mean_apk_enhanced = np.mean([apk_user(i,30) for i in masked['user_id'].unique()])\n",
        "print(mean_apk_enhanced)"
      ],
      "execution_count": 42,
      "outputs": [
        {
          "output_type": "stream",
          "text": [
            "0.009126687881948575\n"
          ],
          "name": "stdout"
        }
      ]
    },
    {
      "cell_type": "code",
      "metadata": {
        "id": "OjxdpRvB1s-E"
      },
      "source": [
        ""
      ],
      "execution_count": null,
      "outputs": []
    }
  ]
}