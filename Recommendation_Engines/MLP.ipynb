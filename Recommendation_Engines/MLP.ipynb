{
  "nbformat": 4,
  "nbformat_minor": 0,
  "metadata": {
    "colab": {
      "name": "Copy of embedding_network_recsys.ipynb",
      "provenance": [],
      "collapsed_sections": [],
      "authorship_tag": "ABX9TyPPF+XaaN+F8Pvnj/HYuFtA",
      "include_colab_link": true
    },
    "kernelspec": {
      "name": "python3",
      "display_name": "Python 3"
    },
    "language_info": {
      "name": "python"
    },
    "accelerator": "GPU"
  },
  "cells": [
    {
      "cell_type": "markdown",
      "metadata": {
        "id": "view-in-github",
        "colab_type": "text"
      },
      "source": [
        "<a href=\"https://colab.research.google.com/github/ntolayd/Projects/blob/main/Recommendation_Engines/MLP.ipynb\" target=\"_parent\"><img src=\"https://colab.research.google.com/assets/colab-badge.svg\" alt=\"Open In Colab\"/></a>"
      ]
    },
    {
      "cell_type": "code",
      "metadata": {
        "colab": {
          "base_uri": "https://localhost:8080/"
        },
        "id": "81P8pfOixxoL",
        "outputId": "af7702f5-2093-4aed-8a0e-021ad7340c11"
      },
      "source": [
        "from google.colab import drive\n",
        "drive.mount('/content/gdrive')"
      ],
      "execution_count": 1,
      "outputs": [
        {
          "output_type": "stream",
          "text": [
            "Mounted at /content/gdrive\n"
          ],
          "name": "stdout"
        }
      ]
    },
    {
      "cell_type": "code",
      "metadata": {
        "id": "ie6DBuU94AoO"
      },
      "source": [
        "import pandas as pd\n",
        "import matplotlib.pyplot as plt\n",
        "import math\n",
        "import numpy as np\n",
        "import seaborn as sns\n",
        "import warnings\n",
        "import pickle\n",
        "from sklearn.metrics import mean_absolute_error, mean_squared_error\n",
        "warnings.filterwarnings('ignore')"
      ],
      "execution_count": 2,
      "outputs": []
    },
    {
      "cell_type": "code",
      "metadata": {
        "colab": {
          "base_uri": "https://localhost:8080/"
        },
        "id": "8uQgvFlYyhky",
        "outputId": "9485b217-bd4e-4656-da5c-2a25b3f80af0"
      },
      "source": [
        "#data loading\n",
        "!unzip \"/content/gdrive/My Drive/ml-1m.zip\"\n",
        "masked = pd.read_csv('/content/gdrive/MyDrive/masked_melted.csv')\n",
        "test_set = pd.read_csv('/content/gdrive/MyDrive/test_set.csv')\n",
        "with open(r'/content/gdrive/MyDrive/masked_idx.pkl', \"rb\") as input_file:\n",
        "  masked_idx = pickle.load(input_file)\n",
        "movies = pd.read_csv(\"ml-1m/movies.dat\", sep='::', engine='python', header=None)\n",
        "movies.columns = ['movie_id', 'movie_name', 'genre']\n",
        "ratings = pd.read_csv(\"ml-1m/ratings.dat\", sep='::', engine='python', header=None)\n",
        "ratings.columns=['user_id', 'movie_id', 'rating','timestamp']"
      ],
      "execution_count": 3,
      "outputs": [
        {
          "output_type": "stream",
          "text": [
            "Archive:  /content/gdrive/My Drive/ml-1m.zip\n",
            "   creating: ml-1m/\n",
            "  inflating: ml-1m/movies.dat        \n",
            "  inflating: ml-1m/ratings.dat       \n",
            "  inflating: ml-1m/README            \n",
            "  inflating: ml-1m/users.dat         \n"
          ],
          "name": "stdout"
        }
      ]
    },
    {
      "cell_type": "code",
      "metadata": {
        "id": "2UUzYPXnHQWX"
      },
      "source": [
        "masked = masked[~(masked['value'] == 0)]"
      ],
      "execution_count": 4,
      "outputs": []
    },
    {
      "cell_type": "markdown",
      "metadata": {
        "id": "ENqzDQQ443uA"
      },
      "source": [
        "Base Model"
      ]
    },
    {
      "cell_type": "code",
      "metadata": {
        "id": "l8NzQ88S3RcP"
      },
      "source": [
        "from keras.models import Model\n",
        "from keras.layers import Input, Flatten, Dense, Concatenate, Dropout, merge\n",
        "from keras.layers.merge import Multiply\n",
        "from keras.layers.merge import Dot\n",
        "from keras.layers.embeddings import Embedding\n",
        "from keras.optimizers import Adam\n",
        "from keras.regularizers import l1, l2"
      ],
      "execution_count": 5,
      "outputs": []
    },
    {
      "cell_type": "code",
      "metadata": {
        "id": "A1nNZssX3c0F"
      },
      "source": [
        "unique_movie_numb = masked['movie_id'].max()\n",
        "unique_user_numb = masked['user_id'].max()"
      ],
      "execution_count": 6,
      "outputs": []
    },
    {
      "cell_type": "code",
      "metadata": {
        "id": "yev1hoRQFwOU"
      },
      "source": [
        "masked['value'] = masked['value'] / 5"
      ],
      "execution_count": 7,
      "outputs": []
    },
    {
      "cell_type": "code",
      "metadata": {
        "id": "vYyA3p2Z3yhx"
      },
      "source": [
        "embedding_size= 5\n",
        "\n",
        "#Movie input\n",
        "input_movies = Input(shape=[1])\n",
        "embed_movies = Embedding(unique_movie_numb + 1, embedding_size,name = 'movie_embedding')(input_movies)\n",
        "movies_out = Flatten()(embed_movies)\n",
        "\n",
        "#user network\n",
        "input_users = Input(shape=[1])\n",
        "embed_users = Embedding(unique_user_numb + 1, embedding_size,name = 'user_embedding')(input_users)\n",
        "users_out = Flatten()(embed_users)\n",
        "\n",
        "y = Dot(1, normalize=False)([users_out, movies_out])\n",
        "\n",
        "model = Model(inputs=[input_users, input_movies], outputs=y)\n",
        "\n",
        "model.compile(loss='mse',\n",
        "              optimizer=Adam(lr=0.001),\n",
        "              metrics=['mae']\n",
        "             )"
      ],
      "execution_count": 8,
      "outputs": []
    },
    {
      "cell_type": "code",
      "metadata": {
        "colab": {
          "base_uri": "https://localhost:8080/"
        },
        "id": "eV9VCL0_6dXx",
        "outputId": "3d25a0fe-eaf6-47ef-8e3a-3730822aa5ea"
      },
      "source": [
        "history = model.fit([masked[\"user_id\"], masked[\"movie_id\"]]\n",
        "                    , masked[\"value\"] \n",
        "                    , batch_size=128, epochs=10\n",
        "                    , validation_split=0.1\n",
        "                    , shuffle=True)\n"
      ],
      "execution_count": 9,
      "outputs": [
        {
          "output_type": "stream",
          "text": [
            "Epoch 1/10\n",
            "5627/5627 [==============================] - 32s 3ms/step - loss: 0.3559 - mae: 0.5109 - val_loss: 0.5315 - val_mae: 0.6938\n",
            "Epoch 2/10\n",
            "5627/5627 [==============================] - 18s 3ms/step - loss: 0.0365 - mae: 0.1505 - val_loss: 0.5312 - val_mae: 0.6932\n",
            "Epoch 3/10\n",
            "5627/5627 [==============================] - 17s 3ms/step - loss: 0.0342 - mae: 0.1461 - val_loss: 0.5313 - val_mae: 0.6933\n",
            "Epoch 4/10\n",
            "5627/5627 [==============================] - 16s 3ms/step - loss: 0.0333 - mae: 0.1440 - val_loss: 0.5314 - val_mae: 0.6933\n",
            "Epoch 5/10\n",
            "5627/5627 [==============================] - 17s 3ms/step - loss: 0.0322 - mae: 0.1416 - val_loss: 0.5314 - val_mae: 0.6933\n",
            "Epoch 6/10\n",
            "5627/5627 [==============================] - 18s 3ms/step - loss: 0.0313 - mae: 0.1394 - val_loss: 0.5315 - val_mae: 0.6934\n",
            "Epoch 7/10\n",
            "5627/5627 [==============================] - 17s 3ms/step - loss: 0.0305 - mae: 0.1374 - val_loss: 0.5316 - val_mae: 0.6935\n",
            "Epoch 8/10\n",
            "5627/5627 [==============================] - 16s 3ms/step - loss: 0.0299 - mae: 0.1358 - val_loss: 0.5316 - val_mae: 0.6934\n",
            "Epoch 9/10\n",
            "5627/5627 [==============================] - 17s 3ms/step - loss: 0.0295 - mae: 0.1350 - val_loss: 0.5317 - val_mae: 0.6935\n",
            "Epoch 10/10\n",
            "5627/5627 [==============================] - 18s 3ms/step - loss: 0.0292 - mae: 0.1343 - val_loss: 0.5317 - val_mae: 0.6935\n"
          ],
          "name": "stdout"
        }
      ]
    },
    {
      "cell_type": "code",
      "metadata": {
        "id": "FAaDzTCv7Ny5",
        "colab": {
          "base_uri": "https://localhost:8080/"
        },
        "outputId": "0f8f93b1-f402-40ce-c7d1-c6db8dcf1493"
      },
      "source": [
        "predictions = model.predict([test_set[\"user_id\"], test_set[\"movie_id\"]]) * 5\n",
        "print(mean_absolute_error(test_set['rating'], predictions))\n",
        "print(math.sqrt(mean_squared_error(test_set['rating'], predictions)))"
      ],
      "execution_count": 10,
      "outputs": [
        {
          "output_type": "stream",
          "text": [
            "0.9760546746745525\n",
            "1.4320631950946228\n"
          ],
          "name": "stdout"
        }
      ]
    },
    {
      "cell_type": "code",
      "metadata": {
        "id": "hId1NlmOsX7f"
      },
      "source": [
        "movie_ids = masked['movie_id'].unique()\n",
        "\n",
        "\n",
        "#recommender\n",
        "def make_recommendation(user_id, k):\n",
        "  user = np.array([user_id for i in range(len(movie_ids))])\n",
        "  predictions = model.predict([user, movie_ids])\n",
        "  predictions = [i[0] for i in predictions]\n",
        "  df = pd.DataFrame({'user_id':user, 'movie_id':movie_ids, 'Recommendation_Score':predictions}).sort_values(by='Recommendation_Score', ascending=False).head(k)\n",
        "  return df"
      ],
      "execution_count": 32,
      "outputs": []
    },
    {
      "cell_type": "code",
      "metadata": {
        "id": "fxLzfZVcsX2E"
      },
      "source": [
        "def apk(actual, predicted, k=10):\n",
        "\n",
        "    if len(actual) == 0:\n",
        "      return 0\n",
        "\n",
        "    if len(predicted)>k:\n",
        "        predicted = predicted[:k]\n",
        "\n",
        "    score = 0.0\n",
        "    num_hits = 0.0\n",
        "\n",
        "    for i,p in enumerate(predicted):\n",
        "        if p in actual and p not in predicted[:i]:\n",
        "            num_hits += 1.0\n",
        "            score += num_hits / (i+1.0)\n",
        "\n",
        "\n",
        "    return score / min(len(actual), k)"
      ],
      "execution_count": 12,
      "outputs": []
    },
    {
      "cell_type": "code",
      "metadata": {
        "id": "nXXR2-rJt0KS"
      },
      "source": [
        "def apk_user(user_id,k):\n",
        "  user_avg = masked[masked['user_id']== user_id]['value'].mean()*5\n",
        "  user_test = test_set[test_set['user_id'] == user_id][['movie_id','rating']]\n",
        "  user_test = user_test[user_test['rating'] >= user_avg]['movie_id'].values\n",
        "  rec = make_recommendation(user_id,k)\n",
        "  rec = rec['movie_id']\n",
        "  return apk(user_test, rec, k)"
      ],
      "execution_count": 47,
      "outputs": []
    },
    {
      "cell_type": "code",
      "metadata": {
        "id": "G-5AHeBEvIPp"
      },
      "source": [
        "mean_apk_enhanced = np.mean([apk_user(i,30) for i in masked['user_id'].unique()])"
      ],
      "execution_count": 48,
      "outputs": []
    },
    {
      "cell_type": "code",
      "metadata": {
        "colab": {
          "base_uri": "https://localhost:8080/"
        },
        "id": "Xq9CUWivPlXU",
        "outputId": "d10de089-035c-450d-c5af-c48cadbfa284"
      },
      "source": [
        "mean_apk_enhanced"
      ],
      "execution_count": 49,
      "outputs": [
        {
          "output_type": "execute_result",
          "data": {
            "text/plain": [
              "0.011021581883988761"
            ]
          },
          "metadata": {
            "tags": []
          },
          "execution_count": 49
        }
      ]
    },
    {
      "cell_type": "markdown",
      "metadata": {
        "id": "C19XJtjOB1LD"
      },
      "source": [
        "Deeper model"
      ]
    },
    {
      "cell_type": "code",
      "metadata": {
        "id": "ySV6_q2s9l3F"
      },
      "source": [
        "embedding_size= 10\n",
        "\n",
        "#Movie input\n",
        "input_movies = Input(shape=[1])\n",
        "embed_movies = Embedding(unique_movie_numb + 1,embedding_size,name = 'movie_embedding')(input_movies)\n",
        "movies_out = Flatten()(embed_movies)\n",
        "\n",
        "#user input\n",
        "input_users = Input(shape=[1])\n",
        "embed_users = Embedding(unique_user_numb + 1,embedding_size,name = 'user_embedding')(input_users)\n",
        "users_out = Flatten()(embed_users)\n",
        "\n",
        "\n",
        "input_vecs = Concatenate()([users_out, movies_out])\n",
        "\n",
        "\n",
        "x = Dense(256, activation='relu')(input_vecs)\n",
        "x = Dropout(0.3)(x)\n",
        "\n",
        "\n",
        "y = Dense(1,activation='relu')(x)\n",
        "\n",
        "model = Model(inputs=[input_users, input_movies], outputs=y)\n",
        "\n",
        "model.compile(loss='mse',\n",
        "              optimizer=Adam(lr=0.001),\n",
        "              metrics=['mae']\n",
        "             )"
      ],
      "execution_count": null,
      "outputs": []
    },
    {
      "cell_type": "code",
      "metadata": {
        "id": "SWAKahKZSRyN"
      },
      "source": [
        "history = model.fit([masked[\"user_id\"], masked[\"movie_id\"]]\n",
        "                    , masked[\"value\"] \n",
        "                    , batch_size=128, epochs=10\n",
        "                    , validation_split=0.1\n",
        "                    , shuffle=True)\n"
      ],
      "execution_count": null,
      "outputs": []
    },
    {
      "cell_type": "code",
      "metadata": {
        "id": "yo0UpQK9n_pb"
      },
      "source": [
        "predictions = model.predict([test_set[\"user_id\"], test_set[\"movie_id\"]]) * 5\n",
        "print(mean_absolute_error(test_set['rating'], predictions))\n",
        "print(math.sqrt(mean_squared_error(test_set['rating'], predictions)))"
      ],
      "execution_count": null,
      "outputs": []
    },
    {
      "cell_type": "code",
      "metadata": {
        "id": "xv5PEtIdw7y5"
      },
      "source": [
        "mean_apk_enhanced = np.mean([apk_user(i,30) for i in masked.index.unique()])"
      ],
      "execution_count": null,
      "outputs": []
    },
    {
      "cell_type": "markdown",
      "metadata": {
        "id": "sP8C8lwDNfQf"
      },
      "source": [
        "NeuMF Model"
      ]
    },
    {
      "cell_type": "code",
      "metadata": {
        "id": "pYywFsIhFnzG"
      },
      "source": [
        "input_movies = Input(shape=[1])\n",
        "input_users = Input(shape=[1])\n",
        "latent_dim = 10\n",
        "\n",
        "mf_user_embedding = Embedding(input_dim=unique_user_numb + 1, output_dim=latent_dim,\n",
        "                    name='mf_user_embedding', input_length=1)\n",
        "\n",
        "mf_item_embedding = Embedding(input_dim=unique_movie_numb + 1, output_dim=latent_dim,\n",
        "                    name='mf_item_embedding', input_length=1)\n",
        "\n",
        "mlp_user_embedding = Embedding(input_dim=unique_user_numb + 1, output_dim=128,\n",
        "                      name='mlp_user_embedding',\n",
        "                      input_length=1)\n",
        "\n",
        "mlp_item_embedding = Embedding(input_dim=unique_movie_numb + 1, output_dim=128,\n",
        "                      name='mlp_item_embedding',\n",
        "                      input_length=1)\n",
        "\n",
        "# MF latent vector\n",
        "mf_user_latent = Flatten()(mf_user_embedding(input_users))\n",
        "mf_item_latent = Flatten()(mf_item_embedding(input_movies))\n",
        "mf_cat_latent = Multiply()([mf_user_latent, mf_item_latent])\n",
        "\n",
        "# MLP latent vector\n",
        "mlp_user_latent = Flatten()(mlp_user_embedding(input_users))\n",
        "mlp_item_latent = Flatten()(mlp_item_embedding(input_movies))\n",
        "mlp_cat_latent = Concatenate()([mlp_user_latent, mlp_item_latent])\n",
        "\n",
        "mlp_vector = mlp_cat_latent\n",
        "\n",
        "\n",
        "layer = Dense(256, activation='relu')\n",
        "mlp_vector = layer(mlp_vector)\n",
        "\n",
        "predict_layer = Concatenate()([mf_cat_latent, mlp_vector])\n",
        "result = Dense(1, activation='relu')\n",
        "\n",
        "model = Model(inputs=[input_users,input_movies], outputs=result(predict_layer))\n",
        "\n",
        "model.compile(loss='mse',\n",
        "              optimizer=Adam(lr=0.001),\n",
        "              metrics=['mae']\n",
        "             )"
      ],
      "execution_count": null,
      "outputs": []
    },
    {
      "cell_type": "code",
      "metadata": {
        "id": "PJM3VvKdYu_9"
      },
      "source": [
        "def get_model(num_users, num_items, mf_dim=10, layers=[256]):\n",
        "\n",
        "    num_layer = len(layers) #Number of layers in the MLP\n",
        "    # Input variables\n",
        "    user_input = Input(shape=(1,), dtype='int32', name = 'user_input')\n",
        "    item_input = Input(shape=(1,), dtype='int32', name = 'item_input')\n",
        "    \n",
        "    # Embedding layer\n",
        "    MF_Embedding_User = Embedding(input_dim = num_users+1, output_dim = mf_dim, name = 'mf_embedding_user',\n",
        "                                  input_length=1)\n",
        "    MF_Embedding_Item = Embedding(input_dim = num_items+1, output_dim = mf_dim, name = 'mf_embedding_item',\n",
        "                                  input_length=1)   \n",
        "\n",
        "    MLP_Embedding_User = Embedding(input_dim = num_users+1, output_dim = int(layers[0]/2), name = \"mlp_embedding_user\",\n",
        "                                   input_length=1)\n",
        "    MLP_Embedding_Item = Embedding(input_dim = num_items+1, output_dim = int(layers[0]/2), name = 'mlp_embedding_item',\n",
        "                                   input_length=1)   \n",
        "    \n",
        "    # MF part\n",
        "    mf_user_latent = Flatten()(MF_Embedding_User(user_input))\n",
        "    mf_item_latent = Flatten()(MF_Embedding_Item(item_input))\n",
        "    mf_vector = Multiply()([mf_user_latent, mf_item_latent]) # element-wise multiply\n",
        "\n",
        "    # MLP part \n",
        "    mlp_user_latent = Flatten()(MLP_Embedding_User(user_input))\n",
        "    mlp_item_latent = Flatten()(MLP_Embedding_Item(item_input))\n",
        "    mlp_vector = Concatenate()([mlp_user_latent, mlp_item_latent])\n",
        "    \n",
        "    for idx in range(1, num_layer):\n",
        "        layer = Dense(layers[idx], activation='relu', name=\"layer%d\" %idx)\n",
        "        mlp_vector = layer(mlp_vector)\n",
        "\n",
        "    predict_vector = Concatenate()([mf_vector, mlp_vector])\n",
        "    \n",
        "    # Final prediction layer\n",
        "    prediction = Dense(1, activation='relu', name = \"prediction\")(predict_vector)\n",
        "    \n",
        "    model = Model(inputs=[user_input, item_input], \n",
        "                  outputs=prediction)\n",
        "    \n",
        "    return model"
      ],
      "execution_count": null,
      "outputs": []
    },
    {
      "cell_type": "code",
      "metadata": {
        "id": "G8yn_6UJaW2K"
      },
      "source": [
        "model = get_model(unique_user_numb, unique_movie_numb)"
      ],
      "execution_count": null,
      "outputs": []
    },
    {
      "cell_type": "code",
      "metadata": {
        "id": "Js3IB2l3eKfK"
      },
      "source": [
        "model.compile(loss='mse',\n",
        "              optimizer=Adam(lr=0.001),\n",
        "              metrics=['mae']\n",
        "             )"
      ],
      "execution_count": null,
      "outputs": []
    },
    {
      "cell_type": "code",
      "metadata": {
        "id": "slburYFpP6zI"
      },
      "source": [
        "history = model.fit([masked[\"user_id\"], masked[\"movie_id\"]]\n",
        "                    , masked[\"value\"] \n",
        "                    , batch_size=128, epochs=10\n",
        "                    , validation_split=0.1\n",
        "                    , shuffle=True)"
      ],
      "execution_count": null,
      "outputs": []
    },
    {
      "cell_type": "code",
      "metadata": {
        "id": "hlyEsYlnQWxZ"
      },
      "source": [
        "predictions = model.predict([test_set[\"user_id\"], test_set[\"movie_id\"]]) * 5\n",
        "print(mean_absolute_error(test_set['rating'], predictions))\n",
        "print(math.sqrt(mean_squared_error(test_set['rating'], predictions)))"
      ],
      "execution_count": null,
      "outputs": []
    },
    {
      "cell_type": "code",
      "metadata": {
        "id": "hMdn6ylFw_wZ"
      },
      "source": [
        "mean_apk_enhanced = np.mean([apk_user(i,30) for i in masked.index.unique()])"
      ],
      "execution_count": null,
      "outputs": []
    },
    {
      "cell_type": "markdown",
      "metadata": {
        "id": "kjBAKWhg3Rbh"
      },
      "source": [
        "Making Recommendations"
      ]
    },
    {
      "cell_type": "code",
      "metadata": {
        "id": "5Pw3JNLj3nkS"
      },
      "source": [
        "movie_ids = np.array(list(set(ratings['movie_id'])))\n",
        "#for user 123\n",
        "user = np.array([123 for i in range(len(movie_ids))])\n",
        "predictions = model.predict([user, movie_ids])\n",
        "predictions = np.array([a[0] for a in predictions])\n",
        "recommended_movie_ids = (-predictions).argsort()[:10]"
      ],
      "execution_count": null,
      "outputs": []
    },
    {
      "cell_type": "code",
      "metadata": {
        "colab": {
          "base_uri": "https://localhost:8080/",
          "height": 343
        },
        "id": "ncHta0NnJRs8",
        "outputId": "72bada50-23d6-4d96-ff46-40181c9919fc"
      },
      "source": [
        "#movies already watched by user 123\n",
        "final_df[final_df['user_id']==123].sort_values(by='rating', ascending=False)[:10][['user_id','rating','movie_name','genre']]"
      ],
      "execution_count": null,
      "outputs": [
        {
          "output_type": "execute_result",
          "data": {
            "text/html": [
              "<div>\n",
              "<style scoped>\n",
              "    .dataframe tbody tr th:only-of-type {\n",
              "        vertical-align: middle;\n",
              "    }\n",
              "\n",
              "    .dataframe tbody tr th {\n",
              "        vertical-align: top;\n",
              "    }\n",
              "\n",
              "    .dataframe thead th {\n",
              "        text-align: right;\n",
              "    }\n",
              "</style>\n",
              "<table border=\"1\" class=\"dataframe\">\n",
              "  <thead>\n",
              "    <tr style=\"text-align: right;\">\n",
              "      <th></th>\n",
              "      <th>user_id</th>\n",
              "      <th>rating</th>\n",
              "      <th>movie_name</th>\n",
              "      <th>genre</th>\n",
              "    </tr>\n",
              "  </thead>\n",
              "  <tbody>\n",
              "    <tr>\n",
              "      <th>15695</th>\n",
              "      <td>123</td>\n",
              "      <td>5</td>\n",
              "      <td>Rain Man (1988)</td>\n",
              "      <td>Drama</td>\n",
              "    </tr>\n",
              "    <tr>\n",
              "      <th>15301</th>\n",
              "      <td>123</td>\n",
              "      <td>5</td>\n",
              "      <td>Heat (1995)</td>\n",
              "      <td>Action|Crime|Thriller</td>\n",
              "    </tr>\n",
              "    <tr>\n",
              "      <th>15711</th>\n",
              "      <td>123</td>\n",
              "      <td>5</td>\n",
              "      <td>Forrest Gump (1994)</td>\n",
              "      <td>Comedy|Romance|War</td>\n",
              "    </tr>\n",
              "    <tr>\n",
              "      <th>15307</th>\n",
              "      <td>123</td>\n",
              "      <td>5</td>\n",
              "      <td>Deer Hunter, The (1978)</td>\n",
              "      <td>Drama|War</td>\n",
              "    </tr>\n",
              "    <tr>\n",
              "      <th>15310</th>\n",
              "      <td>123</td>\n",
              "      <td>5</td>\n",
              "      <td>Time to Kill, A (1996)</td>\n",
              "      <td>Drama</td>\n",
              "    </tr>\n",
              "    <tr>\n",
              "      <th>15312</th>\n",
              "      <td>123</td>\n",
              "      <td>5</td>\n",
              "      <td>One Flew Over the Cuckoo's Nest (1975)</td>\n",
              "      <td>Drama</td>\n",
              "    </tr>\n",
              "    <tr>\n",
              "      <th>15324</th>\n",
              "      <td>123</td>\n",
              "      <td>5</td>\n",
              "      <td>Silence of the Lambs, The (1991)</td>\n",
              "      <td>Drama|Thriller</td>\n",
              "    </tr>\n",
              "    <tr>\n",
              "      <th>15524</th>\n",
              "      <td>123</td>\n",
              "      <td>5</td>\n",
              "      <td>Braveheart (1995)</td>\n",
              "      <td>Action|Drama|War</td>\n",
              "    </tr>\n",
              "    <tr>\n",
              "      <th>15504</th>\n",
              "      <td>123</td>\n",
              "      <td>5</td>\n",
              "      <td>Bottle Rocket (1996)</td>\n",
              "      <td>Comedy</td>\n",
              "    </tr>\n",
              "    <tr>\n",
              "      <th>15841</th>\n",
              "      <td>123</td>\n",
              "      <td>5</td>\n",
              "      <td>True Romance (1993)</td>\n",
              "      <td>Action|Crime|Romance</td>\n",
              "    </tr>\n",
              "  </tbody>\n",
              "</table>\n",
              "</div>"
            ],
            "text/plain": [
              "       user_id  ...                  genre\n",
              "15695      123  ...                  Drama\n",
              "15301      123  ...  Action|Crime|Thriller\n",
              "15711      123  ...     Comedy|Romance|War\n",
              "15307      123  ...              Drama|War\n",
              "15310      123  ...                  Drama\n",
              "15312      123  ...                  Drama\n",
              "15324      123  ...         Drama|Thriller\n",
              "15524      123  ...       Action|Drama|War\n",
              "15504      123  ...                 Comedy\n",
              "15841      123  ...   Action|Crime|Romance\n",
              "\n",
              "[10 rows x 4 columns]"
            ]
          },
          "metadata": {
            "tags": []
          },
          "execution_count": 71
        }
      ]
    },
    {
      "cell_type": "code",
      "metadata": {
        "colab": {
          "base_uri": "https://localhost:8080/",
          "height": 343
        },
        "id": "3zCvuF38J__0",
        "outputId": "3e59e133-a69d-43e0-ec78-38e9bd9d2f09"
      },
      "source": [
        "#movies recommended to user 123\n",
        "movies[movies['movie_id'].isin(recommended_movie_ids)]"
      ],
      "execution_count": null,
      "outputs": [
        {
          "output_type": "execute_result",
          "data": {
            "text/html": [
              "<div>\n",
              "<style scoped>\n",
              "    .dataframe tbody tr th:only-of-type {\n",
              "        vertical-align: middle;\n",
              "    }\n",
              "\n",
              "    .dataframe tbody tr th {\n",
              "        vertical-align: top;\n",
              "    }\n",
              "\n",
              "    .dataframe thead th {\n",
              "        text-align: right;\n",
              "    }\n",
              "</style>\n",
              "<table border=\"1\" class=\"dataframe\">\n",
              "  <thead>\n",
              "    <tr style=\"text-align: right;\">\n",
              "      <th></th>\n",
              "      <th>movie_id</th>\n",
              "      <th>movie_name</th>\n",
              "      <th>genre</th>\n",
              "    </tr>\n",
              "  </thead>\n",
              "  <tbody>\n",
              "    <tr>\n",
              "      <th>48</th>\n",
              "      <td>49</td>\n",
              "      <td>When Night Is Falling (1995)</td>\n",
              "      <td>Drama|Romance</td>\n",
              "    </tr>\n",
              "    <tr>\n",
              "      <th>250</th>\n",
              "      <td>253</td>\n",
              "      <td>Interview with the Vampire (1994)</td>\n",
              "      <td>Drama|Horror</td>\n",
              "    </tr>\n",
              "    <tr>\n",
              "      <th>306</th>\n",
              "      <td>309</td>\n",
              "      <td>Red Firecracker, Green Firecracker (1994)</td>\n",
              "      <td>Drama</td>\n",
              "    </tr>\n",
              "    <tr>\n",
              "      <th>509</th>\n",
              "      <td>513</td>\n",
              "      <td>Radioland Murders (1994)</td>\n",
              "      <td>Comedy|Mystery|Romance</td>\n",
              "    </tr>\n",
              "    <tr>\n",
              "      <th>792</th>\n",
              "      <td>802</td>\n",
              "      <td>Phenomenon (1996)</td>\n",
              "      <td>Drama|Romance</td>\n",
              "    </tr>\n",
              "    <tr>\n",
              "      <th>832</th>\n",
              "      <td>843</td>\n",
              "      <td>Lotto Land (1995)</td>\n",
              "      <td>Drama</td>\n",
              "    </tr>\n",
              "    <tr>\n",
              "      <th>1052</th>\n",
              "      <td>1066</td>\n",
              "      <td>Shall We Dance? (1937)</td>\n",
              "      <td>Comedy|Musical|Romance</td>\n",
              "    </tr>\n",
              "    <tr>\n",
              "      <th>1092</th>\n",
              "      <td>1108</td>\n",
              "      <td>Prerokbe Ognja (1995)</td>\n",
              "      <td>Documentary</td>\n",
              "    </tr>\n",
              "    <tr>\n",
              "      <th>2240</th>\n",
              "      <td>2309</td>\n",
              "      <td>Inheritors, The (Die Siebtelbauern) (1998)</td>\n",
              "      <td>Drama</td>\n",
              "    </tr>\n",
              "    <tr>\n",
              "      <th>2629</th>\n",
              "      <td>2698</td>\n",
              "      <td>Zone 39 (1997)</td>\n",
              "      <td>Sci-Fi</td>\n",
              "    </tr>\n",
              "  </tbody>\n",
              "</table>\n",
              "</div>"
            ],
            "text/plain": [
              "      movie_id  ...                   genre\n",
              "48          49  ...           Drama|Romance\n",
              "250        253  ...            Drama|Horror\n",
              "306        309  ...                   Drama\n",
              "509        513  ...  Comedy|Mystery|Romance\n",
              "792        802  ...           Drama|Romance\n",
              "832        843  ...                   Drama\n",
              "1052      1066  ...  Comedy|Musical|Romance\n",
              "1092      1108  ...             Documentary\n",
              "2240      2309  ...                   Drama\n",
              "2629      2698  ...                  Sci-Fi\n",
              "\n",
              "[10 rows x 3 columns]"
            ]
          },
          "metadata": {
            "tags": []
          },
          "execution_count": 73
        }
      ]
    }
  ]
}