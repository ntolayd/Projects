{
  "nbformat": 4,
  "nbformat_minor": 0,
  "metadata": {
    "colab": {
      "name": "SGD_rec.ipynb",
      "provenance": [],
      "authorship_tag": "ABX9TyPgMESKRJ+RaVjD7RABAAWj",
      "include_colab_link": true
    },
    "kernelspec": {
      "name": "python3",
      "display_name": "Python 3"
    },
    "language_info": {
      "name": "python"
    }
  },
  "cells": [
    {
      "cell_type": "markdown",
      "metadata": {
        "id": "view-in-github",
        "colab_type": "text"
      },
      "source": [
        "<a href=\"https://colab.research.google.com/github/ntolayd/Projects/blob/main/Recommendation_Engines/Reccomendation_Engine_Matrix_Fact.ipynb\" target=\"_parent\"><img src=\"https://colab.research.google.com/assets/colab-badge.svg\" alt=\"Open In Colab\"/></a>"
      ]
    },
    {
      "cell_type": "code",
      "metadata": {
        "id": "ySX49SZYNENR"
      },
      "source": [
        "import pandas as pd\n",
        "import matplotlib.pyplot as plt\n",
        "import math\n",
        "import numpy as np\n",
        "import seaborn as sns\n",
        "import warnings\n",
        "warnings.filterwarnings('ignore')"
      ],
      "execution_count": 77,
      "outputs": []
    },
    {
      "cell_type": "code",
      "metadata": {
        "colab": {
          "base_uri": "https://localhost:8080/"
        },
        "id": "CeMekkmWNE6T",
        "outputId": "cc485b58-7f9a-4a21-f361-0170fff9565f"
      },
      "source": [
        "from google.colab import drive\n",
        "drive.mount('/content/gdrive')"
      ],
      "execution_count": 78,
      "outputs": [
        {
          "output_type": "stream",
          "text": [
            "Drive already mounted at /content/gdrive; to attempt to forcibly remount, call drive.mount(\"/content/gdrive\", force_remount=True).\n"
          ],
          "name": "stdout"
        }
      ]
    },
    {
      "cell_type": "code",
      "metadata": {
        "colab": {
          "base_uri": "https://localhost:8080/"
        },
        "id": "MhRmnCdpNKhI",
        "outputId": "396b3989-f5d6-4545-a416-803ffd88913b"
      },
      "source": [
        "!unzip \"/content/gdrive/My Drive/ml-1m.zip\""
      ],
      "execution_count": 3,
      "outputs": [
        {
          "output_type": "stream",
          "text": [
            "Archive:  /content/gdrive/My Drive/ml-1m.zip\n",
            "   creating: ml-1m/\n",
            "  inflating: ml-1m/movies.dat        \n",
            "  inflating: ml-1m/ratings.dat       \n",
            "  inflating: ml-1m/README            \n",
            "  inflating: ml-1m/users.dat         \n"
          ],
          "name": "stdout"
        }
      ]
    },
    {
      "cell_type": "code",
      "metadata": {
        "id": "_-ThfjPlyHh7"
      },
      "source": [
        "movies = pd.read_csv(\"ml-1m/movies.dat\", sep='::', engine='python', header=None)\n",
        "movies.columns = ['movie_id', 'movie_name', 'genre']\n",
        "ratings = pd.read_csv(\"ml-1m/ratings.dat\", sep='::', engine='python', header=None)\n",
        "ratings.columns=['user_id', 'movie_id', 'rating','timestamp']"
      ],
      "execution_count": 79,
      "outputs": []
    },
    {
      "cell_type": "code",
      "metadata": {
        "id": "Mg76dOro3-JM"
      },
      "source": [
        "#converting to user - item matrix\n",
        "train_matrix = pd.pivot_table(ratings, index='user_id', columns='movie_id', values='rating')"
      ],
      "execution_count": 80,
      "outputs": []
    },
    {
      "cell_type": "code",
      "metadata": {
        "id": "vpdYzOh5BinM"
      },
      "source": [
        "arr = train_matrix.copy().values"
      ],
      "execution_count": 81,
      "outputs": []
    },
    {
      "cell_type": "code",
      "metadata": {
        "id": "q937tGmX-70d"
      },
      "source": [
        "#replacing random selected values with 99 for validation\n",
        "def replace(orig, percentage=0.1):\n",
        "  \"\"\"\n",
        "  Replaces 'percentage'% of the original values in 'orig' with 99's\n",
        "  :param orig: original data array\n",
        "  :param percentage: percentage of values to replace (0<percentage<1)\n",
        "  \"\"\"\n",
        "  np.random.seed(35)\n",
        "  new_data = orig.copy()\n",
        "  rated = np.where(~np.isnan(arr))\n",
        "  n_rated = len(rated[0])\n",
        "  idx = np.random.choice(n_rated, size=int(percentage*n_rated), replace=False)\n",
        "  new_data[rated[0][idx], rated[1][idx]] = 99\n",
        "  return new_data, (rated[0][idx], rated[1][idx])"
      ],
      "execution_count": 82,
      "outputs": []
    },
    {
      "cell_type": "code",
      "metadata": {
        "id": "diWKlUuovXmS"
      },
      "source": [
        "user_ratings,idx = replace(arr)"
      ],
      "execution_count": 83,
      "outputs": []
    },
    {
      "cell_type": "code",
      "metadata": {
        "id": "tHQxQFTn-otE"
      },
      "source": [
        "#initializing latent factors\n",
        "n_latent_factors = 5\n",
        "\n",
        "latent_user_preferences = np.random.random((train_matrix.shape[0], n_latent_factors))\n",
        "latent_item_features = np.random.random((train_matrix.shape[1], n_latent_factors))"
      ],
      "execution_count": 84,
      "outputs": []
    },
    {
      "cell_type": "code",
      "metadata": {
        "id": "CxPU4n9JvZoF"
      },
      "source": [
        "#the functions for SGD\n",
        "def predict_rating(user_id, item_id):\n",
        "    \"\"\" Predict a rating given a user_id and an item_id.\n",
        "    \"\"\"\n",
        "    user_preference = latent_user_preferences[train_matrix.index.get_loc(user_id)]\n",
        "    item_preference = latent_item_features[train_matrix.columns.get_loc(item_id)]\n",
        "    return user_preference.dot(item_preference)\n",
        "\n",
        "\n",
        "def train(user_id, item_id, rating, alpha=0.0004):\n",
        "    #print(item_id)\n",
        "    predicted_rating = predict_rating(user_id, item_id)\n",
        "    err =  predicted_rating - rating\n",
        "    #print(err)\n",
        "    user_pref_values = latent_user_preferences[train_matrix.index.get_loc(user_id)]\n",
        "    latent_user_preferences[train_matrix.index.get_loc(user_id)] -= alpha * err * latent_item_features[train_matrix.columns.get_loc(item_id)]\n",
        "    latent_item_features[train_matrix.columns.get_loc(item_id)] -= alpha * err * user_pref_values\n",
        "    return abs(err)\n",
        "    \n",
        "\n",
        "def sgd(iterations):\n",
        "    \"\"\" Iterate over all users and all items and train for \n",
        "        a certain number of iterations\n",
        "    \"\"\"\n",
        "    rmse_history = []\n",
        "    mae_history = []\n",
        "    for iteration in range(iterations):\n",
        "        error = []\n",
        "        for user_id in train_matrix.index:\n",
        "            for item_id in train_matrix.columns:\n",
        "                rating = user_ratings[train_matrix.index.get_loc(user_id), train_matrix.columns.get_loc(item_id)]\n",
        "                if rating > 0 and rating < 6:\n",
        "                    err = train(user_id, item_id, rating)\n",
        "                    error.append(err)\n",
        "        rmse = np.sqrt((np.array(error) ** 2).mean())   \n",
        "        mae = np.mean(error)\n",
        "        print('Iteration %d/%d:\\tRMSE=%.6f,\\tMAE=%.6f' % (iteration, iterations, rmse, mae))\n",
        "        rmse_history.append(rmse)\n",
        "        mae_history.append(mae)\n",
        "    return rmse_history, mae_history\n"
      ],
      "execution_count": 85,
      "outputs": []
    },
    {
      "cell_type": "code",
      "metadata": {
        "colab": {
          "base_uri": "https://localhost:8080/"
        },
        "id": "L-gBQN4c2wu8",
        "outputId": "f5450bdd-4c2d-4b6d-cc04-b60ae3e8e402"
      },
      "source": [
        "rmse_hist, mae_hist = sgd(25)"
      ],
      "execution_count": 86,
      "outputs": [
        {
          "output_type": "stream",
          "text": [
            "Iteration 0/25:\tRMSE=2.121819,\tMAE=1.850577\n",
            "Iteration 1/25:\tRMSE=1.493610,\tMAE=1.227233\n",
            "Iteration 2/25:\tRMSE=1.270673,\tMAE=1.022397\n",
            "Iteration 3/25:\tRMSE=1.164711,\tMAE=0.929950\n",
            "Iteration 4/25:\tRMSE=1.101448,\tMAE=0.876200\n",
            "Iteration 5/25:\tRMSE=1.059824,\tMAE=0.841518\n",
            "Iteration 6/25:\tRMSE=1.030655,\tMAE=0.817554\n",
            "Iteration 7/25:\tRMSE=1.009248,\tMAE=0.800138\n",
            "Iteration 8/25:\tRMSE=0.992972,\tMAE=0.787006\n",
            "Iteration 9/25:\tRMSE=0.980251,\tMAE=0.776790\n",
            "Iteration 10/25:\tRMSE=0.970081,\tMAE=0.768651\n",
            "Iteration 11/25:\tRMSE=0.961801,\tMAE=0.762033\n",
            "Iteration 12/25:\tRMSE=0.954954,\tMAE=0.756558\n",
            "Iteration 13/25:\tRMSE=0.949218,\tMAE=0.751963\n",
            "Iteration 14/25:\tRMSE=0.944357,\tMAE=0.748055\n",
            "Iteration 15/25:\tRMSE=0.940197,\tMAE=0.744703\n",
            "Iteration 16/25:\tRMSE=0.936607,\tMAE=0.741805\n",
            "Iteration 17/25:\tRMSE=0.933485,\tMAE=0.739278\n",
            "Iteration 18/25:\tRMSE=0.930751,\tMAE=0.737061\n",
            "Iteration 19/25:\tRMSE=0.928341,\tMAE=0.735109\n",
            "Iteration 20/25:\tRMSE=0.926206,\tMAE=0.733376\n",
            "Iteration 21/25:\tRMSE=0.924305,\tMAE=0.731832\n",
            "Iteration 22/25:\tRMSE=0.922603,\tMAE=0.730448\n",
            "Iteration 23/25:\tRMSE=0.921074,\tMAE=0.729204\n",
            "Iteration 24/25:\tRMSE=0.919693,\tMAE=0.728080\n"
          ],
          "name": "stdout"
        }
      ]
    },
    {
      "cell_type": "code",
      "metadata": {
        "colab": {
          "base_uri": "https://localhost:8080/",
          "height": 459
        },
        "id": "82kwB-Y-uiQc",
        "outputId": "607ffa76-057a-4c50-da47-ddfdf64a9c07"
      },
      "source": [
        "plt.figure(figsize=(10,7))\n",
        "plt.plot(rmse_hist, label='RMSE', color='blue', linewidth=3)\n",
        "plt.plot(mae_hist, label='MAE', color='red', linewidth=3)\n",
        "plt.xlabel('Iteration')\n",
        "plt.ylabel('Error')\n",
        "plt.legend()"
      ],
      "execution_count": 91,
      "outputs": [
        {
          "output_type": "execute_result",
          "data": {
            "text/plain": [
              "<matplotlib.legend.Legend at 0x7f0b73ab9b90>"
            ]
          },
          "metadata": {
            "tags": []
          },
          "execution_count": 91
        },
        {
          "output_type": "display_data",
          "data": {
            "image/png": "[encoded data removed]",
            "text/plain": [
              "<Figure size 720x504 with 1 Axes>"
            ]
          },
          "metadata": {
            "tags": [],
            "needs_background": "light"
          }
        }
      ]
    },
    {
      "cell_type": "code",
      "metadata": {
        "colab": {
          "base_uri": "https://localhost:8080/"
        },
        "id": "hwgvV7g_Axdw",
        "outputId": "da877f9f-a7e2-4c7b-b32f-e2cc3d859688"
      },
      "source": [
        "#prediction for validation set\n",
        "def predict_rating(user_id, item_id):\n",
        "    \"\"\" Predict a rating given a user_id and an item_id.\n",
        "    \"\"\"\n",
        "    user_preference = latent_user_preferences[user_id]\n",
        "    item_preference = latent_item_features[item_id]\n",
        "    return user_preference.dot(item_preference)\n",
        "\n",
        "\n",
        "error_list = []\n",
        "for i,j in zip(idx[0],idx[1]):\n",
        "  error_list.append(predict_rating(i,j) - arr[i,j])\n",
        "\n",
        "final_mse = np.sqrt((np.array(error_list)**2).mean())\n",
        "print(final_mse)"
      ],
      "execution_count": 92,
      "outputs": [
        {
          "output_type": "stream",
          "text": [
            "0.9303892437356076\n"
          ],
          "name": "stdout"
        }
      ]
    },
    {
      "cell_type": "code",
      "metadata": {
        "id": "Mktlm1wTcDQA"
      },
      "source": [
        "#prediction for nans\n",
        "np.where(np.isnan(arr))\n",
        "\n",
        "for i,j in zip(np.where(np.isnan(arr))[0], np.where(np.isnan(arr))[1]):\n",
        "  arr[i,j] = predict_rating(i,j)\n"
      ],
      "execution_count": 93,
      "outputs": []
    },
    {
      "cell_type": "markdown",
      "metadata": {
        "id": "NCne8CFIW3eB"
      },
      "source": [
        "RECOMMENDATION"
      ]
    },
    {
      "cell_type": "code",
      "metadata": {
        "id": "cWC0XsUKcDKG"
      },
      "source": [
        "rec_matrix = pd.DataFrame(arr, columns=train_matrix.columns, index=train_matrix.index) "
      ],
      "execution_count": 94,
      "outputs": []
    },
    {
      "cell_type": "code",
      "metadata": {
        "id": "JTdC29l7eEBr"
      },
      "source": [
        "#setting ratings to 0 for the movies that users have seen before\n",
        "rec_matrix = rec_matrix * train_matrix.isna()"
      ],
      "execution_count": 95,
      "outputs": []
    },
    {
      "cell_type": "code",
      "metadata": {
        "id": "DnrQ9FK8cC_Y"
      },
      "source": [
        "def recommender(user_id, prediction_matrix, num_of_rec = 10):\n",
        "\n",
        "    predictions = prediction_matrix.loc[user_id].values\n",
        "\n",
        "    rating_df   = pd.DataFrame({'movie_id': list(train_matrix.columns), \n",
        "                               'rating': predictions})\n",
        "    final_df = rating_df.merge(movies, left_on='movie_id', right_on='movie_id').drop(['movie_id','genre'], axis=1)\\\n",
        "              .set_index('movie_name').sort_values('rating', ascending=False)[:num_of_rec]\n",
        "    return final_df\n"
      ],
      "execution_count": 96,
      "outputs": []
    },
    {
      "cell_type": "code",
      "metadata": {
        "colab": {
          "base_uri": "https://localhost:8080/",
          "height": 225
        },
        "id": "ohkwlwXMYulf",
        "outputId": "b1566774-7fbf-40f3-9816-6f0e8eb8d80b"
      },
      "source": [
        "#the movies that user 123 has already watched\n",
        "recommender(123, train_matrix,5)"
      ],
      "execution_count": 100,
      "outputs": [
        {
          "output_type": "execute_result",
          "data": {
            "text/html": [
              "<div>\n",
              "<style scoped>\n",
              "    .dataframe tbody tr th:only-of-type {\n",
              "        vertical-align: middle;\n",
              "    }\n",
              "\n",
              "    .dataframe tbody tr th {\n",
              "        vertical-align: top;\n",
              "    }\n",
              "\n",
              "    .dataframe thead th {\n",
              "        text-align: right;\n",
              "    }\n",
              "</style>\n",
              "<table border=\"1\" class=\"dataframe\">\n",
              "  <thead>\n",
              "    <tr style=\"text-align: right;\">\n",
              "      <th></th>\n",
              "      <th>rating</th>\n",
              "    </tr>\n",
              "    <tr>\n",
              "      <th>movie_name</th>\n",
              "      <th></th>\n",
              "    </tr>\n",
              "  </thead>\n",
              "  <tbody>\n",
              "    <tr>\n",
              "      <th>Killing Fields, The (1984)</th>\n",
              "      <td>5.0</td>\n",
              "    </tr>\n",
              "    <tr>\n",
              "      <th>Mission, The (1986)</th>\n",
              "      <td>5.0</td>\n",
              "    </tr>\n",
              "    <tr>\n",
              "      <th>Heat (1995)</th>\n",
              "      <td>5.0</td>\n",
              "    </tr>\n",
              "    <tr>\n",
              "      <th>Saving Private Ryan (1998)</th>\n",
              "      <td>5.0</td>\n",
              "    </tr>\n",
              "    <tr>\n",
              "      <th>Schindler's List (1993)</th>\n",
              "      <td>5.0</td>\n",
              "    </tr>\n",
              "  </tbody>\n",
              "</table>\n",
              "</div>"
            ],
            "text/plain": [
              "                            rating\n",
              "movie_name                        \n",
              "Killing Fields, The (1984)     5.0\n",
              "Mission, The (1986)            5.0\n",
              "Heat (1995)                    5.0\n",
              "Saving Private Ryan (1998)     5.0\n",
              "Schindler's List (1993)        5.0"
            ]
          },
          "metadata": {
            "tags": []
          },
          "execution_count": 100
        }
      ]
    },
    {
      "cell_type": "code",
      "metadata": {
        "colab": {
          "base_uri": "https://localhost:8080/",
          "height": 225
        },
        "id": "GlkU22dfgEZC",
        "outputId": "b3c74230-c5de-4b06-e3ce-96bcdce87ed0"
      },
      "source": [
        "#the movies that user 123 has already watched\n",
        "recommender(123, rec_matrix,5)"
      ],
      "execution_count": 101,
      "outputs": [
        {
          "output_type": "execute_result",
          "data": {
            "text/html": [
              "<div>\n",
              "<style scoped>\n",
              "    .dataframe tbody tr th:only-of-type {\n",
              "        vertical-align: middle;\n",
              "    }\n",
              "\n",
              "    .dataframe tbody tr th {\n",
              "        vertical-align: top;\n",
              "    }\n",
              "\n",
              "    .dataframe thead th {\n",
              "        text-align: right;\n",
              "    }\n",
              "</style>\n",
              "<table border=\"1\" class=\"dataframe\">\n",
              "  <thead>\n",
              "    <tr style=\"text-align: right;\">\n",
              "      <th></th>\n",
              "      <th>rating</th>\n",
              "    </tr>\n",
              "    <tr>\n",
              "      <th>movie_name</th>\n",
              "      <th></th>\n",
              "    </tr>\n",
              "  </thead>\n",
              "  <tbody>\n",
              "    <tr>\n",
              "      <th>400 Blows, The (Les Quatre cents coups) (1959)</th>\n",
              "      <td>4.399316</td>\n",
              "    </tr>\n",
              "    <tr>\n",
              "      <th>Seven Samurai (The Magnificent Seven) (Shichinin no samurai) (1954)</th>\n",
              "      <td>4.358311</td>\n",
              "    </tr>\n",
              "    <tr>\n",
              "      <th>Wallace &amp; Gromit: The Best of Aardman Animation (1996)</th>\n",
              "      <td>4.356541</td>\n",
              "    </tr>\n",
              "    <tr>\n",
              "      <th>Close Shave, A (1995)</th>\n",
              "      <td>4.350454</td>\n",
              "    </tr>\n",
              "    <tr>\n",
              "      <th>Big Sleep, The (1946)</th>\n",
              "      <td>4.334967</td>\n",
              "    </tr>\n",
              "  </tbody>\n",
              "</table>\n",
              "</div>"
            ],
            "text/plain": [
              "                                                      rating\n",
              "movie_name                                                  \n",
              "400 Blows, The (Les Quatre cents coups) (1959)      4.399316\n",
              "Seven Samurai (The Magnificent Seven) (Shichini...  4.358311\n",
              "Wallace & Gromit: The Best of Aardman Animation...  4.356541\n",
              "Close Shave, A (1995)                               4.350454\n",
              "Big Sleep, The (1946)                               4.334967"
            ]
          },
          "metadata": {
            "tags": []
          },
          "execution_count": 101
        }
      ]
    },
    {
      "cell_type": "code",
      "metadata": {
        "id": "dESvXd6Pvv_m"
      },
      "source": [
        ""
      ],
      "execution_count": null,
      "outputs": []
    }
  ]
}