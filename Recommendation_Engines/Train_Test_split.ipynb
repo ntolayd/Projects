{
  "nbformat": 4,
  "nbformat_minor": 0,
  "metadata": {
    "colab": {
      "name": "Train_Test_split.ipynb",
      "provenance": [],
      "authorship_tag": "ABX9TyMs0OnZfwLFHdTi0NAzuFZ9",
      "include_colab_link": true
    },
    "kernelspec": {
      "name": "python3",
      "display_name": "Python 3"
    },
    "language_info": {
      "name": "python"
    }
  },
  "cells": [
    {
      "cell_type": "markdown",
      "metadata": {
        "id": "view-in-github",
        "colab_type": "text"
      },
      "source": [
        "<a href=\"https://colab.research.google.com/github/ntolayd/Projects/blob/main/Recommendation_Engines/Train_Test_split.ipynb\" target=\"_parent\"><img src=\"https://colab.research.google.com/assets/colab-badge.svg\" alt=\"Open In Colab\"/></a>"
      ]
    },
    {
      "cell_type": "code",
      "metadata": {
        "colab": {
          "base_uri": "https://localhost:8080/"
        },
        "id": "8BJxgBHDIrXG",
        "outputId": "8b01a105-7a0a-4104-c5fc-9b32f792e1ae"
      },
      "source": [
        "from google.colab import drive\n",
        "drive.mount('/content/gdrive')"
      ],
      "execution_count": 1,
      "outputs": [
        {
          "output_type": "stream",
          "text": [
            "Mounted at /content/gdrive\n"
          ],
          "name": "stdout"
        }
      ]
    },
    {
      "cell_type": "code",
      "metadata": {
        "colab": {
          "base_uri": "https://localhost:8080/"
        },
        "id": "pf-SpsJZIzTF",
        "outputId": "33221707-af69-4d86-919f-85a8fb479a61"
      },
      "source": [
        "!unzip \"/content/gdrive/My Drive/ml-1m.zip\""
      ],
      "execution_count": 2,
      "outputs": [
        {
          "output_type": "stream",
          "text": [
            "Archive:  /content/gdrive/My Drive/ml-1m.zip\n",
            "   creating: ml-1m/\n",
            "  inflating: ml-1m/movies.dat        \n",
            "  inflating: ml-1m/ratings.dat       \n",
            "  inflating: ml-1m/README            \n",
            "  inflating: ml-1m/users.dat         \n"
          ],
          "name": "stdout"
        }
      ]
    },
    {
      "cell_type": "code",
      "metadata": {
        "id": "enaCkopmI6jF"
      },
      "source": [
        "import pandas as pd\n",
        "import numpy as np\n",
        "import pickle"
      ],
      "execution_count": 17,
      "outputs": []
    },
    {
      "cell_type": "code",
      "metadata": {
        "id": "DKbJuq26JCne"
      },
      "source": [
        "movies = pd.read_csv(\"ml-1m/movies.dat\", sep='::', engine='python', header=None)\n",
        "movies.columns = ['movie_id', 'movie_name', 'genre']\n",
        "ratings = pd.read_csv(\"ml-1m/ratings.dat\", sep='::', engine='python', header=None)\n",
        "ratings.columns=['user_id', 'movie_id', 'rating','timestamp']\n",
        "ratings.drop('timestamp',axis=1, inplace=True)"
      ],
      "execution_count": 5,
      "outputs": []
    },
    {
      "cell_type": "code",
      "metadata": {
        "id": "JKIMDVSvJC06"
      },
      "source": [
        "#converting to user - item matrix\n",
        "train_matrix = pd.pivot_table(ratings, index='user_id', columns='movie_id', values='rating')\n",
        "arr = train_matrix.copy().values"
      ],
      "execution_count": 7,
      "outputs": []
    },
    {
      "cell_type": "code",
      "metadata": {
        "id": "U_9EgwPzJHi3"
      },
      "source": [
        "#replacing random selected values with 0 for validation\n",
        "def replace(orig, percentage=0.2):\n",
        "  \"\"\"\n",
        "  Replaces 'percentage'% of the original values in 'orig' with 0's\n",
        "  :param orig: original data array\n",
        "  :param percentage: percentage of values to replace (0<percentage<1)\n",
        "  \"\"\"\n",
        "  np.random.seed(35)\n",
        "  new_data = orig.copy()\n",
        "  rated = np.where(~np.isnan(arr))\n",
        "  n_rated = len(rated[0])\n",
        "  idx = np.random.choice(n_rated, size=int(percentage*n_rated), replace=False)\n",
        "  new_data[rated[0][idx], rated[1][idx]] = 0\n",
        "  return new_data, (rated[0][idx], rated[1][idx])"
      ],
      "execution_count": 8,
      "outputs": []
    },
    {
      "cell_type": "code",
      "metadata": {
        "id": "vBC8954YJJ1t"
      },
      "source": [
        "masked, masked_idx = replace(arr)\n",
        "masked = pd.DataFrame(masked, index=train_matrix.index, columns=train_matrix.columns)"
      ],
      "execution_count": 9,
      "outputs": []
    },
    {
      "cell_type": "code",
      "metadata": {
        "id": "3R80705oJMEE"
      },
      "source": [
        "masked_melted = pd.melt(masked.reset_index(), id_vars=['user_id']).dropna()"
      ],
      "execution_count": 10,
      "outputs": []
    },
    {
      "cell_type": "code",
      "metadata": {
        "id": "4xTY9hEUJO8S"
      },
      "source": [
        "test_set = masked_melted[masked_melted['value'] == 0]\n",
        "test_set = pd.merge(test_set, ratings, on=['user_id', 'movie_id'])"
      ],
      "execution_count": 11,
      "outputs": []
    },
    {
      "cell_type": "code",
      "metadata": {
        "id": "B2HEP9x0Jh4V"
      },
      "source": [
        "#writing files to google drive\n",
        "masked.to_csv('masked.csv')\n",
        "!cp masked.csv \"gdrive/My Drive/\"\n",
        "\n",
        "masked_melted.to_csv('masked_melted.csv')\n",
        "!cp masked_melted.csv \"gdrive/My Drive/\"\n",
        "\n",
        "test_set.to_csv('test_set.csv')\n",
        "!cp test_set.csv \"gdrive/My Drive/\"\n",
        "\n",
        "with open('masked_idx.pkl', 'wb') as fid:\n",
        "     pickle.dump(masked_idx, fid)\n",
        "!cp masked_idx.pkl \"gdrive/My Drive/\""
      ],
      "execution_count": 20,
      "outputs": []
    }
  ]
}