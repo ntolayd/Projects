{
  "nbformat": 4,
  "nbformat_minor": 0,
  "metadata": {
    "colab": {
      "name": "rbm_rec.ipynb",
      "provenance": [],
      "collapsed_sections": [],
      "authorship_tag": "ABX9TyNNaGSqpEbYsavk5Ti8kmK/",
      "include_colab_link": true
    },
    "kernelspec": {
      "name": "python3",
      "display_name": "Python 3"
    },
    "language_info": {
      "name": "python"
    },
    "accelerator": "GPU"
  },
  "cells": [
    {
      "cell_type": "markdown",
      "metadata": {
        "id": "view-in-github",
        "colab_type": "text"
      },
      "source": [
        "<a href=\"https://colab.research.google.com/github/ntolayd/Projects/blob/main/Recommendation_Engines/RBM.ipynb\" target=\"_parent\"><img src=\"https://colab.research.google.com/assets/colab-badge.svg\" alt=\"Open In Colab\"/></a>"
      ]
    },
    {
      "cell_type": "markdown",
      "metadata": {
        "id": "VrVkuaC6IwuE"
      },
      "source": [
        "reference:\n",
        "\n",
        "https://github.com/IBM/dl-learning-path-assets/blob/main/unsupervised-deeplearning/notebooks/CollabortiveFilteringUsingRBM.ipynb"
      ]
    },
    {
      "cell_type": "code",
      "metadata": {
        "colab": {
          "base_uri": "https://localhost:8080/"
        },
        "id": "oH4Bz94SVC5U",
        "outputId": "143ee4dd-18ff-42fc-ae44-db31f2e8b2eb"
      },
      "source": [
        "from google.colab import drive\n",
        "drive.mount('/content/gdrive')"
      ],
      "execution_count": 1,
      "outputs": [
        {
          "output_type": "stream",
          "text": [
            "Mounted at /content/gdrive\n"
          ],
          "name": "stdout"
        }
      ]
    },
    {
      "cell_type": "code",
      "metadata": {
        "id": "mYwwzPqAVOVh"
      },
      "source": [
        "import pandas as pd\n",
        "import matplotlib.pyplot as plt\n",
        "import math\n",
        "import numpy as np\n",
        "import seaborn as sns\n",
        "import warnings\n",
        "import pickle\n",
        "import tensorflow as tf\n",
        "from tqdm import tqdm\n",
        "warnings.filterwarnings('ignore')"
      ],
      "execution_count": 2,
      "outputs": []
    },
    {
      "cell_type": "code",
      "metadata": {
        "id": "vjaozwsjVOS9",
        "colab": {
          "base_uri": "https://localhost:8080/"
        },
        "outputId": "3a96f0b2-9241-4394-c856-d3063cc4a7c9"
      },
      "source": [
        "#data loading\n",
        "!unzip \"/content/gdrive/My Drive/ml-1m.zip\"\n",
        "masked = pd.read_csv('/content/gdrive/MyDrive/masked.csv')\n",
        "test_set = pd.read_csv('/content/gdrive/MyDrive/test_set.csv')\n",
        "with open(r'/content/gdrive/MyDrive/masked_idx.pkl', \"rb\") as input_file:\n",
        "  masked_idx = pickle.load(input_file)\n",
        "movies = pd.read_csv(\"ml-1m/movies.dat\", sep='::', engine='python', header=None)\n",
        "movies.columns = ['movie_id', 'movie_name', 'genre']\n",
        "ratings = pd.read_csv(\"ml-1m/ratings.dat\", sep='::', engine='python', header=None)\n",
        "ratings.columns=['user_id', 'movie_id', 'rating','timestamp']"
      ],
      "execution_count": 20,
      "outputs": [
        {
          "output_type": "stream",
          "text": [
            "Archive:  /content/gdrive/My Drive/ml-1m.zip\n",
            "replace ml-1m/movies.dat? [y]es, [n]o, [A]ll, [N]one, [r]ename: A\n",
            "  inflating: ml-1m/movies.dat        \n",
            "  inflating: ml-1m/ratings.dat       \n",
            "  inflating: ml-1m/README            \n",
            "  inflating: ml-1m/users.dat         \n"
          ],
          "name": "stdout"
        }
      ]
    },
    {
      "cell_type": "code",
      "metadata": {
        "id": "1NED3yA5VOQO"
      },
      "source": [
        "masked = masked.set_index('user_id')\n",
        "masked_arr = masked.copy().values"
      ],
      "execution_count": 21,
      "outputs": []
    },
    {
      "cell_type": "code",
      "metadata": {
        "id": "LuberKBvv4RU"
      },
      "source": [
        "#replacing all nans with 0 and normalizing ratings between 0 and 1\n",
        "masked_arr[np.isnan(masked_arr)] = 0\n",
        "masked_arr = masked_arr / 5"
      ],
      "execution_count": 22,
      "outputs": []
    },
    {
      "cell_type": "code",
      "metadata": {
        "id": "Ibx2Ymy5VOOF"
      },
      "source": [
        "#Defining Restricted Bottzmann Machine\n",
        "\n",
        "#number of unique movies as visible units\n",
        "visible_units = len(masked.columns)\n",
        "\n",
        "#Number of hidden units\n",
        "hidden_units = 256\n",
        "\n",
        "#initializing biases and weights\n",
        "visible_bias = tf.Variable(tf.zeros([visible_units], tf.float32))\n",
        "hidden_bias = tf.Variable(tf.zeros([hidden_units], tf.float32))\n",
        "weights = tf.Variable(tf.zeros([visible_units, hidden_units], tf.float32))\n",
        "\n",
        "#feedforward \n",
        "def feedforward(inp, weights, hidden_bias):\n",
        "  hidden_prob = tf.nn.sigmoid(tf.matmul([inp], weights) + hidden_bias) \n",
        "  hidden_state = tf.nn.relu(tf.sign(hidden_prob - tf.random.uniform(tf.shape(hidden_prob))))\n",
        "  return hidden_state\n",
        "\n",
        "#reconstruction the input layer\n",
        "def reconstruct(hidden_state, weights, visible_bias):\n",
        "  visible_prob =  tf.nn.sigmoid(tf.matmul(hidden_state, tf.transpose(weights)) + visible_bias)\n",
        "  visible_state = tf.nn.relu(tf.sign(visible_prob - tf.random.uniform(tf.shape(visible_prob))))\n",
        "  return visible_state[0]"
      ],
      "execution_count": 23,
      "outputs": []
    },
    {
      "cell_type": "code",
      "metadata": {
        "id": "bPIf9icdVOLE"
      },
      "source": [
        "#input layer\n",
        "inp = tf.zeros([visible_units], tf.float32)\n",
        "#hidden layer\n",
        "hidden_values = feedforward(inp, weights=weights, hidden_bias=hidden_bias)\n",
        "#visible output\n",
        "visible_values = reconstruct(hidden_values, weights=weights, visible_bias=visible_bias)"
      ],
      "execution_count": 24,
      "outputs": []
    },
    {
      "cell_type": "code",
      "metadata": {
        "id": "oj1IRpEDFTd3"
      },
      "source": [
        "visible_state = inp"
      ],
      "execution_count": 25,
      "outputs": []
    },
    {
      "cell_type": "code",
      "metadata": {
        "id": "7g_gzLUzVMSG",
        "colab": {
          "base_uri": "https://localhost:8080/",
          "height": 1000
        },
        "outputId": "4ff7cebd-2fe2-4dbf-f010-2b3ca62d0835"
      },
      "source": [
        "#Training\n",
        "epochs= 15\n",
        "batch_size=256\n",
        "errors = []\n",
        "final_weights = []\n",
        "K=1\n",
        "learning_rate=0.01\n",
        "\n",
        "training_data = tf.data.Dataset.from_tensor_slices((np.float32(masked_arr))).batch(batch_size)\n",
        "\n",
        "def error(v0_state, v1_state):\n",
        "    return tf.reduce_mean(tf.square(v0_state - v1_state))\n",
        "\n",
        "for epoch in tqdm(range(epochs)):\n",
        "  batch_number = 0\n",
        "  for batch_x in training_data:\n",
        "    for sample in range(len(batch_x)):\n",
        "      for k in range(K):\n",
        "        visible_state = batch_x[sample]\n",
        "        hidden_state= feedforward(visible_state, weights, hidden_bias)\n",
        "        visible1_state = reconstruct(hidden_state, weights, visible_bias)\n",
        "        hidden1_state = feedforward(visible1_state, weights, hidden_bias)\n",
        "\n",
        "        delta_weights = tf.matmul(tf.transpose([visible_state]), hidden_state) - tf.matmul(tf.transpose([visible1_state]), hidden1_state)\n",
        "\n",
        "        weights = weights + learning_rate * delta_weights\n",
        "        visible_bias = visible_bias + learning_rate * tf.reduce_mean(visible_state - visible1_state, 0)\n",
        "        hidden_bias = hidden_bias + learning_rate * tf.reduce_mean(hidden_state - hidden1_state, 0)\n",
        "\n",
        "        visible_state = visible1_state\n",
        "\n",
        "      if sample == len(batch_x)-1:\n",
        "        err = error(batch_x[sample], visible1_state)\n",
        "        final_weights.append(weights)\n",
        "        errors.append(err)\n",
        "    batch_number += 1\n",
        "\n",
        "plt.plot(errors)\n",
        "plt.ylabel('Error')\n",
        "plt.xlabel('Epoch')\n",
        "plt.show()"
      ],
      "execution_count": 28,
      "outputs": [
        {
          "output_type": "stream",
          "text": [
            "\n",
            "\n",
            "\n",
            "  0%|          | 0/15 [00:00<?, ?it/s]\u001b[A\u001b[A\u001b[A\n",
            "\n",
            "\n",
            "  7%|▋         | 1/15 [00:11<02:44, 11.75s/it]\u001b[A\u001b[A\u001b[A\n",
            "\n",
            "\n",
            " 13%|█▎        | 2/15 [00:22<02:29, 11.46s/it]\u001b[A\u001b[A\u001b[A\n",
            "\n",
            "\n",
            " 20%|██        | 3/15 [00:33<02:15, 11.28s/it]\u001b[A\u001b[A\u001b[A\n",
            "\n",
            "\n",
            " 27%|██▋       | 4/15 [00:44<02:02, 11.12s/it]\u001b[A\u001b[A\u001b[A\n",
            "\n",
            "\n",
            " 33%|███▎      | 5/15 [00:55<01:51, 11.16s/it]\u001b[A\u001b[A\u001b[A\n",
            "\n",
            "\n",
            " 40%|████      | 6/15 [01:06<01:41, 11.28s/it]\u001b[A\u001b[A\u001b[A\n",
            "\n",
            "\n",
            " 47%|████▋     | 7/15 [01:18<01:30, 11.31s/it]\u001b[A\u001b[A\u001b[A\n",
            "\n",
            "\n",
            " 53%|█████▎    | 8/15 [01:29<01:17, 11.14s/it]\u001b[A\u001b[A\u001b[A\n",
            "\n",
            "\n",
            " 60%|██████    | 9/15 [01:39<01:06, 11.05s/it]\u001b[A\u001b[A\u001b[A\n",
            "\n",
            "\n",
            " 67%|██████▋   | 10/15 [01:50<00:54, 10.96s/it]\u001b[A\u001b[A\u001b[A\n",
            "\n",
            "\n",
            " 73%|███████▎  | 11/15 [02:01<00:43, 11.00s/it]\u001b[A\u001b[A\u001b[A\n",
            "\n",
            "\n",
            " 80%|████████  | 12/15 [02:13<00:33, 11.19s/it]\u001b[A\u001b[A\u001b[A\n",
            "\n",
            "\n",
            " 87%|████████▋ | 13/15 [02:24<00:22, 11.24s/it]\u001b[A\u001b[A\u001b[A\n",
            "\n",
            "\n",
            " 93%|█████████▎| 14/15 [02:35<00:11, 11.09s/it]\u001b[A\u001b[A\u001b[A\n",
            "\n",
            "\n",
            "100%|██████████| 15/15 [02:46<00:00, 11.08s/it]\n"
          ],
          "name": "stderr"
        },
        {
          "output_type": "display_data",
          "data": {
            "image/png": "[encoded data removed]",
            "text/plain": [
              "<Figure size 432x288 with 1 Axes>"
            ]
          },
          "metadata": {
            "tags": [],
            "needs_background": "light"
          }
        }
      ]
    },
    {
      "cell_type": "code",
      "metadata": {
        "id": "B_fgq570Ok46"
      },
      "source": [
        "def make_recommendation(user_id,n):\n",
        "  user_input = tf.convert_to_tensor(masked_arr[user_id-1],\"float32\")\n",
        "  h0 = tf.nn.sigmoid(tf.matmul([user_input], weights) + hidden_bias)\n",
        "  v1 = tf.nn.sigmoid(tf.matmul(h0, tf.transpose(weights)) + visible_bias)\n",
        "  scored_movies = movies[movies['movie_id'].isin(masked.columns)]\n",
        "  scored_movies['Recommedation_Score'] = v1[0] \n",
        "  rated_movies = ratings[ratings['user_id'] == user_id]\n",
        "  return rated_movies.merge(scored_movies, on='movie_id', how='outer').head(n).sort_values([\"Recommedation_Score\"], ascending=False)\n"
      ],
      "execution_count": 49,
      "outputs": []
    },
    {
      "cell_type": "code",
      "metadata": {
        "id": "BZVZvTBlCBzo"
      },
      "source": [
        "rec = make_recommendation(1,30)['movie_id']"
      ],
      "execution_count": 61,
      "outputs": []
    },
    {
      "cell_type": "code",
      "metadata": {
        "id": "gyfJm0_ibOk9"
      },
      "source": [
        "def apk(actual, predicted, k=10):\n",
        "\n",
        "    if len(actual) == 0:\n",
        "      return 0\n",
        "\n",
        "    if len(predicted)>k:\n",
        "        predicted = predicted[:k]\n",
        "\n",
        "    score = 0.0\n",
        "    num_hits = 0.0\n",
        "\n",
        "    for i,p in enumerate(predicted):\n",
        "        if p in actual and p not in predicted[:i]:\n",
        "            num_hits += 1.0\n",
        "            score += num_hits / (i+1.0)\n",
        "\n",
        "\n",
        "    return score / min(len(actual), k)"
      ],
      "execution_count": 67,
      "outputs": []
    },
    {
      "cell_type": "code",
      "metadata": {
        "id": "-z9nvyAtaTeC"
      },
      "source": [
        "def apk_user(user_id,k):\n",
        "  user_avg = masked[masked.index == user_id].mean(axis=1).values[0]\n",
        "  user_test = test_set[test_set['user_id'] == user_id][['movie_id','rating']]\n",
        "  user_test = user_test[user_test['rating'] >= user_avg]['movie_id'].values\n",
        "  rec = make_recommendation(user_id,k)['movie_id']\n",
        "  return apk(user_test, rec, k)"
      ],
      "execution_count": 97,
      "outputs": []
    },
    {
      "cell_type": "code",
      "metadata": {
        "colab": {
          "base_uri": "https://localhost:8080/"
        },
        "id": "tM2tBMzSYWx3",
        "outputId": "550bc966-6b97-4b5d-e032-e265bf0c8899"
      },
      "source": [
        "apk_user(100,30)"
      ],
      "execution_count": 98,
      "outputs": [
        {
          "output_type": "execute_result",
          "data": {
            "text/plain": [
              "0.03220652363509506"
            ]
          },
          "metadata": {
            "tags": []
          },
          "execution_count": 98
        }
      ]
    },
    {
      "cell_type": "code",
      "metadata": {
        "id": "a_5KNXcRYWu5"
      },
      "source": [
        "mean_apk_enhanced = np.mean([apk_user(i,30) for i in masked.index.unique()])"
      ],
      "execution_count": 99,
      "outputs": []
    },
    {
      "cell_type": "code",
      "metadata": {
        "id": "-9SMg8yHay11",
        "colab": {
          "base_uri": "https://localhost:8080/"
        },
        "outputId": "995cdc99-f040-4f46-ccd3-dc66752e3a7d"
      },
      "source": [
        "mean_apk_enhanced"
      ],
      "execution_count": 100,
      "outputs": [
        {
          "output_type": "execute_result",
          "data": {
            "text/plain": [
              "0.07302236858468648"
            ]
          },
          "metadata": {
            "tags": []
          },
          "execution_count": 100
        }
      ]
    },
    {
      "cell_type": "code",
      "metadata": {
        "id": "1gQ52OSldCSC"
      },
      "source": [
        ""
      ],
      "execution_count": null,
      "outputs": []
    }
  ]
}