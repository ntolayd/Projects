{
  "nbformat": 4,
  "nbformat_minor": 0,
  "metadata": {
    "colab": {
      "name": "SvD_rec.ipynb",
      "provenance": [],
      "collapsed_sections": [],
      "authorship_tag": "ABX9TyN9k1pW4ZPPB77HpVU9BuUH",
      "include_colab_link": true
    },
    "kernelspec": {
      "name": "python3",
      "display_name": "Python 3"
    },
    "language_info": {
      "name": "python"
    }
  },
  "cells": [
    {
      "cell_type": "markdown",
      "metadata": {
        "id": "view-in-github",
        "colab_type": "text"
      },
      "source": [
        "<a href=\"https://colab.research.google.com/github/ntolayd/Projects/blob/main/Recommendation_Engines/SVD.ipynb\" target=\"_parent\"><img src=\"https://colab.research.google.com/assets/colab-badge.svg\" alt=\"Open In Colab\"/></a>"
      ]
    },
    {
      "cell_type": "code",
      "metadata": {
        "id": "ySX49SZYNENR"
      },
      "source": [
        "import pandas as pd\n",
        "import matplotlib.pyplot as plt\n",
        "import math\n",
        "import numpy as np\n",
        "import seaborn as sns\n",
        "import warnings\n",
        "import pickle\n",
        "warnings.filterwarnings('ignore')"
      ],
      "execution_count": null,
      "outputs": []
    },
    {
      "cell_type": "code",
      "metadata": {
        "colab": {
          "base_uri": "https://localhost:8080/"
        },
        "id": "CeMekkmWNE6T",
        "outputId": "88beca20-04f1-4d2d-beb1-44ae812ac858"
      },
      "source": [
        "from google.colab import drive\n",
        "drive.mount('/content/gdrive')"
      ],
      "execution_count": null,
      "outputs": [
        {
          "output_type": "stream",
          "text": [
            "Mounted at /content/gdrive\n"
          ],
          "name": "stdout"
        }
      ]
    },
    {
      "cell_type": "code",
      "metadata": {
        "colab": {
          "base_uri": "https://localhost:8080/"
        },
        "id": "MhRmnCdpNKhI",
        "outputId": "68c3146f-ca56-465d-b6c1-649b00b1df1a"
      },
      "source": [
        "#data loading\n",
        "!unzip \"/content/gdrive/My Drive/ml-1m.zip\"\n",
        "masked = pd.read_csv('/content/gdrive/MyDrive/masked.csv')\n",
        "test_set = pd.read_csv('/content/gdrive/MyDrive/test_set.csv')\n",
        "with open(r'/content/gdrive/MyDrive/masked_idx.pkl', \"rb\") as input_file:\n",
        "  masked_idx = pickle.load(input_file)\n",
        "movies = pd.read_csv(\"ml-1m/movies.dat\", sep='::', engine='python', header=None)\n",
        "movies.columns = ['movie_id', 'movie_name', 'genre']\n",
        "ratings = pd.read_csv(\"ml-1m/ratings.dat\", sep='::', engine='python', header=None)\n",
        "ratings.columns=['user_id', 'movie_id', 'rating','timestamp']"
      ],
      "execution_count": null,
      "outputs": [
        {
          "output_type": "stream",
          "text": [
            "Archive:  /content/gdrive/My Drive/ml-1m.zip\n",
            "   creating: ml-1m/\n",
            "  inflating: ml-1m/movies.dat        \n",
            "  inflating: ml-1m/ratings.dat       \n",
            "  inflating: ml-1m/README            \n",
            "  inflating: ml-1m/users.dat         \n"
          ],
          "name": "stdout"
        }
      ]
    },
    {
      "cell_type": "code",
      "metadata": {
        "id": "sLUoyjjoPTqM"
      },
      "source": [
        "masked = masked.set_index('user_id')\n",
        "masked_arr = masked.copy().values\n",
        "masked.columns = masked.columns.astype(int)\n",
        "#replacing all nans with 0 \n",
        "masked_arr[np.isnan(masked_arr)] = 0\n"
      ],
      "execution_count": null,
      "outputs": []
    },
    {
      "cell_type": "code",
      "metadata": {
        "id": "tHQxQFTn-otE"
      },
      "source": [
        "#initializing latent factors\n",
        "n_latent_factors = 10\n",
        "\n",
        "latent_user_preferences = np.random.random((masked.shape[0], n_latent_factors))\n",
        "latent_item_features = np.random.random((masked.shape[1], n_latent_factors))"
      ],
      "execution_count": null,
      "outputs": []
    },
    {
      "cell_type": "code",
      "metadata": {
        "id": "CxPU4n9JvZoF"
      },
      "source": [
        "#the functions for SGD\n",
        "def predict_rating(user_id, item_id):\n",
        "    \"\"\" Predict a rating given a user_id and an item_id.\n",
        "    \"\"\"\n",
        "    user_preference = latent_user_preferences[masked.index.get_loc(user_id)]\n",
        "    item_preference = latent_item_features[masked.columns.get_loc(item_id)]\n",
        "    return user_preference.dot(item_preference)\n",
        "\n",
        "\n",
        "def train(user_id, item_id, rating, alpha=0.0004):\n",
        "    #print(item_id)\n",
        "    predicted_rating = predict_rating(user_id, item_id)\n",
        "    err =  predicted_rating - rating\n",
        "    #print(err)\n",
        "    user_pref_values = latent_user_preferences[masked.index.get_loc(user_id)]\n",
        "    latent_user_preferences[masked.index.get_loc(user_id)] -= alpha * err * latent_item_features[masked.columns.get_loc(item_id)]\n",
        "    latent_item_features[masked.columns.get_loc(item_id)] -= alpha * err * user_pref_values\n",
        "    return abs(err)\n",
        "    \n",
        "\n",
        "def sgd(iterations):\n",
        "    \"\"\" Iterate over all users and all items and train for \n",
        "        a certain number of iterations\n",
        "    \"\"\"\n",
        "    rmse_history = []\n",
        "    mae_history = []\n",
        "    for iteration in range(iterations):\n",
        "        error = []\n",
        "        for user_id in masked.index:\n",
        "            for item_id in masked.columns:\n",
        "                rating = masked_arr[masked.index.get_loc(user_id), masked.columns.get_loc(item_id)]\n",
        "                if rating > 0 and rating < 6:\n",
        "                    err = train(user_id, item_id, rating)\n",
        "                    error.append(err)\n",
        "        rmse = np.sqrt((np.array(error) ** 2).mean())   \n",
        "        mae = np.mean(error)\n",
        "        print('Iteration %d/%d:\\tRMSE=%.6f,\\tMAE=%.6f' % (iteration, iterations, rmse, mae))\n",
        "        rmse_history.append(rmse)\n",
        "        mae_history.append(mae)\n",
        "    return rmse_history, mae_history\n"
      ],
      "execution_count": null,
      "outputs": []
    },
    {
      "cell_type": "code",
      "metadata": {
        "colab": {
          "base_uri": "https://localhost:8080/"
        },
        "id": "L-gBQN4c2wu8",
        "outputId": "51b714a1-eb8e-4055-a9c2-7e8ebc8aa4a4"
      },
      "source": [
        "rmse_hist, mae_hist = sgd(15)"
      ],
      "execution_count": null,
      "outputs": [
        {
          "output_type": "stream",
          "text": [
            "Iteration 0/15:\tRMSE=1.423978,\tMAE=1.179896\n",
            "Iteration 1/15:\tRMSE=1.157989,\tMAE=0.938680\n",
            "Iteration 2/15:\tRMSE=1.071828,\tMAE=0.860991\n",
            "Iteration 3/15:\tRMSE=1.028427,\tMAE=0.822736\n",
            "Iteration 4/15:\tRMSE=1.002013,\tMAE=0.799762\n",
            "Iteration 5/15:\tRMSE=0.984243,\tMAE=0.784418\n",
            "Iteration 6/15:\tRMSE=0.971469,\tMAE=0.773417\n",
            "Iteration 7/15:\tRMSE=0.961831,\tMAE=0.765126\n",
            "Iteration 8/15:\tRMSE=0.954288,\tMAE=0.758648\n",
            "Iteration 9/15:\tRMSE=0.948213,\tMAE=0.753430\n",
            "Iteration 10/15:\tRMSE=0.943207,\tMAE=0.749128\n",
            "Iteration 11/15:\tRMSE=0.939004,\tMAE=0.745514\n",
            "Iteration 12/15:\tRMSE=0.935419,\tMAE=0.742427\n",
            "Iteration 13/15:\tRMSE=0.932323,\tMAE=0.739757\n",
            "Iteration 14/15:\tRMSE=0.929617,\tMAE=0.737423\n"
          ],
          "name": "stdout"
        }
      ]
    },
    {
      "cell_type": "code",
      "metadata": {
        "colab": {
          "base_uri": "https://localhost:8080/",
          "height": 459
        },
        "id": "82kwB-Y-uiQc",
        "outputId": "22438c70-8de5-44a3-ef31-d9f41a86e215"
      },
      "source": [
        " plt.figure(figsize=(10,7))\n",
        "plt.plot(rmse_hist, label='RMSE', color='blue', linewidth=3)\n",
        "plt.plot(mae_hist, label='MAE', color='red', linewidth=3)\n",
        "plt.xlabel('Iteration')\n",
        "plt.ylabel('Error')\n",
        "plt.legend()"
      ],
      "execution_count": null,
      "outputs": [
        {
          "output_type": "execute_result",
          "data": {
            "text/plain": [
              "<matplotlib.legend.Legend at 0x7f00664cfdd0>"
            ]
          },
          "metadata": {
            "tags": []
          },
          "execution_count": 8
        },
        {
          "output_type": "display_data",
          "data": {
            "image/png": "[encoded data removed]",
            "text/plain": [
              "<Figure size 720x504 with 1 Axes>"
            ]
          },
          "metadata": {
            "tags": [],
            "needs_background": "light"
          }
        }
      ]
    },
    {
      "cell_type": "code",
      "metadata": {
        "colab": {
          "base_uri": "https://localhost:8080/"
        },
        "id": "hwgvV7g_Axdw",
        "outputId": "4a74c413-63bb-4333-c141-717d27818c0f"
      },
      "source": [
        "#prediction for validation set\n",
        "def predict_rating(user_id, item_id):\n",
        "    \"\"\" Predict a rating given a user_id and an item_id.\n",
        "    \"\"\"\n",
        "    user_preference = latent_user_preferences[user_id-1]\n",
        "    item_preference = latent_item_features[masked.columns.get_loc(item_id)]\n",
        "    return user_preference.dot(item_preference)\n",
        "\n",
        "\n",
        "error_list = []\n",
        "for i,j in zip(test_set['user_id'],test_set['movie_id']):\n",
        "  error_list.append(predict_rating(i,j) - test_set[(test_set['user_id'] == i) & (test_set['movie_id'] == j)]['rating'])\n",
        "\n",
        "final_mse = np.sqrt((np.array(error_list)**2).mean())\n",
        "print(final_mse)"
      ],
      "execution_count": null,
      "outputs": [
        {
          "output_type": "stream",
          "text": [
            "0.9420824198323388\n"
          ],
          "name": "stdout"
        }
      ]
    },
    {
      "cell_type": "code",
      "metadata": {
        "id": "Mktlm1wTcDQA"
      },
      "source": [
        "#prediction for 0s\n",
        "def predict_rating(user_id, item_id):\n",
        "    \"\"\" Predict a rating given a user_id and an item_id.\n",
        "    \"\"\"\n",
        "    user_preference = latent_user_preferences[user_id]\n",
        "    item_preference = latent_item_features[item_id]\n",
        "    return user_preference.dot(item_preference)\n",
        "\n",
        "\n",
        "for i,j in zip(np.where(masked_arr==0)[0], np.where(masked_arr==0)[1]):\n",
        "  masked_arr[i,j] = predict_rating(i,j)\n"
      ],
      "execution_count": null,
      "outputs": []
    },
    {
      "cell_type": "markdown",
      "metadata": {
        "id": "NCne8CFIW3eB"
      },
      "source": [
        "RECOMMENDATION"
      ]
    },
    {
      "cell_type": "code",
      "metadata": {
        "id": "cWC0XsUKcDKG"
      },
      "source": [
        "rec_matrix = pd.DataFrame(masked_arr, columns=masked.columns, index=masked.index) "
      ],
      "execution_count": null,
      "outputs": []
    },
    {
      "cell_type": "code",
      "metadata": {
        "id": "JTdC29l7eEBr"
      },
      "source": [
        "#setting ratings to 0 for the movies that users have seen before\n",
        "#rec_matrix = rec_matrix * masked.isna()"
      ],
      "execution_count": null,
      "outputs": []
    },
    {
      "cell_type": "code",
      "metadata": {
        "id": "DnrQ9FK8cC_Y"
      },
      "source": [
        "def recommender(user_id, prediction_matrix, num_of_rec = 10):\n",
        "\n",
        "    predictions = prediction_matrix.loc[user_id].values\n",
        "\n",
        "    rating_df   = pd.DataFrame({'movie_id': list(masked.columns), \n",
        "                               'rating': predictions})\n",
        "    final_df = rating_df.merge(movies, left_on='movie_id', right_on='movie_id').drop(['movie_id','genre'], axis=1)\\\n",
        "              .set_index('movie_name').sort_values('rating', ascending=False)[:num_of_rec]\n",
        "    return final_df\n"
      ],
      "execution_count": null,
      "outputs": []
    },
    {
      "cell_type": "code",
      "metadata": {
        "colab": {
          "base_uri": "https://localhost:8080/",
          "height": 234
        },
        "id": "ohkwlwXMYulf",
        "outputId": "b4ecd0aa-602e-4954-bf9c-fe3452d1d622"
      },
      "source": [
        "recommender(123, rec_matrix , 5)"
      ],
      "execution_count": null,
      "outputs": [
        {
          "output_type": "execute_result",
          "data": {
            "text/html": [
              "<div>\n",
              "<style scoped>\n",
              "    .dataframe tbody tr th:only-of-type {\n",
              "        vertical-align: middle;\n",
              "    }\n",
              "\n",
              "    .dataframe tbody tr th {\n",
              "        vertical-align: top;\n",
              "    }\n",
              "\n",
              "    .dataframe thead th {\n",
              "        text-align: right;\n",
              "    }\n",
              "</style>\n",
              "<table border=\"1\" class=\"dataframe\">\n",
              "  <thead>\n",
              "    <tr style=\"text-align: right;\">\n",
              "      <th></th>\n",
              "      <th>rating</th>\n",
              "    </tr>\n",
              "    <tr>\n",
              "      <th>movie_name</th>\n",
              "      <th></th>\n",
              "    </tr>\n",
              "  </thead>\n",
              "  <tbody>\n",
              "    <tr>\n",
              "      <th>It's a Wonderful Life (1946)</th>\n",
              "      <td>5.0</td>\n",
              "    </tr>\n",
              "    <tr>\n",
              "      <th>Mission, The (1986)</th>\n",
              "      <td>5.0</td>\n",
              "    </tr>\n",
              "    <tr>\n",
              "      <th>L.A. Confidential (1997)</th>\n",
              "      <td>5.0</td>\n",
              "    </tr>\n",
              "    <tr>\n",
              "      <th>Spitfire Grill, The (1996)</th>\n",
              "      <td>5.0</td>\n",
              "    </tr>\n",
              "    <tr>\n",
              "      <th>Godfather, The (1972)</th>\n",
              "      <td>5.0</td>\n",
              "    </tr>\n",
              "  </tbody>\n",
              "</table>\n",
              "</div>"
            ],
            "text/plain": [
              "                              rating\n",
              "movie_name                          \n",
              "It's a Wonderful Life (1946)     5.0\n",
              "Mission, The (1986)              5.0\n",
              "L.A. Confidential (1997)         5.0\n",
              "Spitfire Grill, The (1996)       5.0\n",
              "Godfather, The (1972)            5.0"
            ]
          },
          "metadata": {
            "tags": []
          },
          "execution_count": 20
        }
      ]
    },
    {
      "cell_type": "code",
      "metadata": {
        "id": "AyNQD3urpTKH"
      },
      "source": [
        "def recommender(user_id,n,prediction_matrix):\n",
        "  recommend_df = prediction_matrix.loc[prediction_matrix.index==user_id].T.reset_index()\n",
        "  recommend_df.columns = ['movie_id','ratings']\n",
        "  recommend_df = recommend_df.sort_values(by='ratings', ascending=False).head(n)\n",
        "  recommend_df['movie_id'] = recommend_df['movie_id'].astype(int)\n",
        "  watched_movies = pd.merge(ratings[ratings['user_id'] == user_id].sort_values(by='rating',ascending=False).head(n), movies, on='movie_id')\n",
        "  recommended_movies = pd.merge(recommend_df, movies, on='movie_id')\n",
        "  #print(f'Watched movies by user {user_id}:', '\\n', watched_movies[['movie_name','rating']],'\\n')\n",
        "  #print(f'Recommended movies to user {user_id}:', '\\n', recommended_movies[['movie_name','ratings']])\n",
        "  return recommended_movies[['movie_id','ratings']]"
      ],
      "execution_count": null,
      "outputs": []
    },
    {
      "cell_type": "code",
      "metadata": {
        "id": "dESvXd6Pvv_m"
      },
      "source": [
        "def apk(actual, predicted, k=10):\n",
        "\n",
        "    if len(actual) == 0:\n",
        "      return 0\n",
        "\n",
        "    if len(predicted)>k:\n",
        "        predicted = predicted[:k]\n",
        "\n",
        "    score = 0.0\n",
        "    num_hits = 0.0\n",
        "\n",
        "    for i,p in enumerate(predicted):\n",
        "        if p in actual and p not in predicted[:i]:\n",
        "            num_hits += 1.0\n",
        "            score += num_hits / (i+1.0)\n",
        "\n",
        "\n",
        "    return score / min(len(actual), k)"
      ],
      "execution_count": null,
      "outputs": []
    },
    {
      "cell_type": "code",
      "metadata": {
        "id": "0nuMpxRPoZ9P"
      },
      "source": [
        "def apk_user(user_id,k,prediction_matrix):\n",
        "  mean_rating = masked[masked.index == user_id].mean(axis=1).values[0]\n",
        "  user_test = test_set[test_set['user_id'] == user_id][['movie_id','rating']]\n",
        "  user_liked_movies = user_test[user_test['rating'] >= mean_rating]['movie_id'].values\n",
        "  recommended_movies = recommender(user_id,k,prediction_matrix)['movie_id'].values\n",
        "  return apk(user_liked_movies, recommended_movies,k)"
      ],
      "execution_count": null,
      "outputs": []
    },
    {
      "cell_type": "code",
      "metadata": {
        "colab": {
          "base_uri": "https://localhost:8080/"
        },
        "id": "cDvej2uPoff_",
        "outputId": "ab5ed05b-0b62-4e1d-8097-9d9a9fa354e7"
      },
      "source": [
        "apk_user(1,30,rec_matrix)"
      ],
      "execution_count": null,
      "outputs": [
        {
          "output_type": "execute_result",
          "data": {
            "text/plain": [
              "0.028571428571428574"
            ]
          },
          "metadata": {
            "tags": []
          },
          "execution_count": 30
        }
      ]
    },
    {
      "cell_type": "code",
      "metadata": {
        "id": "7PLoNMgqowTV"
      },
      "source": [
        "mean_apk_base = np.mean([apk_user(i,30, rec_matrix) for i in masked.index.unique()])"
      ],
      "execution_count": null,
      "outputs": []
    },
    {
      "cell_type": "code",
      "metadata": {
        "colab": {
          "base_uri": "https://localhost:8080/"
        },
        "id": "ge2-Rybjpioq",
        "outputId": "04504308-ca77-4947-b31b-2e703d2aa4ea"
      },
      "source": [
        "mean_apk_base"
      ],
      "execution_count": null,
      "outputs": [
        {
          "output_type": "execute_result",
          "data": {
            "text/plain": [
              "0.002436850130949039"
            ]
          },
          "metadata": {
            "tags": []
          },
          "execution_count": 27
        }
      ]
    },
    {
      "cell_type": "code",
      "metadata": {
        "id": "E2_UB4wWqKCE"
      },
      "source": [
        ""
      ],
      "execution_count": null,
      "outputs": []
    }
  ]
}