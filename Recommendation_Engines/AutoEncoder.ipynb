{
  "nbformat": 4,
  "nbformat_minor": 0,
  "metadata": {
    "accelerator": "GPU",
    "colab": {
      "name": "autoencoder.ipynb",
      "provenance": [],
      "collapsed_sections": [],
      "authorship_tag": "ABX9TyP3EYE8aU7ak53u5bW5O7rM",
      "include_colab_link": true
    },
    "kernelspec": {
      "display_name": "Python 3",
      "name": "python3"
    },
    "language_info": {
      "name": "python"
    }
  },
  "cells": [
    {
      "cell_type": "markdown",
      "metadata": {
        "id": "view-in-github",
        "colab_type": "text"
      },
      "source": [
        "<a href=\"https://colab.research.google.com/github/ntolayd/Projects/blob/main/Recommendation_Engines/AutoEncoder.ipynb\" target=\"_parent\"><img src=\"https://colab.research.google.com/assets/colab-badge.svg\" alt=\"Open In Colab\"/></a>"
      ]
    },
    {
      "cell_type": "code",
      "metadata": {
        "colab": {
          "base_uri": "https://localhost:8080/"
        },
        "id": "ya2iBwcyffNZ",
        "outputId": "c623e1ab-3fa4-4c1a-f3e6-34bbe0f84a05"
      },
      "source": [
        "from google.colab import drive\n",
        "drive.mount('/content/gdrive')"
      ],
      "execution_count": 1,
      "outputs": [
        {
          "output_type": "stream",
          "text": [
            "Drive already mounted at /content/gdrive; to attempt to forcibly remount, call drive.mount(\"/content/gdrive\", force_remount=True).\n"
          ],
          "name": "stdout"
        }
      ]
    },
    {
      "cell_type": "code",
      "metadata": {
        "id": "nC7UxrwtgAZY"
      },
      "source": [
        "import pandas as pd\n",
        "import matplotlib.pyplot as plt\n",
        "import math\n",
        "import numpy as np\n",
        "import seaborn as sns\n",
        "import warnings\n",
        "import tensorflow as tf\n",
        "import pickle\n",
        "warnings.filterwarnings('ignore')"
      ],
      "execution_count": 3,
      "outputs": []
    },
    {
      "cell_type": "code",
      "metadata": {
        "colab": {
          "base_uri": "https://localhost:8080/"
        },
        "id": "LRLFaYIpfpsI",
        "outputId": "730d7be7-024d-4aaf-9a76-8844aae61076"
      },
      "source": [
        "#data loading\n",
        "!unzip \"/content/gdrive/My Drive/ml-1m.zip\"\n",
        "masked = pd.read_csv('/content/gdrive/MyDrive/masked.csv')\n",
        "test_set = pd.read_csv('/content/gdrive/MyDrive/test_set.csv')\n",
        "with open(r'/content/gdrive/MyDrive/masked_idx.pkl', \"rb\") as input_file:\n",
        "  masked_idx = pickle.load(input_file)\n",
        "movies = pd.read_csv(\"ml-1m/movies.dat\", sep='::', engine='python', header=None)\n",
        "movies.columns = ['movie_id', 'movie_name', 'genre']\n",
        "ratings = pd.read_csv(\"ml-1m/ratings.dat\", sep='::', engine='python', header=None)\n",
        "ratings.columns=['user_id', 'movie_id', 'rating','timestamp']"
      ],
      "execution_count": 4,
      "outputs": [
        {
          "output_type": "stream",
          "text": [
            "Archive:  /content/gdrive/My Drive/ml-1m.zip\n",
            "replace ml-1m/movies.dat? [y]es, [n]o, [A]ll, [N]one, [r]ename: A\n",
            "  inflating: ml-1m/movies.dat        \n",
            "  inflating: ml-1m/ratings.dat       \n",
            "  inflating: ml-1m/README            \n",
            "  inflating: ml-1m/users.dat         \n"
          ],
          "name": "stdout"
        }
      ]
    },
    {
      "cell_type": "code",
      "metadata": {
        "id": "sLUoyjjoPTqM"
      },
      "source": [
        "masked = masked.set_index('user_id')\n",
        "masked_arr = masked.copy().values"
      ],
      "execution_count": 5,
      "outputs": []
    },
    {
      "cell_type": "code",
      "metadata": {
        "id": "JXeG3VLXmhw6"
      },
      "source": [
        "#replacing all nans with 0 and normalizing ratings between 0 and 1\n",
        "masked_arr[np.isnan(masked_arr)] = 0\n",
        "masked_arr = masked_arr / 5"
      ],
      "execution_count": 6,
      "outputs": []
    },
    {
      "cell_type": "code",
      "metadata": {
        "id": "ulw_aDlbgIPq"
      },
      "source": [
        "from keras.optimizers import Adam\n",
        "from keras.layers import Input, Dense, Dropout\n",
        "from keras.models import Model\n",
        "from keras import regularizers\n",
        "from keras.callbacks import EarlyStopping"
      ],
      "execution_count": 7,
      "outputs": []
    },
    {
      "cell_type": "markdown",
      "metadata": {
        "id": "xewGogZ6CF61"
      },
      "source": [
        "AutoRec Model\n"
      ]
    },
    {
      "cell_type": "code",
      "metadata": {
        "id": "XoEpM8C3hLL3"
      },
      "source": [
        "\n",
        "# Input\n",
        "input_layer = Input(shape=(masked_arr.shape[1],), name='input_matrix')\n",
        "\n",
        "\n",
        "# Bottleneck\n",
        "latent_features = Dense(64, activation='sigmoid', name='latent_features')(input_layer)\n",
        "\n",
        "\n",
        "# Output\n",
        "output_layer = Dense(masked_arr.shape[1], activation='linear', name='output')(latent_features)\n",
        "\n",
        "model = Model(input_layer, output_layer)    "
      ],
      "execution_count": 33,
      "outputs": []
    },
    {
      "cell_type": "code",
      "metadata": {
        "colab": {
          "base_uri": "https://localhost:8080/"
        },
        "id": "zfN9ulRcifKJ",
        "outputId": "1c8e7764-8f87-4370-d8e8-b915ea79c589"
      },
      "source": [
        "model.summary()"
      ],
      "execution_count": 34,
      "outputs": [
        {
          "output_type": "stream",
          "text": [
            "Model: \"model_3\"\n",
            "_________________________________________________________________\n",
            "Layer (type)                 Output Shape              Param #   \n",
            "=================================================================\n",
            "input_matrix (InputLayer)    [(None, 3706)]            0         \n",
            "_________________________________________________________________\n",
            "latent_features (Dense)      (None, 64)                237248    \n",
            "_________________________________________________________________\n",
            "output (Dense)               (None, 3706)              240890    \n",
            "=================================================================\n",
            "Total params: 478,138\n",
            "Trainable params: 478,138\n",
            "Non-trainable params: 0\n",
            "_________________________________________________________________\n"
          ],
          "name": "stdout"
        }
      ]
    },
    {
      "cell_type": "code",
      "metadata": {
        "id": "hbkHv_Ar8fGb"
      },
      "source": [
        "#referance: https://github.com/keras-team/keras/issues/7065#issuecomment-318002081\n",
        "#masked mean squared error as loss function\n",
        "import keras.backend  as K\n",
        "def MMSE(y_true, y_pred):\n",
        "  #mask value is 0\n",
        "    mask_true = K.cast(K.not_equal(y_true, 0), K.floatx())\n",
        "    masked_squared_error = K.square(mask_true * (y_true - y_pred))\n",
        "    masked_mse = (K.sum(masked_squared_error, axis=-1) /\n",
        "                  K.sum(mask_true, axis=-1))\n",
        "    return masked_mse"
      ],
      "execution_count": 35,
      "outputs": []
    },
    {
      "cell_type": "code",
      "metadata": {
        "id": "tBV0bwAWiAby"
      },
      "source": [
        "model.compile(optimizer = Adam(lr=0.001), loss=MMSE)\n",
        "es = EarlyStopping(monitor='val_loss', mode='min', verbose=1, patience=10, restore_best_weights=True)\n",
        "\n",
        "hist = model.fit(x=masked_arr, y=masked_arr,\n",
        "                  epochs=200,\n",
        "                  batch_size=128,\n",
        "                  shuffle=True,\n",
        "                  validation_split=0.1, verbose=0)"
      ],
      "execution_count": 36,
      "outputs": []
    },
    {
      "cell_type": "code",
      "metadata": {
        "colab": {
          "base_uri": "https://localhost:8080/",
          "height": 296
        },
        "id": "78PYn4LPiSCE",
        "outputId": "4900b537-d602-4427-97e7-9bda0a4b0192"
      },
      "source": [
        "plt.plot(hist.history['loss'])\n",
        "plt.plot(hist.history['val_loss'])\n",
        "plt.ylabel('loss')\n",
        "plt.xlabel('epoch')\n",
        "plt.legend(['train', 'validation'])"
      ],
      "execution_count": 37,
      "outputs": [
        {
          "output_type": "execute_result",
          "data": {
            "text/plain": [
              "<matplotlib.legend.Legend at 0x7f6425a2cdd0>"
            ]
          },
          "metadata": {
            "tags": []
          },
          "execution_count": 37
        },
        {
          "output_type": "display_data",
          "data": {
            "image/png": "[encoded data removed]",
            "text/plain": [
              "<Figure size 432x288 with 1 Axes>"
            ]
          },
          "metadata": {
            "tags": [],
            "needs_background": "light"
          }
        }
      ]
    },
    {
      "cell_type": "code",
      "metadata": {
        "colab": {
          "base_uri": "https://localhost:8080/"
        },
        "id": "-wOLn4pEjQjG",
        "outputId": "bc449941-e195-48b3-83f3-c689c4e37ecf"
      },
      "source": [
        "#reconstruction of input and rmse \n",
        "predicted_matrix_base = model.predict(masked_arr) * 5 #firstly make predictions \n",
        "predicted_matrix_base = pd.DataFrame(predicted_matrix_base, index=masked.index, columns=masked.columns) #converting preds into a df\n",
        "preds_melted = pd.melt(predicted_matrix_base.reset_index(), id_vars=['user_id']) #melt predictions to be able to merge with testset\n",
        "preds_melted.columns = ['user_id','movie_id', 'rating']\n",
        "preds_melted['movie_id']=preds_melted['movie_id'].astype(int)\n",
        "final_df = pd.merge(preds_melted, test_set, on=['user_id','movie_id']) #merge testset and predictions\n",
        "final_df['diff'] = (final_df['rating_y'] - final_df['rating_x'])**2 #taking difference for rmse\n",
        "print('final rmse:', np.sqrt(final_df['diff'].mean()))"
      ],
      "execution_count": 38,
      "outputs": [
        {
          "output_type": "stream",
          "text": [
            "final rmse: 1.1117499276760139\n"
          ],
          "name": "stdout"
        }
      ]
    },
    {
      "cell_type": "code",
      "metadata": {
        "id": "tN9-cUmoP1fU"
      },
      "source": [
        "def recommender(user_id,n,prediction_matrix):\n",
        "  recommend_df = prediction_matrix.loc[prediction_matrix.index==user_id].T.reset_index()\n",
        "  recommend_df.columns = ['movie_id','ratings']\n",
        "  recommend_df = recommend_df.sort_values(by='ratings', ascending=False).head(n)\n",
        "  recommend_df['movie_id'] = recommend_df['movie_id'].astype(int)\n",
        "  watched_movies = pd.merge(ratings[ratings['user_id'] == user_id].sort_values(by='rating',ascending=False).head(n), movies, on='movie_id')\n",
        "  recommended_movies = pd.merge(recommend_df, movies, on='movie_id')\n",
        "  #print(f'Watched movies by user {user_id}:', '\\n', watched_movies[['movie_name','rating']],'\\n')\n",
        "  #print(f'Recommended movies to user {user_id}:', '\\n', recommended_movies[['movie_name','ratings']])\n",
        "  return recommended_movies[['movie_id','ratings']]"
      ],
      "execution_count": 39,
      "outputs": []
    },
    {
      "cell_type": "code",
      "metadata": {
        "id": "OGXf1LNlAKaS"
      },
      "source": [
        "def apk(actual, predicted, k=10):\n",
        "\n",
        "    if len(actual) == 0:\n",
        "      return 0\n",
        "\n",
        "    if len(predicted)>k:\n",
        "        predicted = predicted[:k]\n",
        "\n",
        "    score = 0.0\n",
        "    num_hits = 0.0\n",
        "\n",
        "    for i,p in enumerate(predicted):\n",
        "        if p in actual and p not in predicted[:i]:\n",
        "            num_hits += 1.0\n",
        "            score += num_hits / (i+1.0)\n",
        "\n",
        "\n",
        "    return score / min(len(actual), k)"
      ],
      "execution_count": 40,
      "outputs": []
    },
    {
      "cell_type": "code",
      "metadata": {
        "id": "v92DCAjLArOT"
      },
      "source": [
        "def apk_user(user_id,k,prediction_matrix):\n",
        "  mean_rating = masked[masked.index == user_id].mean(axis=1).values[0]\n",
        "  user_test = test_set[test_set['user_id'] == user_id][['movie_id','rating']]\n",
        "  user_liked_movies = user_test[user_test['rating'] >= mean_rating]['movie_id'].values\n",
        "  recommended_movies = recommender(user_id,k,prediction_matrix)['movie_id'].values\n",
        "  return apk(user_liked_movies, recommended_movies,k)"
      ],
      "execution_count": 41,
      "outputs": []
    },
    {
      "cell_type": "code",
      "metadata": {
        "id": "PH9j2InyFpLI"
      },
      "source": [
        "mean_apk_base = np.mean([apk_user(i,30, predicted_matrix_base) for i in masked.index.unique()])"
      ],
      "execution_count": 42,
      "outputs": []
    },
    {
      "cell_type": "code",
      "metadata": {
        "colab": {
          "base_uri": "https://localhost:8080/"
        },
        "id": "iWPTdZK0kAQp",
        "outputId": "3025df0f-436c-48ba-e5c8-90078eb651c5"
      },
      "source": [
        "mean_apk_base"
      ],
      "execution_count": 43,
      "outputs": [
        {
          "output_type": "execute_result",
          "data": {
            "text/plain": [
              "0.0018774315151820439"
            ]
          },
          "metadata": {
            "tags": []
          },
          "execution_count": 43
        }
      ]
    },
    {
      "cell_type": "markdown",
      "metadata": {
        "id": "rdsnDbR8p6Ls"
      },
      "source": [
        "DeepRec model\n"
      ]
    },
    {
      "cell_type": "code",
      "metadata": {
        "id": "ZgYyMzALpWH9"
      },
      "source": [
        "# Input\n",
        "input_layer = Input(shape=(masked_arr.shape[1],), name='input_matrix')\n",
        "\n",
        "# Encoder\n",
        "encoder = Dense(512, activation='relu', name='encoder')(input_layer)\n",
        "encoder =  Dropout(0.5)(encoder)\n",
        "# Bottleneck\n",
        "latent_features = Dense(64, activation='relu', name='latent_features')(encoder)\n",
        "latent_features = Dropout(0.5)(latent_features)\n",
        "\n",
        "# Decoder\n",
        "decoder = Dense(512, activation='relu', name='decoder')(latent_features)\n",
        "\n",
        "# Output\n",
        "output_layer = Dense(masked_arr.shape[1], activation='linear', name='output')(decoder)\n",
        "\n",
        "model = Model(input_layer, output_layer)  "
      ],
      "execution_count": 44,
      "outputs": []
    },
    {
      "cell_type": "code",
      "metadata": {
        "id": "g-Y593zTqeLH"
      },
      "source": [
        "model.compile(optimizer = Adam(lr=0.001), loss=MMSE)\n",
        "es = EarlyStopping(monitor='val_loss', mode='min', verbose=1, patience=20, restore_best_weights=True)\n",
        "\n",
        "hist = model.fit(x=masked_arr, y=masked_arr,\n",
        "                  epochs=200,\n",
        "                  batch_size=128,\n",
        "                  shuffle=True,\n",
        "                  validation_split=0.1, verbose=0)"
      ],
      "execution_count": 45,
      "outputs": []
    },
    {
      "cell_type": "code",
      "metadata": {
        "colab": {
          "base_uri": "https://localhost:8080/",
          "height": 296
        },
        "id": "8M22LR8OqlS3",
        "outputId": "d629be1b-5b31-49e9-b5ba-f9f7450bf379"
      },
      "source": [
        "plt.plot(hist.history['loss'])\n",
        "plt.plot(hist.history['val_loss'])\n",
        "plt.ylabel('loss')\n",
        "plt.xlabel('epoch')\n",
        "plt.legend(['train', 'validation'])"
      ],
      "execution_count": 46,
      "outputs": [
        {
          "output_type": "execute_result",
          "data": {
            "text/plain": [
              "<matplotlib.legend.Legend at 0x7f642028e1d0>"
            ]
          },
          "metadata": {
            "tags": []
          },
          "execution_count": 46
        },
        {
          "output_type": "display_data",
          "data": {
            "image/png": "[encoded data removed]",
            "text/plain": [
              "<Figure size 432x288 with 1 Axes>"
            ]
          },
          "metadata": {
            "tags": [],
            "needs_background": "light"
          }
        }
      ]
    },
    {
      "cell_type": "code",
      "metadata": {
        "colab": {
          "base_uri": "https://localhost:8080/"
        },
        "id": "bTB3wvdTrcZJ",
        "outputId": "cd93dbc1-616e-4843-dbb3-0893a320c6eb"
      },
      "source": [
        "#reconstruction of input and rmse \n",
        "predicted_matrix_deep = model.predict(masked_arr) * 5 #firstly make predictions \n",
        "predicted_matrix_deep = pd.DataFrame(predicted_matrix_deep, index=masked.index, columns=masked.columns) #converting preds into a df\n",
        "preds_melted = pd.melt(predicted_matrix_deep.reset_index(), id_vars=['user_id']) #melt predictions to be able to merge with testset\n",
        "preds_melted.columns = ['user_id','movie_id', 'rating']\n",
        "preds_melted['movie_id']=preds_melted['movie_id'].astype(int)\n",
        "final_df = pd.merge(preds_melted, test_set, on=['user_id','movie_id']) #merge testset and predictions\n",
        "final_df['diff'] = (final_df['rating_y'] - final_df['rating_x'])**2 #taking difference for rmse\n",
        "print('final rmse:', np.sqrt(final_df['diff'].mean()))"
      ],
      "execution_count": 47,
      "outputs": [
        {
          "output_type": "stream",
          "text": [
            "final rmse: 0.9094279572053914\n"
          ],
          "name": "stdout"
        }
      ]
    },
    {
      "cell_type": "code",
      "metadata": {
        "id": "KfRQnsc6IhNd"
      },
      "source": [
        "mean_apk_deep = np.mean([apk_user(i,30, predicted_matrix_deep) for i in masked.index.unique()])"
      ],
      "execution_count": 48,
      "outputs": []
    },
    {
      "cell_type": "code",
      "metadata": {
        "colab": {
          "base_uri": "https://localhost:8080/"
        },
        "id": "nZDp1-1SknRf",
        "outputId": "6443c0a2-d23f-4519-b3bc-fa8aa087f60b"
      },
      "source": [
        "mean_apk_deep"
      ],
      "execution_count": 49,
      "outputs": [
        {
          "output_type": "execute_result",
          "data": {
            "text/plain": [
              "0.0022795489758459762"
            ]
          },
          "metadata": {
            "tags": []
          },
          "execution_count": 49
        }
      ]
    },
    {
      "cell_type": "code",
      "metadata": {
        "id": "kK6qq1rqtLfX"
      },
      "source": [
        "#improved DeepRec\n",
        "# Input\n",
        "input_layer = Input(shape=(masked_arr.shape[1],), name='input_matrix')\n",
        "\n",
        "# Encoder\n",
        "encoder = Dense(1024, activation='selu', name='encoder')(input_layer)\n",
        "encoder = Dense(512, activation='selu', name='encoder2')(encoder)\n",
        "encoder = Dropout(0.5)(encoder)\n",
        "\n",
        "# Bottleneck\n",
        "latent_features = Dense(64, activation='selu', name='latent_features')(encoder)\n",
        "latent_features = Dropout(0.8)(latent_features)\n",
        "\n",
        "# Decoder\n",
        "decoder = Dense(512, activation='selu', name='decoder')(latent_features)\n",
        "decoder = Dropout(0.5)(decoder)\n",
        "decoder = Dense(1024, activation='selu', name='decoder2')(decoder)\n",
        "\n",
        "# Output\n",
        "output_layer = Dense(masked_arr.shape[1], activation='selu', name='output')(decoder)\n",
        "\n",
        "model = Model(input_layer, output_layer)  \n"
      ],
      "execution_count": 50,
      "outputs": []
    },
    {
      "cell_type": "code",
      "metadata": {
        "id": "YGpLZDzKrJ69"
      },
      "source": [
        "model.compile(optimizer = Adam(lr=0.001), loss=MMSE)\n",
        "es = EarlyStopping(monitor='val_loss', mode='min', verbose=1, patience=30, restore_best_weights=True)\n",
        "\n",
        "hist = model.fit(x=masked_arr, y=masked_arr,\n",
        "                  epochs=200,\n",
        "                  batch_size=128,\n",
        "                  shuffle=True,\n",
        "                  validation_split=0.1, verbose=0)"
      ],
      "execution_count": 51,
      "outputs": []
    },
    {
      "cell_type": "code",
      "metadata": {
        "colab": {
          "base_uri": "https://localhost:8080/"
        },
        "id": "80O1yMpiEkgo",
        "outputId": "7ead27e7-c0b5-4c27-d5fc-fb2f7e97a3e0"
      },
      "source": [
        "#reconstruction of input and rmse \n",
        "predicted_matrix_enhanced = model.predict(masked_arr) * 5 #firstly make predictions \n",
        "predicted_matrix_enhanced = pd.DataFrame(predicted_matrix_enhanced, index=masked.index, columns=masked.columns) #converting preds into a df\n",
        "preds_melted = pd.melt(predicted_matrix_enhanced.reset_index(), id_vars=['user_id']) #melt predictions to be able to merge with testset\n",
        "preds_melted.columns = ['user_id','movie_id', 'rating']\n",
        "preds_melted['movie_id']=preds_melted['movie_id'].astype(int)\n",
        "final_df = pd.merge(preds_melted, test_set, on=['user_id','movie_id']) #merge testset and predictions\n",
        "final_df['diff'] = (final_df['rating_y'] - final_df['rating_x'])**2 #taking difference for rmse\n",
        "print('final rmse:', np.sqrt(final_df['diff'].mean()))"
      ],
      "execution_count": 52,
      "outputs": [
        {
          "output_type": "stream",
          "text": [
            "final rmse: 0.9408182547627746\n"
          ],
          "name": "stdout"
        }
      ]
    },
    {
      "cell_type": "code",
      "metadata": {
        "id": "kOwOGTjpST79"
      },
      "source": [
        "mean_apk_enhanced = np.mean([apk_user(i,30, predicted_matrix_enhanced) for i in masked.index.unique()])"
      ],
      "execution_count": 53,
      "outputs": []
    },
    {
      "cell_type": "code",
      "metadata": {
        "colab": {
          "base_uri": "https://localhost:8080/"
        },
        "id": "KXVCCyD2mLyR",
        "outputId": "26b1fc56-6e36-410b-9417-cbfddad9adce"
      },
      "source": [
        "mean_apk_enhanced"
      ],
      "execution_count": 54,
      "outputs": [
        {
          "output_type": "execute_result",
          "data": {
            "text/plain": [
              "0.0006370092274684901"
            ]
          },
          "metadata": {
            "tags": []
          },
          "execution_count": 54
        }
      ]
    },
    {
      "cell_type": "code",
      "metadata": {
        "id": "-JQhzJDxnKIQ"
      },
      "source": [
        ""
      ],
      "execution_count": 54,
      "outputs": []
    },
    {
      "cell_type": "code",
      "metadata": {
        "id": "ptrX6nOnnJ_8"
      },
      "source": [
        ""
      ],
      "execution_count": 54,
      "outputs": []
    },
    {
      "cell_type": "code",
      "metadata": {
        "colab": {
          "base_uri": "https://localhost:8080/"
        },
        "id": "Lct0nrSoIu1_",
        "outputId": "81121a67-ab6d-49b6-dc4f-0bea0fe0dd4b"
      },
      "source": [
        "mean_apk_base"
      ],
      "execution_count": 55,
      "outputs": [
        {
          "output_type": "execute_result",
          "data": {
            "text/plain": [
              "0.0018774315151820439"
            ]
          },
          "metadata": {
            "tags": []
          },
          "execution_count": 55
        }
      ]
    },
    {
      "cell_type": "code",
      "metadata": {
        "colab": {
          "base_uri": "https://localhost:8080/"
        },
        "id": "gDlbZCD5J0_-",
        "outputId": "c5106b0a-ab7c-4c0b-fe4b-7f4287669808"
      },
      "source": [
        "mean_apk_deep"
      ],
      "execution_count": 56,
      "outputs": [
        {
          "output_type": "execute_result",
          "data": {
            "text/plain": [
              "0.0022795489758459762"
            ]
          },
          "metadata": {
            "tags": []
          },
          "execution_count": 56
        }
      ]
    },
    {
      "cell_type": "code",
      "metadata": {
        "colab": {
          "base_uri": "https://localhost:8080/"
        },
        "id": "ag0Rx-iHJ9ym",
        "outputId": "1fdef231-8f3d-4f3e-a685-246a9591cce3"
      },
      "source": [
        "mean_apk_enhanced"
      ],
      "execution_count": 57,
      "outputs": [
        {
          "output_type": "execute_result",
          "data": {
            "text/plain": [
              "0.0006370092274684901"
            ]
          },
          "metadata": {
            "tags": []
          },
          "execution_count": 57
        }
      ]
    },
    {
      "cell_type": "code",
      "metadata": {
        "id": "a0Nuq2V5KACs"
      },
      "source": [
        ""
      ],
      "execution_count": 57,
      "outputs": []
    }
  ]
}