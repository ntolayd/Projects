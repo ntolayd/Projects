{
  "nbformat": 4,
  "nbformat_minor": 0,
  "metadata": {
    "accelerator": "GPU",
    "colab": {
      "name": "autoencoder.ipynb",
      "provenance": [],
      "collapsed_sections": [],
      "authorship_tag": "ABX9TyPKNX2SxOUPYlwtUSvShM6Q",
      "include_colab_link": true
    },
    "kernelspec": {
      "display_name": "Python 3",
      "name": "python3"
    },
    "language_info": {
      "name": "python"
    }
  },
  "cells": [
    {
      "cell_type": "markdown",
      "metadata": {
        "id": "view-in-github",
        "colab_type": "text"
      },
      "source": [
        "<a href=\"https://colab.research.google.com/github/ntolayd/Projects/blob/main/Recommendation_Engines/AutoEncoder.ipynb\" target=\"_parent\"><img src=\"https://colab.research.google.com/assets/colab-badge.svg\" alt=\"Open In Colab\"/></a>"
      ]
    },
    {
      "cell_type": "code",
      "metadata": {
        "colab": {
          "base_uri": "https://localhost:8080/"
        },
        "id": "ya2iBwcyffNZ",
        "outputId": "cd28f937-eb5b-44e9-d913-d4c8a0743b69"
      },
      "source": [
        "from google.colab import drive\n",
        "drive.mount('/content/gdrive')"
      ],
      "execution_count": 1,
      "outputs": [
        {
          "output_type": "stream",
          "text": [
            "Mounted at /content/gdrive\n"
          ],
          "name": "stdout"
        }
      ]
    },
    {
      "cell_type": "code",
      "metadata": {
        "id": "nC7UxrwtgAZY"
      },
      "source": [
        "import pandas as pd\n",
        "import matplotlib.pyplot as plt\n",
        "import math\n",
        "import numpy as np\n",
        "import seaborn as sns\n",
        "import warnings\n",
        "import tensorflow as tf\n",
        "import pickle\n",
        "warnings.filterwarnings('ignore')"
      ],
      "execution_count": 2,
      "outputs": []
    },
    {
      "cell_type": "code",
      "metadata": {
        "colab": {
          "base_uri": "https://localhost:8080/"
        },
        "id": "LRLFaYIpfpsI",
        "outputId": "7f63d3ba-b788-48aa-8c5e-6c8519693003"
      },
      "source": [
        "#data loading\n",
        "!unzip \"/content/gdrive/My Drive/ml-1m.zip\"\n",
        "masked = pd.read_csv('/content/gdrive/MyDrive/masked.csv')\n",
        "test_set = pd.read_csv('/content/gdrive/MyDrive/test_set.csv')\n",
        "with open(r'/content/gdrive/MyDrive/masked_idx.pkl', \"rb\") as input_file:\n",
        "  masked_idx = pickle.load(input_file)\n",
        "movies = pd.read_csv(\"ml-1m/movies.dat\", sep='::', engine='python', header=None)\n",
        "movies.columns = ['movie_id', 'movie_name', 'genre']\n",
        "ratings = pd.read_csv(\"ml-1m/ratings.dat\", sep='::', engine='python', header=None)\n",
        "ratings.columns=['user_id', 'movie_id', 'rating','timestamp']"
      ],
      "execution_count": 3,
      "outputs": [
        {
          "output_type": "stream",
          "text": [
            "Archive:  /content/gdrive/My Drive/ml-1m.zip\n",
            "   creating: ml-1m/\n",
            "  inflating: ml-1m/movies.dat        \n",
            "  inflating: ml-1m/ratings.dat       \n",
            "  inflating: ml-1m/README            \n",
            "  inflating: ml-1m/users.dat         \n"
          ],
          "name": "stdout"
        }
      ]
    },
    {
      "cell_type": "code",
      "metadata": {
        "id": "sLUoyjjoPTqM"
      },
      "source": [
        "masked = masked.set_index('user_id')\n",
        "masked_arr = masked.copy().values"
      ],
      "execution_count": 4,
      "outputs": []
    },
    {
      "cell_type": "code",
      "metadata": {
        "id": "JXeG3VLXmhw6"
      },
      "source": [
        "#replacing all nans with 0 and normalizing ratings between 0 and 1\n",
        "masked_arr[np.isnan(masked_arr)] = 0\n",
        "masked_arr = masked_arr / 5"
      ],
      "execution_count": 5,
      "outputs": []
    },
    {
      "cell_type": "code",
      "metadata": {
        "id": "ulw_aDlbgIPq"
      },
      "source": [
        "from keras.optimizers import Adam\n",
        "from keras.layers import Input, Dense, Dropout\n",
        "from keras.models import Model\n",
        "from keras import regularizers\n",
        "from keras.callbacks import EarlyStopping"
      ],
      "execution_count": 6,
      "outputs": []
    },
    {
      "cell_type": "markdown",
      "metadata": {
        "id": "xewGogZ6CF61"
      },
      "source": [
        "AutoRec Model\n"
      ]
    },
    {
      "cell_type": "code",
      "metadata": {
        "id": "XoEpM8C3hLL3"
      },
      "source": [
        "\n",
        "# Input\n",
        "input_layer = Input(shape=(masked_arr.shape[1],), name='input_matrix')\n",
        "\n",
        "\n",
        "# Bottleneck\n",
        "latent_features = Dense(64, activation='sigmoid', name='latent_features')(input_layer)\n",
        "\n",
        "\n",
        "# Output\n",
        "output_layer = Dense(masked_arr.shape[1], activation='linear', name='output')(latent_features)\n",
        "\n",
        "model = Model(input_layer, output_layer)    "
      ],
      "execution_count": 94,
      "outputs": []
    },
    {
      "cell_type": "code",
      "metadata": {
        "id": "hbkHv_Ar8fGb"
      },
      "source": [
        "#referance: https://github.com/keras-team/keras/issues/7065#issuecomment-318002081\n",
        "#masked mean squared error as loss function\n",
        "import keras.backend  as K\n",
        "def MMSE(y_true, y_pred):\n",
        "  #mask value is 0\n",
        "    mask_true = K.cast(K.not_equal(y_true, 0), K.floatx())\n",
        "    masked_squared_error = K.square(mask_true * (y_true - y_pred))\n",
        "    masked_mse = (K.sum(masked_squared_error, axis=-1) /\n",
        "                  K.sum(mask_true, axis=-1))\n",
        "    return masked_mse"
      ],
      "execution_count": 95,
      "outputs": []
    },
    {
      "cell_type": "code",
      "metadata": {
        "id": "tBV0bwAWiAby"
      },
      "source": [
        "model.compile(optimizer = Adam(lr=0.001), loss=MMSE)\n",
        "es = EarlyStopping(monitor='val_loss', mode='min', verbose=1, patience=10, restore_best_weights=True)\n",
        "\n",
        "hist = model.fit(x=masked_arr, y=masked_arr,\n",
        "                  epochs=200,\n",
        "                  batch_size=256,\n",
        "                  shuffle=True,\n",
        "                  validation_split=0.1, verbose=0)"
      ],
      "execution_count": 96,
      "outputs": []
    },
    {
      "cell_type": "code",
      "metadata": {
        "colab": {
          "base_uri": "https://localhost:8080/",
          "height": 296
        },
        "id": "78PYn4LPiSCE",
        "outputId": "55c1460b-dc82-457c-8353-0bca5aff7dbc"
      },
      "source": [
        "plt.plot(hist.history['loss'])\n",
        "plt.plot(hist.history['val_loss'])\n",
        "plt.ylabel('loss')\n",
        "plt.xlabel('epoch')\n",
        "plt.legend(['train', 'validation'])"
      ],
      "execution_count": 97,
      "outputs": [
        {
          "output_type": "execute_result",
          "data": {
            "text/plain": [
              "<matplotlib.legend.Legend at 0x7fc3999bc290>"
            ]
          },
          "metadata": {
            "tags": []
          },
          "execution_count": 97
        },
        {
          "output_type": "display_data",
          "data": {
            "image/png": "[encoded data removed]",
            "text/plain": [
              "<Figure size 432x288 with 1 Axes>"
            ]
          },
          "metadata": {
            "tags": [],
            "needs_background": "light"
          }
        }
      ]
    },
    {
      "cell_type": "code",
      "metadata": {
        "colab": {
          "base_uri": "https://localhost:8080/"
        },
        "id": "-wOLn4pEjQjG",
        "outputId": "02cf0ac2-90d5-447b-fbf6-3d1f48cfa8fc"
      },
      "source": [
        "#reconstruction of input and rmse \n",
        "predicted_matrix_base = model.predict(masked_arr) * 5 #firstly make predictions \n",
        "predicted_matrix_base = pd.DataFrame(predicted_matrix_base, index=masked.index, columns=masked.columns) #converting preds into a df\n",
        "preds_melted = pd.melt(predicted_matrix_base.reset_index(), id_vars=['user_id']) #melt predictions to be able to merge with testset\n",
        "preds_melted.columns = ['user_id','movie_id', 'rating']\n",
        "preds_melted['movie_id']=preds_melted['movie_id'].astype(int)\n",
        "final_df = pd.merge(preds_melted, test_set, on=['user_id','movie_id']) #merge testset and predictions\n",
        "final_df['diff'] = (final_df['rating_y'] - final_df['rating_x'])**2 #taking difference for rmse\n",
        "print('final rmse:', np.sqrt(final_df['diff'].mean()))"
      ],
      "execution_count": 98,
      "outputs": [
        {
          "output_type": "stream",
          "text": [
            "final rmse: 1.0526953072455727\n"
          ],
          "name": "stdout"
        }
      ]
    },
    {
      "cell_type": "code",
      "metadata": {
        "id": "tN9-cUmoP1fU"
      },
      "source": [
        "def recommender(user_id,n,prediction_matrix):\n",
        "  recommend_df = prediction_matrix.loc[prediction_matrix.index==user_id].T.reset_index()\n",
        "  recommend_df.columns = ['movie_id','ratings']\n",
        "  recommend_df = recommend_df.sort_values(by='ratings', ascending=False).head(n)\n",
        "  recommend_df['movie_id'] = recommend_df['movie_id'].astype(int)\n",
        "  watched_movies = pd.merge(ratings[ratings['user_id'] == user_id].sort_values(by='rating',ascending=False).head(n), movies, on='movie_id')\n",
        "  recommended_movies = pd.merge(recommend_df, movies, on='movie_id')\n",
        "  #print(f'Watched movies by user {user_id}:', '\\n', watched_movies[['movie_name','rating']],'\\n')\n",
        "  #print(f'Recommended movies to user {user_id}:', '\\n', recommended_movies[['movie_name','ratings']])\n",
        "  return recommended_movies[['movie_id','ratings']]"
      ],
      "execution_count": 99,
      "outputs": []
    },
    {
      "cell_type": "code",
      "metadata": {
        "id": "OGXf1LNlAKaS"
      },
      "source": [
        "def apk(actual, predicted, k=10):\n",
        "\n",
        "    if len(actual) == 0:\n",
        "      return 0\n",
        "\n",
        "    if len(predicted)>k:\n",
        "        predicted = predicted[:k]\n",
        "\n",
        "    score = 0.0\n",
        "    num_hits = 0.0\n",
        "\n",
        "    for i,p in enumerate(predicted):\n",
        "        if p in actual and p not in predicted[:i]:\n",
        "            num_hits += 1.0\n",
        "            score += num_hits / (i+1.0)\n",
        "\n",
        "\n",
        "    return score / min(len(actual), k)"
      ],
      "execution_count": 100,
      "outputs": []
    },
    {
      "cell_type": "code",
      "metadata": {
        "id": "v92DCAjLArOT"
      },
      "source": [
        "def apk_user(user_id,k,prediction_matrix):\n",
        "  mean_rating = masked[masked.index == user_id].mean(axis=1).values[0]\n",
        "  user_test = test_set[test_set['user_id'] == user_id][['movie_id','rating']]\n",
        "  user_liked_movies = user_test[user_test['rating'] >= mean_rating]['movie_id'].values\n",
        "  recommended_movies = recommender(user_id,k,prediction_matrix)['movie_id'].values\n",
        "  return apk(user_liked_movies, recommended_movies,k)"
      ],
      "execution_count": 101,
      "outputs": []
    },
    {
      "cell_type": "code",
      "metadata": {
        "id": "PH9j2InyFpLI"
      },
      "source": [
        "mean_apk_base_no_reg = np.mean([apk_user(i,30, predicted_matrix_base) for i in masked.index.unique()])"
      ],
      "execution_count": 102,
      "outputs": []
    },
    {
      "cell_type": "code",
      "metadata": {
        "colab": {
          "base_uri": "https://localhost:8080/"
        },
        "id": "iWPTdZK0kAQp",
        "outputId": "4600bfe6-c67a-472f-c1bb-586e76ac5a00"
      },
      "source": [
        "mean_apk_base_no_reg"
      ],
      "execution_count": 103,
      "outputs": [
        {
          "output_type": "execute_result",
          "data": {
            "text/plain": [
              "0.002252271032132172"
            ]
          },
          "metadata": {
            "tags": []
          },
          "execution_count": 103
        }
      ]
    },
    {
      "cell_type": "markdown",
      "metadata": {
        "id": "rdsnDbR8p6Ls"
      },
      "source": [
        "DeepRec model\n"
      ]
    },
    {
      "cell_type": "code",
      "metadata": {
        "id": "ZgYyMzALpWH9"
      },
      "source": [
        "# Input\n",
        "input_layer = Input(shape=(masked_arr.shape[1],), name='input_matrix')\n",
        "\n",
        "# Encoder\n",
        "encoder = Dense(512, activation='relu', name='encoder')(input_layer)\n",
        "#encoder =  Dropout(0.5)(encoder)\n",
        "# Bottleneck\n",
        "latent_features = Dense(64, activation='relu', name='latent_features')(encoder)\n",
        "#latent_features = Dropout(0.5)(latent_features)\n",
        "\n",
        "# Decoder\n",
        "decoder = Dense(512, activation='relu', name='decoder')(latent_features)\n",
        "\n",
        "# Output\n",
        "output_layer = Dense(masked_arr.shape[1], activation='linear', name='output')(decoder)\n",
        "\n",
        "model = Model(input_layer, output_layer)  "
      ],
      "execution_count": 104,
      "outputs": []
    },
    {
      "cell_type": "code",
      "metadata": {
        "id": "g-Y593zTqeLH"
      },
      "source": [
        "model.compile(optimizer = Adam(lr=0.001), loss=MMSE)\n",
        "es = EarlyStopping(monitor='val_loss', mode='min', verbose=1, patience=20, restore_best_weights=True)\n",
        "\n",
        "hist = model.fit(x=masked_arr, y=masked_arr,\n",
        "                  epochs=200,\n",
        "                  batch_size=256,\n",
        "                  shuffle=True,\n",
        "                  validation_split=0.1, verbose=0)"
      ],
      "execution_count": 105,
      "outputs": []
    },
    {
      "cell_type": "code",
      "metadata": {
        "colab": {
          "base_uri": "https://localhost:8080/",
          "height": 296
        },
        "id": "8M22LR8OqlS3",
        "outputId": "c1aade05-5a85-4506-96b0-0c297330f79b"
      },
      "source": [
        "plt.plot(hist.history['loss'])\n",
        "plt.plot(hist.history['val_loss'])\n",
        "plt.ylabel('loss')\n",
        "plt.xlabel('epoch')\n",
        "plt.legend(['train', 'validation'])"
      ],
      "execution_count": 106,
      "outputs": [
        {
          "output_type": "execute_result",
          "data": {
            "text/plain": [
              "<matplotlib.legend.Legend at 0x7fc39972c7d0>"
            ]
          },
          "metadata": {
            "tags": []
          },
          "execution_count": 106
        },
        {
          "output_type": "display_data",
          "data": {
            "image/png": "[encoded data removed]",
            "text/plain": [
              "<Figure size 432x288 with 1 Axes>"
            ]
          },
          "metadata": {
            "tags": [],
            "needs_background": "light"
          }
        }
      ]
    },
    {
      "cell_type": "code",
      "metadata": {
        "colab": {
          "base_uri": "https://localhost:8080/"
        },
        "id": "bTB3wvdTrcZJ",
        "outputId": "eb2b813e-e1da-4a6b-aab8-2d4643460a36"
      },
      "source": [
        "#reconstruction of input and rmse \n",
        "predicted_matrix_deep = model.predict(masked_arr) * 5 #firstly make predictions \n",
        "predicted_matrix_deep = pd.DataFrame(predicted_matrix_deep, index=masked.index, columns=masked.columns) #converting preds into a df\n",
        "preds_melted = pd.melt(predicted_matrix_deep.reset_index(), id_vars=['user_id']) #melt predictions to be able to merge with testset\n",
        "preds_melted.columns = ['user_id','movie_id', 'rating']\n",
        "preds_melted['movie_id']=preds_melted['movie_id'].astype(int)\n",
        "final_df = pd.merge(preds_melted, test_set, on=['user_id','movie_id']) #merge testset and predictions\n",
        "final_df['diff'] = (final_df['rating_y'] - final_df['rating_x'])**2 #taking difference for rmse\n",
        "print('final rmse:', np.sqrt(final_df['diff'].mean()))"
      ],
      "execution_count": 107,
      "outputs": [
        {
          "output_type": "stream",
          "text": [
            "final rmse: 1.1544070118677283\n"
          ],
          "name": "stdout"
        }
      ]
    },
    {
      "cell_type": "code",
      "metadata": {
        "id": "KfRQnsc6IhNd"
      },
      "source": [
        "mean_apk_deep_no_reg = np.mean([apk_user(i,30, predicted_matrix_deep) for i in masked.index.unique()])"
      ],
      "execution_count": 108,
      "outputs": []
    },
    {
      "cell_type": "code",
      "metadata": {
        "colab": {
          "base_uri": "https://localhost:8080/"
        },
        "id": "nZDp1-1SknRf",
        "outputId": "1149312e-3e51-4f10-fdd5-49f0d063caf1"
      },
      "source": [
        "mean_apk_deep_no_reg"
      ],
      "execution_count": 109,
      "outputs": [
        {
          "output_type": "execute_result",
          "data": {
            "text/plain": [
              "0.0032838743424210485"
            ]
          },
          "metadata": {
            "tags": []
          },
          "execution_count": 109
        }
      ]
    },
    {
      "cell_type": "code",
      "metadata": {
        "id": "kK6qq1rqtLfX"
      },
      "source": [
        "#improved DeepRec\n",
        "# Input\n",
        "input_layer = Input(shape=(masked_arr.shape[1],), name='input_matrix')\n",
        "\n",
        "# Encoder\n",
        "encoder = Dense(1024, activation='selu', name='encoder')(input_layer)\n",
        "encoder = Dense(512, activation='selu', name='encoder2')(encoder)\n",
        "#encoder = Dropout(0.5)(encoder)\n",
        "\n",
        "# Bottleneck\n",
        "latent_features = Dense(64, activation='selu', name='latent_features')(encoder)\n",
        "latent_features = Dropout(0.8)(latent_features)\n",
        "\n",
        "# Decoder\n",
        "decoder = Dense(512, activation='selu', name='decoder')(latent_features)\n",
        "#decoder = Dropout(0.5)(decoder)\n",
        "decoder = Dense(1024, activation='selu', name='decoder2')(decoder)\n",
        "\n",
        "# Output\n",
        "output_layer = Dense(masked_arr.shape[1], activation='selu', name='output')(decoder)\n",
        "\n",
        "model = Model(input_layer, output_layer)  \n"
      ],
      "execution_count": 154,
      "outputs": []
    },
    {
      "cell_type": "code",
      "metadata": {
        "id": "YGpLZDzKrJ69"
      },
      "source": [
        "model.compile(optimizer = Adam(lr=0.001), loss=MMSE)\n",
        "es = EarlyStopping(monitor='val_loss', mode='min', verbose=1, patience=30, restore_best_weights=True)\n",
        "\n",
        "hist = model.fit(x=masked_arr, y=masked_arr,\n",
        "                  epochs=200,\n",
        "                  batch_size=256,\n",
        "                  shuffle=True,\n",
        "                  validation_split=0.1, verbose=0)"
      ],
      "execution_count": 155,
      "outputs": []
    },
    {
      "cell_type": "code",
      "metadata": {
        "id": "o82GuZX5gT7Y",
        "outputId": "4e017166-239c-4e33-f853-0c65d002fc60",
        "colab": {
          "base_uri": "https://localhost:8080/",
          "height": 300
        }
      },
      "source": [
        "plt.plot(hist.history['loss'])\n",
        "plt.plot(hist.history['val_loss'])\n",
        "plt.ylabel('loss')\n",
        "plt.xlabel('epoch')\n",
        "plt.legend(['train', 'validation'])"
      ],
      "execution_count": 156,
      "outputs": [
        {
          "output_type": "execute_result",
          "data": {
            "text/plain": [
              "<matplotlib.legend.Legend at 0x7fc3a5a44c90>"
            ]
          },
          "metadata": {
            "tags": []
          },
          "execution_count": 156
        },
        {
          "output_type": "display_data",
          "data": {
            "image/png": "[encoded data removed]",
            "text/plain": [
              "<Figure size 432x288 with 1 Axes>"
            ]
          },
          "metadata": {
            "tags": [],
            "needs_background": "light"
          }
        }
      ]
    },
    {
      "cell_type": "code",
      "metadata": {
        "colab": {
          "base_uri": "https://localhost:8080/"
        },
        "id": "80O1yMpiEkgo",
        "outputId": "718fd9ff-e930-4dd9-ebbc-de220b3a3187"
      },
      "source": [
        "#reconstruction of input and rmse \n",
        "predicted_matrix_enhanced = model.predict(masked_arr) * 5 #firstly make predictions \n",
        "predicted_matrix_enhanced = pd.DataFrame(predicted_matrix_enhanced, index=masked.index, columns=masked.columns) #converting preds into a df\n",
        "preds_melted = pd.melt(predicted_matrix_enhanced.reset_index(), id_vars=['user_id']) #melt predictions to be able to merge with testset\n",
        "preds_melted.columns = ['user_id','movie_id', 'rating']\n",
        "preds_melted['movie_id']=preds_melted['movie_id'].astype(int)\n",
        "final_df = pd.merge(preds_melted, test_set, on=['user_id','movie_id']) #merge testset and predictions\n",
        "final_df['diff'] = (final_df['rating_y'] - final_df['rating_x'])**2 #taking difference for rmse\n",
        "print('final rmse:', np.sqrt(final_df['diff'].mean()))"
      ],
      "execution_count": 157,
      "outputs": [
        {
          "output_type": "stream",
          "text": [
            "final rmse: 0.9027322040368341\n"
          ],
          "name": "stdout"
        }
      ]
    },
    {
      "cell_type": "code",
      "metadata": {
        "id": "kOwOGTjpST79"
      },
      "source": [
        "mean_apk_enhanced_no_reg= np.mean([apk_user(i,30, predicted_matrix_enhanced) for i in masked.index.unique()])"
      ],
      "execution_count": 158,
      "outputs": []
    },
    {
      "cell_type": "code",
      "metadata": {
        "colab": {
          "base_uri": "https://localhost:8080/"
        },
        "id": "KXVCCyD2mLyR",
        "outputId": "54a46a8e-69c3-4b01-f5ce-04325fa7d0fa"
      },
      "source": [
        "mean_apk_enhanced_no_reg"
      ],
      "execution_count": 159,
      "outputs": [
        {
          "output_type": "execute_result",
          "data": {
            "text/plain": [
              "0.0025511727239737815"
            ]
          },
          "metadata": {
            "tags": []
          },
          "execution_count": 159
        }
      ]
    },
    {
      "cell_type": "markdown",
      "metadata": {
        "id": "SM5Zk0xvIBc5"
      },
      "source": [
        "With regularization"
      ]
    },
    {
      "cell_type": "code",
      "metadata": {
        "id": "a0Nuq2V5KACs"
      },
      "source": [
        "\n",
        "# Input\n",
        "input_layer = Input(shape=(masked_arr.shape[1],), name='input_matrix')\n",
        "\n",
        "\n",
        "# Bottleneck\n",
        "latent_features = Dense(64, activation='sigmoid', name='latent_features', kernel_regularizer=regularizers.l1_l2(l1=1e-5, l2=1e-4))(input_layer)\n",
        "latent_features = Dropout(0.5)(latent_features)\n",
        "\n",
        "# Output\n",
        "output_layer = Dense(masked_arr.shape[1], activation='linear', name='output')(latent_features)\n",
        "\n",
        "model = Model(input_layer, output_layer)    "
      ],
      "execution_count": 165,
      "outputs": []
    },
    {
      "cell_type": "code",
      "metadata": {
        "id": "JM8o_hpDIN2v"
      },
      "source": [
        "model.compile(optimizer = Adam(lr=0.001), loss=MMSE)\n",
        "es = EarlyStopping(monitor='val_loss', mode='min', verbose=1, patience=10, restore_best_weights=True)\n",
        "\n",
        "hist = model.fit(x=masked_arr, y=masked_arr,\n",
        "                  epochs=200,\n",
        "                  batch_size=256,\n",
        "                  shuffle=True,\n",
        "                  validation_split=0.1, verbose=0)"
      ],
      "execution_count": 166,
      "outputs": []
    },
    {
      "cell_type": "code",
      "metadata": {
        "id": "eRbFiofmIP49",
        "outputId": "f9bf730b-6d3f-4596-9ba7-5399e9d8111d",
        "colab": {
          "base_uri": "https://localhost:8080/",
          "height": 296
        }
      },
      "source": [
        "plt.plot(hist.history['loss'])\n",
        "plt.plot(hist.history['val_loss'])\n",
        "plt.ylabel('loss')\n",
        "plt.xlabel('epoch')\n",
        "plt.legend(['train', 'validation'])"
      ],
      "execution_count": 167,
      "outputs": [
        {
          "output_type": "execute_result",
          "data": {
            "text/plain": [
              "<matplotlib.legend.Legend at 0x7fc3996e2490>"
            ]
          },
          "metadata": {
            "tags": []
          },
          "execution_count": 167
        },
        {
          "output_type": "display_data",
          "data": {
            "image/png": "[encoded data removed]",
            "text/plain": [
              "<Figure size 432x288 with 1 Axes>"
            ]
          },
          "metadata": {
            "tags": [],
            "needs_background": "light"
          }
        }
      ]
    },
    {
      "cell_type": "code",
      "metadata": {
        "id": "r7h3H-2GISDy",
        "outputId": "70de7f04-cc5c-403b-d249-ff1ba535c2ba",
        "colab": {
          "base_uri": "https://localhost:8080/"
        }
      },
      "source": [
        "#reconstruction of input and rmse \n",
        "predicted_matrix_base = model.predict(masked_arr) * 5 #firstly make predictions \n",
        "predicted_matrix_base = pd.DataFrame(predicted_matrix_base, index=masked.index, columns=masked.columns) #converting preds into a df\n",
        "preds_melted = pd.melt(predicted_matrix_base.reset_index(), id_vars=['user_id']) #melt predictions to be able to merge with testset\n",
        "preds_melted.columns = ['user_id','movie_id', 'rating']\n",
        "preds_melted['movie_id']=preds_melted['movie_id'].astype(int)\n",
        "final_df = pd.merge(preds_melted, test_set, on=['user_id','movie_id']) #merge testset and predictions\n",
        "final_df['diff'] = (final_df['rating_y'] - final_df['rating_x'])**2 #taking difference for rmse\n",
        "print('final rmse:', np.sqrt(final_df['diff'].mean()))"
      ],
      "execution_count": 168,
      "outputs": [
        {
          "output_type": "stream",
          "text": [
            "final rmse: 0.9855762599778226\n"
          ],
          "name": "stdout"
        }
      ]
    },
    {
      "cell_type": "code",
      "metadata": {
        "id": "ufESarF_IVdR"
      },
      "source": [
        "mean_apk_base_reg = np.mean([apk_user(i,30, predicted_matrix_base) for i in masked.index.unique()])"
      ],
      "execution_count": 169,
      "outputs": []
    },
    {
      "cell_type": "code",
      "metadata": {
        "id": "SAI-nSTBJN3G",
        "outputId": "dd2f5bb0-e8d2-4497-9fc7-c0d853071cd5",
        "colab": {
          "base_uri": "https://localhost:8080/"
        }
      },
      "source": [
        "mean_apk_base_reg"
      ],
      "execution_count": 170,
      "outputs": [
        {
          "output_type": "execute_result",
          "data": {
            "text/plain": [
              "0.0004456298440100954"
            ]
          },
          "metadata": {
            "tags": []
          },
          "execution_count": 170
        }
      ]
    },
    {
      "cell_type": "code",
      "metadata": {
        "id": "bNDnEUK1IZKP"
      },
      "source": [
        "##Deeprec"
      ],
      "execution_count": 171,
      "outputs": []
    },
    {
      "cell_type": "code",
      "metadata": {
        "id": "EhwBHTDOIh2-"
      },
      "source": [
        "# Input\n",
        "input_layer = Input(shape=(masked_arr.shape[1],), name='input_matrix')\n",
        "\n",
        "# Encoder\n",
        "encoder = Dense(512, activation='relu', name='encoder', kernel_regularizer=regularizers.l1_l2(l1=1e-5, l2=1e-4))(input_layer)\n",
        "# Bottleneck\n",
        "\n",
        "latent_features = Dense(64, activation='relu', name='latent_features', kernel_regularizer=regularizers.l1_l2(l1=1e-5, l2=1e-4))(encoder)\n",
        "latent_features = Dropout(0.5)(latent_features)\n",
        "\n",
        "# Decoder\n",
        "decoder = Dense(512, activation='relu', name='decoder', kernel_regularizer=regularizers.l1_l2(l1=1e-5, l2=1e-4))(latent_features)\n",
        "\n",
        "# Output\n",
        "output_layer = Dense(masked_arr.shape[1], activation='linear', name='output')(decoder)\n",
        "\n",
        "model = Model(input_layer, output_layer)  "
      ],
      "execution_count": 172,
      "outputs": []
    },
    {
      "cell_type": "code",
      "metadata": {
        "id": "W0M1QIfcI6Ad"
      },
      "source": [
        "model.compile(optimizer = Adam(lr=0.001), loss=MMSE)\n",
        "es = EarlyStopping(monitor='val_loss', mode='min', verbose=1, patience=10, restore_best_weights=True)\n",
        "\n",
        "hist = model.fit(x=masked_arr, y=masked_arr,\n",
        "                  epochs=200,\n",
        "                  batch_size=256,\n",
        "                  shuffle=True,\n",
        "                  validation_split=0.1, verbose=0)"
      ],
      "execution_count": 173,
      "outputs": []
    },
    {
      "cell_type": "code",
      "metadata": {
        "id": "mfAP4roWI7PU",
        "outputId": "5d58d8c6-30ad-4f2a-9469-0dd92bf8850b",
        "colab": {
          "base_uri": "https://localhost:8080/",
          "height": 296
        }
      },
      "source": [
        "plt.plot(hist.history['loss'])\n",
        "plt.plot(hist.history['val_loss'])\n",
        "plt.ylabel('loss')\n",
        "plt.xlabel('epoch')\n",
        "plt.legend(['train', 'validation'])"
      ],
      "execution_count": 174,
      "outputs": [
        {
          "output_type": "execute_result",
          "data": {
            "text/plain": [
              "<matplotlib.legend.Legend at 0x7fc3989a7750>"
            ]
          },
          "metadata": {
            "tags": []
          },
          "execution_count": 174
        },
        {
          "output_type": "display_data",
          "data": {
            "image/png": "[encoded data removed]",
            "text/plain": [
              "<Figure size 432x288 with 1 Axes>"
            ]
          },
          "metadata": {
            "tags": [],
            "needs_background": "light"
          }
        }
      ]
    },
    {
      "cell_type": "code",
      "metadata": {
        "id": "C1FKHBSVI8d-",
        "outputId": "8073c5e8-b1a6-4f68-fc34-315ce3052f11",
        "colab": {
          "base_uri": "https://localhost:8080/"
        }
      },
      "source": [
        "#reconstruction of input and rmse \n",
        "predicted_matrix_deep = model.predict(masked_arr) * 5 #firstly make predictions \n",
        "predicted_matrix_deep = pd.DataFrame(predicted_matrix_deep, index=masked.index, columns=masked.columns) #converting preds into a df\n",
        "preds_melted = pd.melt(predicted_matrix_deep.reset_index(), id_vars=['user_id']) #melt predictions to be able to merge with testset\n",
        "preds_melted.columns = ['user_id','movie_id', 'rating']\n",
        "preds_melted['movie_id']=preds_melted['movie_id'].astype(int)\n",
        "final_df = pd.merge(preds_melted, test_set, on=['user_id','movie_id']) #merge testset and predictions\n",
        "final_df['diff'] = (final_df['rating_y'] - final_df['rating_x'])**2 #taking difference for rmse\n",
        "print('final rmse:', np.sqrt(final_df['diff'].mean()))"
      ],
      "execution_count": 175,
      "outputs": [
        {
          "output_type": "stream",
          "text": [
            "final rmse: 0.9329309704564155\n"
          ],
          "name": "stdout"
        }
      ]
    },
    {
      "cell_type": "code",
      "metadata": {
        "id": "UKIcKaGgI-zm"
      },
      "source": [
        "mean_apk_deep_reg = np.mean([apk_user(i,30, predicted_matrix_deep) for i in masked.index.unique()])"
      ],
      "execution_count": 176,
      "outputs": []
    },
    {
      "cell_type": "code",
      "metadata": {
        "id": "oa2jbEJTJJaW",
        "outputId": "8bbef6c4-0dc0-437e-b5d2-e4028509e472",
        "colab": {
          "base_uri": "https://localhost:8080/"
        }
      },
      "source": [
        "mean_apk_deep_reg"
      ],
      "execution_count": 177,
      "outputs": [
        {
          "output_type": "execute_result",
          "data": {
            "text/plain": [
              "0.0007702263905076189"
            ]
          },
          "metadata": {
            "tags": []
          },
          "execution_count": 177
        }
      ]
    },
    {
      "cell_type": "code",
      "metadata": {
        "id": "Gkex7LapJRgo"
      },
      "source": [
        "#improved DeepRec\n",
        "# Input\n",
        "input_layer = Input(shape=(masked_arr.shape[1],), name='input_matrix')\n",
        "\n",
        "# Encoder\n",
        "encoder = Dense(1024, activation='selu', name='encoder', kernel_regularizer=regularizers.l1_l2(l1=1e-5, l2=1e-4))(input_layer)\n",
        "encoder = Dense(512, activation='selu', name='encoder2', kernel_regularizer=regularizers.l1_l2(l1=1e-5, l2=1e-4))(encoder)\n",
        "\n",
        "# Bottleneck\n",
        "latent_features = Dense(64, activation='selu', name='latent_features', kernel_regularizer=regularizers.l1_l2(l1=1e-5, l2=1e-4))(encoder)\n",
        "latent_features = Dropout(0.8)(latent_features)\n",
        "\n",
        "# Decoder\n",
        "decoder = Dense(512, activation='selu', name='decoder', kernel_regularizer=regularizers.l1_l2(l1=1e-5, l2=1e-4))(latent_features)\n",
        "decoder = Dense(1024, activation='selu', name='decoder2', kernel_regularizer=regularizers.l1_l2(l1=1e-5, l2=1e-4))(decoder)\n",
        "\n",
        "# Output\n",
        "output_layer = Dense(masked_arr.shape[1], activation='selu', name='output')(decoder)\n",
        "\n",
        "model = Model(input_layer, output_layer)  \n"
      ],
      "execution_count": 178,
      "outputs": []
    },
    {
      "cell_type": "code",
      "metadata": {
        "id": "Mqo9P14KJdkR"
      },
      "source": [
        "model.compile(optimizer = Adam(lr=0.001), loss=MMSE)\n",
        "es = EarlyStopping(monitor='val_loss', mode='min', verbose=1, patience=30, restore_best_weights=True)\n",
        "\n",
        "hist = model.fit(x=masked_arr, y=masked_arr,\n",
        "                  epochs=200,\n",
        "                  batch_size=256,\n",
        "                  shuffle=True,\n",
        "                  validation_split=0.1, verbose=0)"
      ],
      "execution_count": 179,
      "outputs": []
    },
    {
      "cell_type": "code",
      "metadata": {
        "id": "s8L0DO9lJoo5",
        "outputId": "3eea76d7-8a70-48de-fb5b-705003173fb3",
        "colab": {
          "base_uri": "https://localhost:8080/",
          "height": 296
        }
      },
      "source": [
        "plt.plot(hist.history['loss'])\n",
        "plt.plot(hist.history['val_loss'])\n",
        "plt.ylabel('loss')\n",
        "plt.xlabel('epoch')\n",
        "plt.legend(['train', 'validation'])"
      ],
      "execution_count": 180,
      "outputs": [
        {
          "output_type": "execute_result",
          "data": {
            "text/plain": [
              "<matplotlib.legend.Legend at 0x7fc393d36c50>"
            ]
          },
          "metadata": {
            "tags": []
          },
          "execution_count": 180
        },
        {
          "output_type": "display_data",
          "data": {
            "image/png": "[encoded data removed]",
            "text/plain": [
              "<Figure size 432x288 with 1 Axes>"
            ]
          },
          "metadata": {
            "tags": [],
            "needs_background": "light"
          }
        }
      ]
    },
    {
      "cell_type": "code",
      "metadata": {
        "id": "TRj7OvTnJfov",
        "outputId": "43489608-1ffb-4fe3-d2e9-560d4ceb08ff",
        "colab": {
          "base_uri": "https://localhost:8080/"
        }
      },
      "source": [
        "#reconstruction of input and rmse \n",
        "predicted_matrix_enhanced = model.predict(masked_arr) * 5 #firstly make predictions \n",
        "predicted_matrix_enhanced = pd.DataFrame(predicted_matrix_enhanced, index=masked.index, columns=masked.columns) #converting preds into a df\n",
        "preds_melted = pd.melt(predicted_matrix_enhanced.reset_index(), id_vars=['user_id']) #melt predictions to be able to merge with testset\n",
        "preds_melted.columns = ['user_id','movie_id', 'rating']\n",
        "preds_melted['movie_id']=preds_melted['movie_id'].astype(int)\n",
        "final_df = pd.merge(preds_melted, test_set, on=['user_id','movie_id']) #merge testset and predictions\n",
        "final_df['diff'] = (final_df['rating_y'] - final_df['rating_x'])**2 #taking difference for rmse\n",
        "print('final rmse:', np.sqrt(final_df['diff'].mean()))"
      ],
      "execution_count": 181,
      "outputs": [
        {
          "output_type": "stream",
          "text": [
            "final rmse: 0.9572739273990188\n"
          ],
          "name": "stdout"
        }
      ]
    },
    {
      "cell_type": "code",
      "metadata": {
        "id": "QGzJrNakJhp2"
      },
      "source": [
        "mean_apk_enhanced_reg= np.mean([apk_user(i,30, predicted_matrix_enhanced) for i in masked.index.unique()])"
      ],
      "execution_count": 182,
      "outputs": []
    },
    {
      "cell_type": "code",
      "metadata": {
        "id": "oliFDjbiJkG4",
        "outputId": "138702c3-4f31-4823-ec6a-4022c1d8e5e1",
        "colab": {
          "base_uri": "https://localhost:8080/"
        }
      },
      "source": [
        "mean_apk_enhanced_reg"
      ],
      "execution_count": 183,
      "outputs": [
        {
          "output_type": "execute_result",
          "data": {
            "text/plain": [
              "0.0002583590748533942"
            ]
          },
          "metadata": {
            "tags": []
          },
          "execution_count": 183
        }
      ]
    },
    {
      "cell_type": "code",
      "metadata": {
        "id": "csRdEo9PJmxH"
      },
      "source": [
        ""
      ],
      "execution_count": 153,
      "outputs": []
    }
  ]
}