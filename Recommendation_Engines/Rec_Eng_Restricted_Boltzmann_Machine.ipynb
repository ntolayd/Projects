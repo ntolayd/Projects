{
  "nbformat": 4,
  "nbformat_minor": 0,
  "metadata": {
    "colab": {
      "name": "rbm_rec.ipynb",
      "provenance": [],
      "authorship_tag": "ABX9TyMJmxk8fcchn1D85xdhjtwd",
      "include_colab_link": true
    },
    "kernelspec": {
      "name": "python3",
      "display_name": "Python 3"
    },
    "language_info": {
      "name": "python"
    }
  },
  "cells": [
    {
      "cell_type": "markdown",
      "metadata": {
        "id": "view-in-github",
        "colab_type": "text"
      },
      "source": [
        "<a href=\"https://colab.research.google.com/github/ntolayd/Projects/blob/main/Recommendation_Engines/Rec_Eng_Restricted_Boltzmann_Machine.ipynb\" target=\"_parent\"><img src=\"https://colab.research.google.com/assets/colab-badge.svg\" alt=\"Open In Colab\"/></a>"
      ]
    },
    {
      "cell_type": "markdown",
      "metadata": {
        "id": "VrVkuaC6IwuE"
      },
      "source": [
        "reference:\n",
        "\n",
        "https://github.com/IBM/dl-learning-path-assets/blob/main/unsupervised-deeplearning/notebooks/CollabortiveFilteringUsingRBM.ipynb"
      ]
    },
    {
      "cell_type": "code",
      "metadata": {
        "colab": {
          "base_uri": "https://localhost:8080/"
        },
        "id": "oH4Bz94SVC5U",
        "outputId": "db8b392c-2e91-4da2-ac39-4cf3824e44f1"
      },
      "source": [
        "from google.colab import drive\n",
        "drive.mount('/content/gdrive')"
      ],
      "execution_count": 1,
      "outputs": [
        {
          "output_type": "stream",
          "text": [
            "Mounted at /content/gdrive\n"
          ],
          "name": "stdout"
        }
      ]
    },
    {
      "cell_type": "code",
      "metadata": {
        "colab": {
          "base_uri": "https://localhost:8080/"
        },
        "id": "TQCU_w_WVEz3",
        "outputId": "ddf99e87-1f6e-428b-d9af-433b1a291940"
      },
      "source": [
        "!unzip \"/content/gdrive/My Drive/ml-1m.zip\""
      ],
      "execution_count": 2,
      "outputs": [
        {
          "output_type": "stream",
          "text": [
            "Archive:  /content/gdrive/My Drive/ml-1m.zip\n",
            "   creating: ml-1m/\n",
            "  inflating: ml-1m/movies.dat        \n",
            "  inflating: ml-1m/ratings.dat       \n",
            "  inflating: ml-1m/README            \n",
            "  inflating: ml-1m/users.dat         \n"
          ],
          "name": "stdout"
        }
      ]
    },
    {
      "cell_type": "code",
      "metadata": {
        "id": "mYwwzPqAVOVh"
      },
      "source": [
        "import pandas as pd\n",
        "import matplotlib.pyplot as plt\n",
        "import math\n",
        "import numpy as np\n",
        "import seaborn as sns\n",
        "import warnings\n",
        "import tensorflow as tf\n",
        "warnings.filterwarnings('ignore')"
      ],
      "execution_count": 10,
      "outputs": []
    },
    {
      "cell_type": "code",
      "metadata": {
        "id": "vjaozwsjVOS9"
      },
      "source": [
        "movies = pd.read_csv(\"ml-1m/movies.dat\", sep='::', engine='python', header=None)\n",
        "movies.columns = ['movie_id', 'movie_name', 'genre']\n",
        "ratings = pd.read_csv(\"ml-1m/ratings.dat\", sep='::', engine='python', header=None)\n",
        "ratings.columns=['user_id', 'movie_id', 'rating','timestamp']"
      ],
      "execution_count": 4,
      "outputs": []
    },
    {
      "cell_type": "code",
      "metadata": {
        "id": "1NED3yA5VOQO"
      },
      "source": [
        "#converting to user - item matrix\n",
        "train_matrix = pd.pivot_table(ratings, index='user_id', columns='movie_id', values='rating')"
      ],
      "execution_count": 5,
      "outputs": []
    },
    {
      "cell_type": "code",
      "metadata": {
        "id": "LuberKBvv4RU"
      },
      "source": [
        "user_rating = train_matrix.copy().fillna(0).values / 5"
      ],
      "execution_count": 8,
      "outputs": []
    },
    {
      "cell_type": "code",
      "metadata": {
        "colab": {
          "base_uri": "https://localhost:8080/"
        },
        "id": "zIj-yYiqv_am",
        "outputId": "13f91679-6f6a-4a4c-fff7-813e5ca2f8d7"
      },
      "source": [
        "user_rating"
      ],
      "execution_count": 9,
      "outputs": [
        {
          "output_type": "execute_result",
          "data": {
            "text/plain": [
              "array([[1. , 0. , 0. , ..., 0. , 0. , 0. ],\n",
              "       [0. , 0. , 0. , ..., 0. , 0. , 0. ],\n",
              "       [0. , 0. , 0. , ..., 0. , 0. , 0. ],\n",
              "       ...,\n",
              "       [0. , 0. , 0. , ..., 0. , 0. , 0. ],\n",
              "       [0. , 0. , 0. , ..., 0. , 0. , 0. ],\n",
              "       [0.6, 0. , 0. , ..., 0. , 0. , 0. ]])"
            ]
          },
          "metadata": {
            "tags": []
          },
          "execution_count": 9
        }
      ]
    },
    {
      "cell_type": "code",
      "metadata": {
        "id": "Ibx2Ymy5VOOF"
      },
      "source": [
        "#Defining Restricted Bottzmann Machine\n",
        "\n",
        "#number of unique movies as visible units\n",
        "visible_units = len(train_matrix.columns)\n",
        "\n",
        "#Number of hidden units\n",
        "hidden_units = 15\n",
        "\n",
        "#initializing biases and weights\n",
        "visible_bias = tf.Variable(tf.zeros([visible_units], tf.float32))\n",
        "hidden_bias = tf.Variable(tf.zeros([hidden_units], tf.float32))\n",
        "weights = tf.Variable(tf.zeros([visible_units, hidden_units], tf.float32))\n",
        "\n",
        "#feedforward \n",
        "def feedforward(inp, weights, hidden_bias):\n",
        "  hidden_prob = tf.nn.sigmoid(tf.matmul([inp], weights) + hidden_bias) \n",
        "  hidden_state = tf.nn.relu(tf.sign(hidden_prob - tf.random.uniform(tf.shape(hidden_prob))))\n",
        "  return hidden_state\n",
        "\n",
        "#reconstruction the input layer\n",
        "def reconstruct(hidden_state, weights, visible_bias):\n",
        "  visible_prob =  tf.nn.sigmoid(tf.matmul(hidden_state, tf.transpose(weights)) + visible_bias)\n",
        "  visible_state = tf.nn.relu(tf.sign(visible_prob - tf.random.uniform(tf.shape(visible_prob))))\n",
        "  return visible_state[0]"
      ],
      "execution_count": 30,
      "outputs": []
    },
    {
      "cell_type": "code",
      "metadata": {
        "id": "bPIf9icdVOLE"
      },
      "source": [
        "#input layer\n",
        "inp = tf.zeros([visible_units], tf.float32)\n",
        "#hidden layer\n",
        "hidden_values = feedforward(inp, weights=weights, hidden_bias=hidden_bias)\n",
        "#visible output\n",
        "visible_values = reconstruct(hidden_values, weights=weights, visible_bias=visible_bias)"
      ],
      "execution_count": 17,
      "outputs": []
    },
    {
      "cell_type": "code",
      "metadata": {
        "id": "oj1IRpEDFTd3"
      },
      "source": [
        "visible_state = inp"
      ],
      "execution_count": 23,
      "outputs": []
    },
    {
      "cell_type": "code",
      "metadata": {
        "colab": {
          "base_uri": "https://localhost:8080/"
        },
        "id": "m_JlBZYzFZA-",
        "outputId": "8690fd45-2de9-4625-c70f-c35d906ae603"
      },
      "source": [
        "[inp]"
      ],
      "execution_count": 29,
      "outputs": [
        {
          "output_type": "execute_result",
          "data": {
            "text/plain": [
              "[<tf.Tensor: shape=(3706,), dtype=float32, numpy=array([0., 0., 0., ..., 0., 0., 0.], dtype=float32)>]"
            ]
          },
          "metadata": {
            "tags": []
          },
          "execution_count": 29
        }
      ]
    },
    {
      "cell_type": "code",
      "metadata": {
        "id": "7g_gzLUzVMSG"
      },
      "source": [
        "#Training\n",
        "epochs= 5 \n",
        "batch_size=128\n",
        "errors = []\n",
        "final_weights = []\n",
        "K=1\n",
        "learning_rate=0.1\n",
        "\n",
        "training_data = tf.data.Dataset.from_tensor_slices((np.float32(user_rating))).batch(batch_size)\n",
        "\n",
        "def error(v0_state, v1_state):\n",
        "    return tf.reduce_mean(tf.square(v0_state - v1_state))\n",
        "\n",
        "for epoch in range(epochs):\n",
        "  batch_number = 0\n",
        "  for batch_x in training_data:\n",
        "    for sample in range(len(batch_x)):\n",
        "      for k in range(K):\n",
        "        visible_state = batch_x[sample]\n",
        "        hidden_state= feedforward(visible_state, weights, hidden_bias)\n",
        "        visible1_state = reconstruct(hidden_state, weights, visible_bias)\n",
        "        hidden1_state = feedforward(visible1_state, weights, hidden_bias)\n",
        "\n",
        "        delta_weights = tf.matmul(tf.transpose([visible_state]), hidden_state) - tf.matmul(tf.transpose([visible1_state]), hidden1_state)\n",
        "\n",
        "        weights = weights + learning_rate * delta_weights\n",
        "        visible_bias = visible_bias + learning_rate * tf.reduce_mean(visible_state - visible1_state, 0)\n",
        "        hidden_bias = hidden_bias + learning_rate * tf.reduce_mean(hidden_state - hidden1_state, 0)\n",
        "\n",
        "        visible_state = visible1_state\n",
        "\n",
        "      if sample == len(batch_x)-1:\n",
        "        err = error(batch_x[sample], visible1_state)\n",
        "        final_weights.append(weights)\n",
        "        errors.append(err)\n",
        "        print ( 'Epoch: %d' % (epoch + 1), \n",
        "                \"batch #: %i \" % batch_number, \"of %i\" % (len(user_rating)/batch_size), \n",
        "                \"sample #: %i\" % sample,\n",
        "                'reconstruction error: %f' % err)\n",
        "    batch_number += 1\n",
        "\n",
        "plt.plot(errors)\n",
        "plt.ylabel('Error')\n",
        "plt.xlabel('Epoch')\n",
        "plt.show()"
      ],
      "execution_count": null,
      "outputs": []
    },
    {
      "cell_type": "code",
      "metadata": {
        "id": "B_fgq570Ok46"
      },
      "source": [
        "def make_recommendation(user_id,n):\n",
        "  user_input = user_rating[user_id-1].reshape(1, -1)\n",
        "  user_input = tf.convert_to_tensor(user_rating[user_id-1],\"float32\")\n",
        "  h0 = tf.nn.sigmoid(tf.matmul([user_input], weights) + hidden_bias)\n",
        "  v1 = tf.nn.sigmoid(tf.matmul(h0, tf.transpose(weights)) + visible_bias)\n",
        "  scored_movies = movies[movies['movie_id'].isin(train_matrix.columns)]\n",
        "  scored_movies['Recommedation_Score'] = v1[0]\n",
        "  rated_movies = ratings[ratings['user_id'] == user_id]\n",
        "  return rated_movies.merge(scored_movies, on='movie_id', how='outer').sort_values([\"Recommedation_Score\"], ascending=False).head(n)\n"
      ],
      "execution_count": 51,
      "outputs": []
    },
    {
      "cell_type": "code",
      "metadata": {
        "colab": {
          "base_uri": "https://localhost:8080/",
          "height": 639
        },
        "id": "BZVZvTBlCBzo",
        "outputId": "83bee7be-f50e-49df-b867-c1c9838a63f6"
      },
      "source": [
        "make_recommendation(25,20)"
      ],
      "execution_count": 52,
      "outputs": [
        {
          "output_type": "execute_result",
          "data": {
            "text/html": [
              "<div>\n",
              "<style scoped>\n",
              "    .dataframe tbody tr th:only-of-type {\n",
              "        vertical-align: middle;\n",
              "    }\n",
              "\n",
              "    .dataframe tbody tr th {\n",
              "        vertical-align: top;\n",
              "    }\n",
              "\n",
              "    .dataframe thead th {\n",
              "        text-align: right;\n",
              "    }\n",
              "</style>\n",
              "<table border=\"1\" class=\"dataframe\">\n",
              "  <thead>\n",
              "    <tr style=\"text-align: right;\">\n",
              "      <th></th>\n",
              "      <th>user_id</th>\n",
              "      <th>movie_id</th>\n",
              "      <th>rating</th>\n",
              "      <th>timestamp</th>\n",
              "      <th>movie_name</th>\n",
              "      <th>genre</th>\n",
              "      <th>Recommedation_Score</th>\n",
              "    </tr>\n",
              "  </thead>\n",
              "  <tbody>\n",
              "    <tr>\n",
              "      <th>18</th>\n",
              "      <td>25.0</td>\n",
              "      <td>2571</td>\n",
              "      <td>3.0</td>\n",
              "      <td>978132158.0</td>\n",
              "      <td>Matrix, The (1999)</td>\n",
              "      <td>Action|Sci-Fi|Thriller</td>\n",
              "      <td>0.938058</td>\n",
              "    </tr>\n",
              "    <tr>\n",
              "      <th>73</th>\n",
              "      <td>25.0</td>\n",
              "      <td>1210</td>\n",
              "      <td>5.0</td>\n",
              "      <td>978132138.0</td>\n",
              "      <td>Star Wars: Episode VI - Return of the Jedi (1983)</td>\n",
              "      <td>Action|Adventure|Romance|Sci-Fi|War</td>\n",
              "      <td>0.933135</td>\n",
              "    </tr>\n",
              "    <tr>\n",
              "      <th>1213</th>\n",
              "      <td>NaN</td>\n",
              "      <td>1240</td>\n",
              "      <td>NaN</td>\n",
              "      <td>NaN</td>\n",
              "      <td>Terminator, The (1984)</td>\n",
              "      <td>Action|Sci-Fi|Thriller</td>\n",
              "      <td>0.875581</td>\n",
              "    </tr>\n",
              "    <tr>\n",
              "      <th>1</th>\n",
              "      <td>25.0</td>\n",
              "      <td>2628</td>\n",
              "      <td>5.0</td>\n",
              "      <td>978130670.0</td>\n",
              "      <td>Star Wars: Episode I - The Phantom Menace (1999)</td>\n",
              "      <td>Action|Adventure|Fantasy|Sci-Fi</td>\n",
              "      <td>0.845902</td>\n",
              "    </tr>\n",
              "    <tr>\n",
              "      <th>521</th>\n",
              "      <td>NaN</td>\n",
              "      <td>457</td>\n",
              "      <td>NaN</td>\n",
              "      <td>NaN</td>\n",
              "      <td>Fugitive, The (1993)</td>\n",
              "      <td>Action|Thriller</td>\n",
              "      <td>0.836734</td>\n",
              "    </tr>\n",
              "    <tr>\n",
              "      <th>32</th>\n",
              "      <td>25.0</td>\n",
              "      <td>260</td>\n",
              "      <td>5.0</td>\n",
              "      <td>978131930.0</td>\n",
              "      <td>Star Wars: Episode IV - A New Hope (1977)</td>\n",
              "      <td>Action|Adventure|Fantasy|Sci-Fi</td>\n",
              "      <td>0.808847</td>\n",
              "    </tr>\n",
              "    <tr>\n",
              "      <th>78</th>\n",
              "      <td>25.0</td>\n",
              "      <td>1580</td>\n",
              "      <td>4.0</td>\n",
              "      <td>978132347.0</td>\n",
              "      <td>Men in Black (1997)</td>\n",
              "      <td>Action|Adventure|Comedy|Sci-Fi</td>\n",
              "      <td>0.791091</td>\n",
              "    </tr>\n",
              "    <tr>\n",
              "      <th>55</th>\n",
              "      <td>25.0</td>\n",
              "      <td>1610</td>\n",
              "      <td>5.0</td>\n",
              "      <td>978132793.0</td>\n",
              "      <td>Hunt for Red October, The (1990)</td>\n",
              "      <td>Action|Thriller</td>\n",
              "      <td>0.708065</td>\n",
              "    </tr>\n",
              "    <tr>\n",
              "      <th>13</th>\n",
              "      <td>25.0</td>\n",
              "      <td>1196</td>\n",
              "      <td>5.0</td>\n",
              "      <td>978132002.0</td>\n",
              "      <td>Star Wars: Episode V - The Empire Strikes Back...</td>\n",
              "      <td>Action|Adventure|Drama|Sci-Fi|War</td>\n",
              "      <td>0.699974</td>\n",
              "    </tr>\n",
              "    <tr>\n",
              "      <th>1095</th>\n",
              "      <td>NaN</td>\n",
              "      <td>1097</td>\n",
              "      <td>NaN</td>\n",
              "      <td>NaN</td>\n",
              "      <td>E.T. the Extra-Terrestrial (1982)</td>\n",
              "      <td>Children's|Drama|Fantasy|Sci-Fi</td>\n",
              "      <td>0.662231</td>\n",
              "    </tr>\n",
              "    <tr>\n",
              "      <th>649</th>\n",
              "      <td>NaN</td>\n",
              "      <td>589</td>\n",
              "      <td>NaN</td>\n",
              "      <td>NaN</td>\n",
              "      <td>Terminator 2: Judgment Day (1991)</td>\n",
              "      <td>Action|Sci-Fi|Thriller</td>\n",
              "      <td>0.657355</td>\n",
              "    </tr>\n",
              "    <tr>\n",
              "      <th>39</th>\n",
              "      <td>25.0</td>\n",
              "      <td>1375</td>\n",
              "      <td>3.0</td>\n",
              "      <td>978132255.0</td>\n",
              "      <td>Star Trek III: The Search for Spock (1984)</td>\n",
              "      <td>Action|Adventure|Sci-Fi</td>\n",
              "      <td>0.639109</td>\n",
              "    </tr>\n",
              "    <tr>\n",
              "      <th>1460</th>\n",
              "      <td>NaN</td>\n",
              "      <td>1527</td>\n",
              "      <td>NaN</td>\n",
              "      <td>NaN</td>\n",
              "      <td>Fifth Element, The (1997)</td>\n",
              "      <td>Action|Sci-Fi</td>\n",
              "      <td>0.636702</td>\n",
              "    </tr>\n",
              "    <tr>\n",
              "      <th>79</th>\n",
              "      <td>25.0</td>\n",
              "      <td>110</td>\n",
              "      <td>3.0</td>\n",
              "      <td>978133273.0</td>\n",
              "      <td>Braveheart (1995)</td>\n",
              "      <td>Action|Drama|War</td>\n",
              "      <td>0.596717</td>\n",
              "    </tr>\n",
              "    <tr>\n",
              "      <th>1041</th>\n",
              "      <td>NaN</td>\n",
              "      <td>1036</td>\n",
              "      <td>NaN</td>\n",
              "      <td>NaN</td>\n",
              "      <td>Die Hard (1988)</td>\n",
              "      <td>Action|Thriller</td>\n",
              "      <td>0.584032</td>\n",
              "    </tr>\n",
              "    <tr>\n",
              "      <th>81</th>\n",
              "      <td>25.0</td>\n",
              "      <td>480</td>\n",
              "      <td>4.0</td>\n",
              "      <td>978132180.0</td>\n",
              "      <td>Jurassic Park (1993)</td>\n",
              "      <td>Action|Adventure|Sci-Fi</td>\n",
              "      <td>0.541699</td>\n",
              "    </tr>\n",
              "    <tr>\n",
              "      <th>15</th>\n",
              "      <td>25.0</td>\n",
              "      <td>1198</td>\n",
              "      <td>5.0</td>\n",
              "      <td>978130633.0</td>\n",
              "      <td>Raiders of the Lost Ark (1981)</td>\n",
              "      <td>Action|Adventure</td>\n",
              "      <td>0.528571</td>\n",
              "    </tr>\n",
              "    <tr>\n",
              "      <th>19</th>\n",
              "      <td>25.0</td>\n",
              "      <td>1917</td>\n",
              "      <td>4.0</td>\n",
              "      <td>978132586.0</td>\n",
              "      <td>Armageddon (1998)</td>\n",
              "      <td>Action|Adventure|Sci-Fi|Thriller</td>\n",
              "      <td>0.525610</td>\n",
              "    </tr>\n",
              "    <tr>\n",
              "      <th>1177</th>\n",
              "      <td>NaN</td>\n",
              "      <td>1200</td>\n",
              "      <td>NaN</td>\n",
              "      <td>NaN</td>\n",
              "      <td>Aliens (1986)</td>\n",
              "      <td>Action|Sci-Fi|Thriller|War</td>\n",
              "      <td>0.522720</td>\n",
              "    </tr>\n",
              "    <tr>\n",
              "      <th>1351</th>\n",
              "      <td>NaN</td>\n",
              "      <td>1396</td>\n",
              "      <td>NaN</td>\n",
              "      <td>NaN</td>\n",
              "      <td>Sneakers (1992)</td>\n",
              "      <td>Crime|Drama|Sci-Fi</td>\n",
              "      <td>0.511354</td>\n",
              "    </tr>\n",
              "  </tbody>\n",
              "</table>\n",
              "</div>"
            ],
            "text/plain": [
              "      user_id  ...  Recommedation_Score\n",
              "18       25.0  ...             0.938058\n",
              "73       25.0  ...             0.933135\n",
              "1213      NaN  ...             0.875581\n",
              "1        25.0  ...             0.845902\n",
              "521       NaN  ...             0.836734\n",
              "32       25.0  ...             0.808847\n",
              "78       25.0  ...             0.791091\n",
              "55       25.0  ...             0.708065\n",
              "13       25.0  ...             0.699974\n",
              "1095      NaN  ...             0.662231\n",
              "649       NaN  ...             0.657355\n",
              "39       25.0  ...             0.639109\n",
              "1460      NaN  ...             0.636702\n",
              "79       25.0  ...             0.596717\n",
              "1041      NaN  ...             0.584032\n",
              "81       25.0  ...             0.541699\n",
              "15       25.0  ...             0.528571\n",
              "19       25.0  ...             0.525610\n",
              "1177      NaN  ...             0.522720\n",
              "1351      NaN  ...             0.511354\n",
              "\n",
              "[20 rows x 7 columns]"
            ]
          },
          "metadata": {
            "tags": []
          },
          "execution_count": 52
        }
      ]
    },
    {
      "cell_type": "code",
      "metadata": {
        "id": "CQW6olM4CDTu"
      },
      "source": [
        "#Feeding in the user and reconstructing the input\n",
        "\n",
        "h0 = tf.nn.sigmoid(tf.matmul([user_input], weights) + hidden_bias)\n",
        "\n",
        "v1 = tf.nn.sigmoid(tf.matmul(h0, tf.transpose(weights)) + visible_bias)\n"
      ],
      "execution_count": 34,
      "outputs": []
    },
    {
      "cell_type": "code",
      "metadata": {
        "colab": {
          "base_uri": "https://localhost:8080/"
        },
        "id": "c5WQLbD7JKlk",
        "outputId": "46ce2875-c44a-4e82-9be8-6515e8f571bc"
      },
      "source": [
        "scored_movies_df_mock = scored_movies_df_mock.assign(RecommendationScore = rec[0])\n",
        "scored_movies_df_mock.sort_values([\"RecommendationScore\"], ascending=False).head(20)"
      ],
      "execution_count": 35,
      "outputs": [
        {
          "output_type": "execute_result",
          "data": {
            "text/plain": [
              "<tf.Tensor: shape=(1, 3706), dtype=float32, numpy=\n",
              "array([[0.12079933, 0.00209603, 0.00068572, ..., 0.00047657, 0.00076959,\n",
              "        0.00221562]], dtype=float32)>"
            ]
          },
          "metadata": {
            "tags": []
          },
          "execution_count": 35
        }
      ]
    },
    {
      "cell_type": "code",
      "metadata": {
        "colab": {
          "base_uri": "https://localhost:8080/"
        },
        "id": "HFCWFkWdJLY7",
        "outputId": "231e54d1-f853-45b3-b5bf-37d46139c255"
      },
      "source": [
        "movies.shape"
      ],
      "execution_count": 40,
      "outputs": [
        {
          "output_type": "execute_result",
          "data": {
            "text/plain": [
              "(3883, 3)"
            ]
          },
          "metadata": {
            "tags": []
          },
          "execution_count": 40
        }
      ]
    },
    {
      "cell_type": "code",
      "metadata": {
        "id": "E4Ws_udtL10R"
      },
      "source": [
        ""
      ],
      "execution_count": null,
      "outputs": []
    }
  ]
}