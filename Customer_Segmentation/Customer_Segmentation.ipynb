{
  "nbformat": 4,
  "nbformat_minor": 0,
  "metadata": {
    "colab": {
      "name": "Untitled7.ipynb",
      "provenance": [],
      "collapsed_sections": [],
      "authorship_tag": "ABX9TyMbNOmZslPwU4qWZwz4R/7m",
      "include_colab_link": true
    },
    "kernelspec": {
      "display_name": "Python 3",
      "name": "python3"
    }
  },
  "cells": [
    {
      "cell_type": "markdown",
      "metadata": {
        "id": "view-in-github",
        "colab_type": "text"
      },
      "source": [
        "<a href=\"https://colab.research.google.com/github/ntolayd/Projects/blob/main/Customer_Segmentation/Customer_Segmentation.ipynb\" target=\"_parent\"><img src=\"https://colab.research.google.com/assets/colab-badge.svg\" alt=\"Open In Colab\"/></a>"
      ]
    },
    {
      "cell_type": "code",
      "metadata": {
        "colab": {
          "base_uri": "https://localhost:8080/"
        },
        "id": "EP4FBEYcakr5",
        "outputId": "c5059712-05a1-4f2f-cec3-0254d55998f8"
      },
      "source": [
        "from google.colab import drive\n",
        "drive.mount('/content/gdrive')"
      ],
      "execution_count": 1,
      "outputs": [
        {
          "output_type": "stream",
          "text": [
            "Mounted at /content/gdrive\n"
          ],
          "name": "stdout"
        }
      ]
    },
    {
      "cell_type": "code",
      "metadata": {
        "colab": {
          "base_uri": "https://localhost:8080/"
        },
        "id": "bnHDh7wwan-O",
        "outputId": "99e57bd9-cafd-4272-cac0-5b511906781b"
      },
      "source": [
        "!unzip \"/content/gdrive/My Drive/car.zip\""
      ],
      "execution_count": 2,
      "outputs": [
        {
          "output_type": "stream",
          "text": [
            "Archive:  /content/gdrive/My Drive/car.zip\n",
            "  inflating: Test.csv                \n",
            "  inflating: Train.csv               \n"
          ],
          "name": "stdout"
        }
      ]
    },
    {
      "cell_type": "code",
      "metadata": {
        "id": "LKtHX06Pa6hp"
      },
      "source": [
        "import pandas as pd\n",
        "import numpy as npş\n",
        "import matplotlib.pyplot as plt\n",
        "import seaborn as sns\n",
        "import warnings\n",
        "warnings.filterwarnings(\"ignore\")\n",
        "sns.set_style(\"white\")\n",
        "plt.style.use('bmh')\n",
        "pd.set_option('display.float_format', lambda x: '%.3f' % x)"
      ],
      "execution_count": 130,
      "outputs": []
    },
    {
      "cell_type": "code",
      "metadata": {
        "id": "Nh5TZCF5bDBX"
      },
      "source": [
        "data_train = pd.read_csv(\"Train.csv\")\n",
        "data_test = pd.read_csv(\"Test.csv\")"
      ],
      "execution_count": 77,
      "outputs": []
    },
    {
      "cell_type": "markdown",
      "metadata": {
        "id": "8qpBFVigqsGs"
      },
      "source": [
        "Exploratory Data Analysis and Preprocessing"
      ]
    },
    {
      "cell_type": "code",
      "metadata": {
        "colab": {
          "base_uri": "https://localhost:8080/",
          "height": 195
        },
        "id": "HewYnhbQXVRc",
        "outputId": "40fe2cd8-addc-43ae-fc6f-a6cf2469564d"
      },
      "source": [
        "data_train.head()"
      ],
      "execution_count": 78,
      "outputs": [
        {
          "output_type": "execute_result",
          "data": {
            "text/html": [
              "<div>\n",
              "<style scoped>\n",
              "    .dataframe tbody tr th:only-of-type {\n",
              "        vertical-align: middle;\n",
              "    }\n",
              "\n",
              "    .dataframe tbody tr th {\n",
              "        vertical-align: top;\n",
              "    }\n",
              "\n",
              "    .dataframe thead th {\n",
              "        text-align: right;\n",
              "    }\n",
              "</style>\n",
              "<table border=\"1\" class=\"dataframe\">\n",
              "  <thead>\n",
              "    <tr style=\"text-align: right;\">\n",
              "      <th></th>\n",
              "      <th>ID</th>\n",
              "      <th>Gender</th>\n",
              "      <th>Ever_Married</th>\n",
              "      <th>Age</th>\n",
              "      <th>Graduated</th>\n",
              "      <th>Profession</th>\n",
              "      <th>Work_Experience</th>\n",
              "      <th>Spending_Score</th>\n",
              "      <th>Family_Size</th>\n",
              "      <th>Var_1</th>\n",
              "      <th>Segmentation</th>\n",
              "    </tr>\n",
              "  </thead>\n",
              "  <tbody>\n",
              "    <tr>\n",
              "      <th>0</th>\n",
              "      <td>462809</td>\n",
              "      <td>Male</td>\n",
              "      <td>No</td>\n",
              "      <td>22</td>\n",
              "      <td>No</td>\n",
              "      <td>Healthcare</td>\n",
              "      <td>1.0</td>\n",
              "      <td>Low</td>\n",
              "      <td>4.0</td>\n",
              "      <td>Cat_4</td>\n",
              "      <td>D</td>\n",
              "    </tr>\n",
              "    <tr>\n",
              "      <th>1</th>\n",
              "      <td>462643</td>\n",
              "      <td>Female</td>\n",
              "      <td>Yes</td>\n",
              "      <td>38</td>\n",
              "      <td>Yes</td>\n",
              "      <td>Engineer</td>\n",
              "      <td>NaN</td>\n",
              "      <td>Average</td>\n",
              "      <td>3.0</td>\n",
              "      <td>Cat_4</td>\n",
              "      <td>A</td>\n",
              "    </tr>\n",
              "    <tr>\n",
              "      <th>2</th>\n",
              "      <td>466315</td>\n",
              "      <td>Female</td>\n",
              "      <td>Yes</td>\n",
              "      <td>67</td>\n",
              "      <td>Yes</td>\n",
              "      <td>Engineer</td>\n",
              "      <td>1.0</td>\n",
              "      <td>Low</td>\n",
              "      <td>1.0</td>\n",
              "      <td>Cat_6</td>\n",
              "      <td>B</td>\n",
              "    </tr>\n",
              "    <tr>\n",
              "      <th>3</th>\n",
              "      <td>461735</td>\n",
              "      <td>Male</td>\n",
              "      <td>Yes</td>\n",
              "      <td>67</td>\n",
              "      <td>Yes</td>\n",
              "      <td>Lawyer</td>\n",
              "      <td>0.0</td>\n",
              "      <td>High</td>\n",
              "      <td>2.0</td>\n",
              "      <td>Cat_6</td>\n",
              "      <td>B</td>\n",
              "    </tr>\n",
              "    <tr>\n",
              "      <th>4</th>\n",
              "      <td>462669</td>\n",
              "      <td>Female</td>\n",
              "      <td>Yes</td>\n",
              "      <td>40</td>\n",
              "      <td>Yes</td>\n",
              "      <td>Entertainment</td>\n",
              "      <td>NaN</td>\n",
              "      <td>High</td>\n",
              "      <td>6.0</td>\n",
              "      <td>Cat_6</td>\n",
              "      <td>A</td>\n",
              "    </tr>\n",
              "  </tbody>\n",
              "</table>\n",
              "</div>"
            ],
            "text/plain": [
              "       ID  Gender Ever_Married  ...  Family_Size  Var_1 Segmentation\n",
              "0  462809    Male           No  ...          4.0  Cat_4            D\n",
              "1  462643  Female          Yes  ...          3.0  Cat_4            A\n",
              "2  466315  Female          Yes  ...          1.0  Cat_6            B\n",
              "3  461735    Male          Yes  ...          2.0  Cat_6            B\n",
              "4  462669  Female          Yes  ...          6.0  Cat_6            A\n",
              "\n",
              "[5 rows x 11 columns]"
            ]
          },
          "metadata": {
            "tags": []
          },
          "execution_count": 78
        }
      ]
    },
    {
      "cell_type": "code",
      "metadata": {
        "colab": {
          "base_uri": "https://localhost:8080/"
        },
        "id": "FpKEBNatVkeD",
        "outputId": "9697d692-4b50-4d37-9437-ca5ac25f42c5"
      },
      "source": [
        "print(data_train.shape)\n",
        "print(data_test.shape)"
      ],
      "execution_count": 79,
      "outputs": [
        {
          "output_type": "stream",
          "text": [
            "(8068, 11)\n",
            "(2627, 11)\n"
          ],
          "name": "stdout"
        }
      ]
    },
    {
      "cell_type": "code",
      "metadata": {
        "colab": {
          "base_uri": "https://localhost:8080/",
          "height": 284
        },
        "id": "ljdQQ-STAuuw",
        "outputId": "d6736380-9663-4109-cfae-486b23ec3862"
      },
      "source": [
        "#summary statistics of continuous variables\n",
        "data_train.describe()"
      ],
      "execution_count": 80,
      "outputs": [
        {
          "output_type": "execute_result",
          "data": {
            "text/html": [
              "<div>\n",
              "<style scoped>\n",
              "    .dataframe tbody tr th:only-of-type {\n",
              "        vertical-align: middle;\n",
              "    }\n",
              "\n",
              "    .dataframe tbody tr th {\n",
              "        vertical-align: top;\n",
              "    }\n",
              "\n",
              "    .dataframe thead th {\n",
              "        text-align: right;\n",
              "    }\n",
              "</style>\n",
              "<table border=\"1\" class=\"dataframe\">\n",
              "  <thead>\n",
              "    <tr style=\"text-align: right;\">\n",
              "      <th></th>\n",
              "      <th>ID</th>\n",
              "      <th>Age</th>\n",
              "      <th>Work_Experience</th>\n",
              "      <th>Family_Size</th>\n",
              "    </tr>\n",
              "  </thead>\n",
              "  <tbody>\n",
              "    <tr>\n",
              "      <th>count</th>\n",
              "      <td>8068.000000</td>\n",
              "      <td>8068.000000</td>\n",
              "      <td>7239.000000</td>\n",
              "      <td>7733.000000</td>\n",
              "    </tr>\n",
              "    <tr>\n",
              "      <th>mean</th>\n",
              "      <td>463479.214551</td>\n",
              "      <td>43.466906</td>\n",
              "      <td>2.641663</td>\n",
              "      <td>2.850123</td>\n",
              "    </tr>\n",
              "    <tr>\n",
              "      <th>std</th>\n",
              "      <td>2595.381232</td>\n",
              "      <td>16.711696</td>\n",
              "      <td>3.406763</td>\n",
              "      <td>1.531413</td>\n",
              "    </tr>\n",
              "    <tr>\n",
              "      <th>min</th>\n",
              "      <td>458982.000000</td>\n",
              "      <td>18.000000</td>\n",
              "      <td>0.000000</td>\n",
              "      <td>1.000000</td>\n",
              "    </tr>\n",
              "    <tr>\n",
              "      <th>25%</th>\n",
              "      <td>461240.750000</td>\n",
              "      <td>30.000000</td>\n",
              "      <td>0.000000</td>\n",
              "      <td>2.000000</td>\n",
              "    </tr>\n",
              "    <tr>\n",
              "      <th>50%</th>\n",
              "      <td>463472.500000</td>\n",
              "      <td>40.000000</td>\n",
              "      <td>1.000000</td>\n",
              "      <td>3.000000</td>\n",
              "    </tr>\n",
              "    <tr>\n",
              "      <th>75%</th>\n",
              "      <td>465744.250000</td>\n",
              "      <td>53.000000</td>\n",
              "      <td>4.000000</td>\n",
              "      <td>4.000000</td>\n",
              "    </tr>\n",
              "    <tr>\n",
              "      <th>max</th>\n",
              "      <td>467974.000000</td>\n",
              "      <td>89.000000</td>\n",
              "      <td>14.000000</td>\n",
              "      <td>9.000000</td>\n",
              "    </tr>\n",
              "  </tbody>\n",
              "</table>\n",
              "</div>"
            ],
            "text/plain": [
              "                  ID          Age  Work_Experience  Family_Size\n",
              "count    8068.000000  8068.000000      7239.000000  7733.000000\n",
              "mean   463479.214551    43.466906         2.641663     2.850123\n",
              "std      2595.381232    16.711696         3.406763     1.531413\n",
              "min    458982.000000    18.000000         0.000000     1.000000\n",
              "25%    461240.750000    30.000000         0.000000     2.000000\n",
              "50%    463472.500000    40.000000         1.000000     3.000000\n",
              "75%    465744.250000    53.000000         4.000000     4.000000\n",
              "max    467974.000000    89.000000        14.000000     9.000000"
            ]
          },
          "metadata": {
            "tags": []
          },
          "execution_count": 80
        }
      ]
    },
    {
      "cell_type": "code",
      "metadata": {
        "colab": {
          "base_uri": "https://localhost:8080/",
          "height": 166
        },
        "id": "TnP5RQwoq4Rt",
        "outputId": "95fa94b8-a216-4e0d-d8d8-1afea75d8b00"
      },
      "source": [
        "#summary statistics of categorical variables\n",
        "data_train.describe(include=['object'])"
      ],
      "execution_count": 81,
      "outputs": [
        {
          "output_type": "execute_result",
          "data": {
            "text/html": [
              "<div>\n",
              "<style scoped>\n",
              "    .dataframe tbody tr th:only-of-type {\n",
              "        vertical-align: middle;\n",
              "    }\n",
              "\n",
              "    .dataframe tbody tr th {\n",
              "        vertical-align: top;\n",
              "    }\n",
              "\n",
              "    .dataframe thead th {\n",
              "        text-align: right;\n",
              "    }\n",
              "</style>\n",
              "<table border=\"1\" class=\"dataframe\">\n",
              "  <thead>\n",
              "    <tr style=\"text-align: right;\">\n",
              "      <th></th>\n",
              "      <th>Gender</th>\n",
              "      <th>Ever_Married</th>\n",
              "      <th>Graduated</th>\n",
              "      <th>Profession</th>\n",
              "      <th>Spending_Score</th>\n",
              "      <th>Var_1</th>\n",
              "      <th>Segmentation</th>\n",
              "    </tr>\n",
              "  </thead>\n",
              "  <tbody>\n",
              "    <tr>\n",
              "      <th>count</th>\n",
              "      <td>8068</td>\n",
              "      <td>7928</td>\n",
              "      <td>7990</td>\n",
              "      <td>7944</td>\n",
              "      <td>8068</td>\n",
              "      <td>7992</td>\n",
              "      <td>8068</td>\n",
              "    </tr>\n",
              "    <tr>\n",
              "      <th>unique</th>\n",
              "      <td>2</td>\n",
              "      <td>2</td>\n",
              "      <td>2</td>\n",
              "      <td>9</td>\n",
              "      <td>3</td>\n",
              "      <td>7</td>\n",
              "      <td>4</td>\n",
              "    </tr>\n",
              "    <tr>\n",
              "      <th>top</th>\n",
              "      <td>Male</td>\n",
              "      <td>Yes</td>\n",
              "      <td>Yes</td>\n",
              "      <td>Artist</td>\n",
              "      <td>Low</td>\n",
              "      <td>Cat_6</td>\n",
              "      <td>D</td>\n",
              "    </tr>\n",
              "    <tr>\n",
              "      <th>freq</th>\n",
              "      <td>4417</td>\n",
              "      <td>4643</td>\n",
              "      <td>4968</td>\n",
              "      <td>2516</td>\n",
              "      <td>4878</td>\n",
              "      <td>5238</td>\n",
              "      <td>2268</td>\n",
              "    </tr>\n",
              "  </tbody>\n",
              "</table>\n",
              "</div>"
            ],
            "text/plain": [
              "       Gender Ever_Married Graduated  ... Spending_Score  Var_1 Segmentation\n",
              "count    8068         7928      7990  ...           8068   7992         8068\n",
              "unique      2            2         2  ...              3      7            4\n",
              "top      Male          Yes       Yes  ...            Low  Cat_6            D\n",
              "freq     4417         4643      4968  ...           4878   5238         2268\n",
              "\n",
              "[4 rows x 7 columns]"
            ]
          },
          "metadata": {
            "tags": []
          },
          "execution_count": 81
        }
      ]
    },
    {
      "cell_type": "code",
      "metadata": {
        "colab": {
          "base_uri": "https://localhost:8080/",
          "height": 500
        },
        "id": "OZTXa462rA-Y",
        "outputId": "61f351e0-c9c4-4799-b0ad-4ba8b10ef28d"
      },
      "source": [
        "#missing values\n",
        "missing_df = data_train.isna().sum().to_frame().reset_index()\n",
        "missing_df.columns = ['Feature', 'Missing_Count']\n",
        "missing_df.sort_values(by='Missing_Count', inplace=True)\n",
        "plt.figure(figsize=(10,7))\n",
        "splot = sns.barplot(x='Feature', y='Missing_Count', data=missing_df)\n",
        "plt.xticks(rotation=45)\n",
        "for p in splot.patches:\n",
        "    splot.annotate(format(p.get_height()), \n",
        "                   (p.get_x() + p.get_width() / 2, p.get_height()), \n",
        "                   ha = 'center', va = 'center', \n",
        "                   xytext = (0, 9), \n",
        "                   textcoords = 'offset points') "
      ],
      "execution_count": 82,
      "outputs": [
        {
          "output_type": "display_data",
          "data": {
            "image/png": "[encoded data removed]",
            "text/plain": [
              "<Figure size 720x504 with 1 Axes>"
            ]
          },
          "metadata": {
            "tags": []
          }
        }
      ]
    },
    {
      "cell_type": "code",
      "metadata": {
        "colab": {
          "base_uri": "https://localhost:8080/",
          "height": 462
        },
        "id": "3o4OGPs3sX-b",
        "outputId": "2ce88276-0c26-4a7b-bc31-db7a5a6936fc"
      },
      "source": [
        "#Married counts by family size\n",
        "plt.figure(figsize=(10,7))\n",
        "sns.countplot('Ever_Married', hue='Family_Size', data=data_train)"
      ],
      "execution_count": 83,
      "outputs": [
        {
          "output_type": "execute_result",
          "data": {
            "text/plain": [
              "<matplotlib.axes._subplots.AxesSubplot at 0x7f7d9865f890>"
            ]
          },
          "metadata": {
            "tags": []
          },
          "execution_count": 83
        },
        {
          "output_type": "display_data",
          "data": {
            "image/png": "[encoded data removed]",
            "text/plain": [
              "<Figure size 720x504 with 1 Axes>"
            ]
          },
          "metadata": {
            "tags": []
          }
        }
      ]
    },
    {
      "cell_type": "code",
      "metadata": {
        "colab": {
          "base_uri": "https://localhost:8080/",
          "height": 442
        },
        "id": "N8KlL-0BWIDK",
        "outputId": "f7fb30cc-04fc-4207-eecb-e7bdd5d5417a"
      },
      "source": [
        "#Number of customers in each segment\n",
        "plt.figure(figsize=(10,7))\n",
        "splot = sns.countplot('Segmentation', data=data_train )\n",
        "for p in splot.patches:\n",
        "    splot.annotate(format(p.get_height()), \n",
        "                   (p.get_x() + p.get_width() / 2, p.get_height()), \n",
        "                   ha = 'center', va = 'center', \n",
        "                   xytext = (0, 9), \n",
        "                   textcoords = 'offset points') "
      ],
      "execution_count": 84,
      "outputs": [
        {
          "output_type": "display_data",
          "data": {
            "image/png": "[encoded data removed]",
            "text/plain": [
              "<Figure size 720x504 with 1 Axes>"
            ]
          },
          "metadata": {
            "tags": []
          }
        }
      ]
    },
    {
      "cell_type": "code",
      "metadata": {
        "colab": {
          "base_uri": "https://localhost:8080/",
          "height": 442
        },
        "id": "a-ovKpsT-CS6",
        "outputId": "66d805ef-d760-496f-952d-658709939a6c"
      },
      "source": [
        "#Average age of each segment\n",
        "age_groups = data_train.groupby(['Segmentation'])['Age'].mean().reset_index()\n",
        "plt.figure(figsize=(10,7))\n",
        "splot = sns.barplot(x='Segmentation', y='Age', data=age_groups )\n",
        "for p in splot.patches:\n",
        "    splot.annotate(format(p.get_height(), '.1f'), \n",
        "                   (p.get_x() + p.get_width() / 2., p.get_height()), \n",
        "                   ha = 'center', va = 'center', \n",
        "                   xytext = (0, 9), \n",
        "                   textcoords = 'offset points') "
      ],
      "execution_count": 85,
      "outputs": [
        {
          "output_type": "display_data",
          "data": {
            "image/png": "[encoded data removed]",
            "text/plain": [
              "<Figure size 720x504 with 1 Axes>"
            ]
          },
          "metadata": {
            "tags": []
          }
        }
      ]
    },
    {
      "cell_type": "code",
      "metadata": {
        "colab": {
          "base_uri": "https://localhost:8080/",
          "height": 460
        },
        "id": "SNH2pCNZAtR2",
        "outputId": "a88c1157-689d-42d8-fffd-e8c20ff55984"
      },
      "source": [
        "#Var 1 distribution of each segment\n",
        "plt.figure(figsize=(10,7))\n",
        "sns.countplot('Var_1', hue='Segmentation', data=data_train,  order=sorted(list(data_train['Var_1'].dropna().unique())), hue_order=sorted(data_train['Segmentation'].unique()))"
      ],
      "execution_count": 86,
      "outputs": [
        {
          "output_type": "execute_result",
          "data": {
            "text/plain": [
              "<matplotlib.axes._subplots.AxesSubplot at 0x7f7d97c826d0>"
            ]
          },
          "metadata": {
            "tags": []
          },
          "execution_count": 86
        },
        {
          "output_type": "display_data",
          "data": {
            "image/png": "[encoded data removed]",
            "text/plain": [
              "<Figure size 720x504 with 1 Axes>"
            ]
          },
          "metadata": {
            "tags": []
          }
        }
      ]
    },
    {
      "cell_type": "code",
      "metadata": {
        "colab": {
          "base_uri": "https://localhost:8080/",
          "height": 459
        },
        "id": "YQmwK09PLy1W",
        "outputId": "3d9f9dd3-f19e-48f2-e41c-08e43a532c98"
      },
      "source": [
        "#Spending scores of each profession\n",
        "plt.figure(figsize=(10,7))\n",
        "sns.countplot('Spending_Score', hue='Profession', data=data_train)"
      ],
      "execution_count": 87,
      "outputs": [
        {
          "output_type": "execute_result",
          "data": {
            "text/plain": [
              "<matplotlib.axes._subplots.AxesSubplot at 0x7f7d97c9e1d0>"
            ]
          },
          "metadata": {
            "tags": []
          },
          "execution_count": 87
        },
        {
          "output_type": "display_data",
          "data": {
            "image/png": "[encoded data removed]",
            "text/plain": [
              "<Figure size 720x504 with 1 Axes>"
            ]
          },
          "metadata": {
            "tags": []
          }
        }
      ]
    },
    {
      "cell_type": "code",
      "metadata": {
        "colab": {
          "base_uri": "https://localhost:8080/"
        },
        "id": "oKe9rs57q3xA",
        "outputId": "6022bb85-0b2d-4ca6-893c-4729958d7d19"
      },
      "source": [
        "data_train['Age'].mean()"
      ],
      "execution_count": 88,
      "outputs": [
        {
          "output_type": "execute_result",
          "data": {
            "text/plain": [
              "43.46690629647992"
            ]
          },
          "metadata": {
            "tags": []
          },
          "execution_count": 88
        }
      ]
    },
    {
      "cell_type": "code",
      "metadata": {
        "colab": {
          "base_uri": "https://localhost:8080/",
          "height": 459
        },
        "id": "PeZb2gs7m4vq",
        "outputId": "601a0885-a774-4628-986f-1823a4363637"
      },
      "source": [
        "#distribution of age\n",
        "plt.figure(figsize=(10,7))\n",
        "sns.distplot(data_train['Age'], bins=8)"
      ],
      "execution_count": 89,
      "outputs": [
        {
          "output_type": "execute_result",
          "data": {
            "text/plain": [
              "<matplotlib.axes._subplots.AxesSubplot at 0x7f7d97ac3f50>"
            ]
          },
          "metadata": {
            "tags": []
          },
          "execution_count": 89
        },
        {
          "output_type": "display_data",
          "data": {
            "image/png": "[encoded data removed]",
            "text/plain": [
              "<Figure size 720x504 with 1 Axes>"
            ]
          },
          "metadata": {
            "tags": []
          }
        }
      ]
    },
    {
      "cell_type": "code",
      "metadata": {
        "colab": {
          "base_uri": "https://localhost:8080/",
          "height": 459
        },
        "id": "Ofiaj5LgaibC",
        "outputId": "67124adb-6e65-4fd6-96ff-b6622fbd2041"
      },
      "source": [
        "#graduation by each profession\n",
        "plt.figure(figsize=(10,7))\n",
        "sns.countplot('Profession', hue='Graduated', data=data_train)"
      ],
      "execution_count": 90,
      "outputs": [
        {
          "output_type": "execute_result",
          "data": {
            "text/plain": [
              "<matplotlib.axes._subplots.AxesSubplot at 0x7f7d97aa7a50>"
            ]
          },
          "metadata": {
            "tags": []
          },
          "execution_count": 90
        },
        {
          "output_type": "display_data",
          "data": {
            "image/png": "[encoded data removed]",
            "text/plain": [
              "<Figure size 720x504 with 1 Axes>"
            ]
          },
          "metadata": {
            "tags": []
          }
        }
      ]
    },
    {
      "cell_type": "code",
      "metadata": {
        "colab": {
          "base_uri": "https://localhost:8080/",
          "height": 442
        },
        "id": "PlGqHviuti7c",
        "outputId": "ad7c08b9-8525-4f3e-b7bd-6b3d648d91c9"
      },
      "source": [
        "#The average years of working experience by age groups\n",
        "age_groups = data_train.groupby(['Age'])['Work_Experience'].mean().reset_index()\n",
        "age_groups['Age_Range'] = age_groups['Age'].apply(lambda x: \"18-45\" if (x >= 18 and x <= 45) else \"45-89\")\n",
        "age_groups = age_groups.groupby('Age_Range')['Work_Experience'].mean().reset_index()\n",
        "plt.figure(figsize=(10,7))\n",
        "splot = sns.barplot(x='Age_Range', y='Work_Experience', data=age_groups )\n",
        "for p in splot.patches:\n",
        "    splot.annotate(format(p.get_height(), '.1f'), \n",
        "                   (p.get_x() + p.get_width() / 2., p.get_height()), \n",
        "                   ha = 'center', va = 'center', \n",
        "                   xytext = (0, 9), \n",
        "                   textcoords = 'offset points') "
      ],
      "execution_count": 91,
      "outputs": [
        {
          "output_type": "display_data",
          "data": {
            "image/png": "[encoded data removed]",
            "text/plain": [
              "<Figure size 720x504 with 1 Axes>"
            ]
          },
          "metadata": {
            "tags": []
          }
        }
      ]
    },
    {
      "cell_type": "code",
      "metadata": {
        "colab": {
          "base_uri": "https://localhost:8080/"
        },
        "id": "rpPh2h850H7F",
        "outputId": "e48ec146-1b68-4095-a7ef-94375ab78407"
      },
      "source": [
        "#average age of customers who has less than 2 years of work experience\n",
        "data_train[data_train['Work_Experience'] < 2]['Age'].mean()"
      ],
      "execution_count": 92,
      "outputs": [
        {
          "output_type": "execute_result",
          "data": {
            "text/plain": [
              "45.77054794520548"
            ]
          },
          "metadata": {
            "tags": []
          },
          "execution_count": 92
        }
      ]
    },
    {
      "cell_type": "code",
      "metadata": {
        "colab": {
          "base_uri": "https://localhost:8080/",
          "height": 762
        },
        "id": "JHlBXK2RmRGS",
        "outputId": "90b5f0a3-13d8-4ab6-8464-f8700010bfc1"
      },
      "source": [
        "###Chi squared test for assesing relationship between features and target variable \n",
        "from sklearn.preprocessing import KBinsDiscretizer\n",
        "trans = KBinsDiscretizer(n_bins=8, encode='ordinal', strategy='quantile')\n",
        "trans2= KBinsDiscretizer(n_bins=2, encode='ordinal', strategy='quantile')\n",
        "\n",
        "chi_data = data_train.dropna(how='any')\n",
        "chi_data.drop(['ID'] ,axis=1, inplace=True)\n",
        "x = chi_data.drop(['Segmentation'],axis=1)\n",
        "y = chi_data['Segmentation']\n",
        "x['Age'] = trans.fit_transform(x['Age'].values.reshape(-1,1))\n",
        "x['Family_Size'] = trans2.fit_transform(x['Family_Size'].values.reshape(-1,1))\n",
        "\n",
        "from sklearn.preprocessing import OrdinalEncoder, LabelEncoder\n",
        "#prepare features\n",
        "def prepare_inputs(X):\n",
        "\toe = OrdinalEncoder()\n",
        "\toe.fit(X)\n",
        "\tX_enc = oe.transform(X)\n",
        "\treturn X_enc\n",
        "\n",
        "# prepare target\n",
        "def prepare_targets(y):\n",
        "\tle = LabelEncoder()\n",
        "\tle.fit(y)\n",
        "\ty_enc = le.transform(y)\n",
        "\treturn y_enc\n",
        "\n",
        "x = prepare_inputs(x)\n",
        "y = prepare_targets(y)\n",
        "\n",
        "\n",
        "from sklearn.feature_selection import SelectKBest,chi2\n",
        "fs = SelectKBest(score_func=chi2, k='all')\n",
        "fs.fit(x, y)\n",
        "labels= list(chi_data.drop(['Segmentation'],axis=1).columns)\n",
        "# what are scores for the features\n",
        "for i in range(len(fs.scores_)):\n",
        "\tprint(labels[i], \":\", fs.scores_[i])\n",
        "# plot the scores\n",
        "fig, ax = plt.subplots(figsize=(12,10))\n",
        "ax.bar([i for i in range(len(fs.scores_))], fs.scores_)\n",
        "ax.set_xticks(range(len(labels)))\n",
        "ax.set_xticklabels(labels)\n",
        "plt.xticks(rotation=15)\n",
        "plt.show()"
      ],
      "execution_count": 93,
      "outputs": [
        {
          "output_type": "stream",
          "text": [
            "Gender : 6.316578548857767\n",
            "Ever_Married : 497.20579845029533\n",
            "Age : 2117.1756389385346\n",
            "Graduated : 332.6431523690528\n",
            "Profession : 2050.0658238497927\n",
            "Work_Experience : 272.17740557750494\n",
            "Spending_Score : 683.4481031687438\n",
            "Family_Size : 55.24106364719278\n",
            "Var_1 : 46.7315314790461\n"
          ],
          "name": "stdout"
        },
        {
          "output_type": "display_data",
          "data": {
            "image/png": "[encoded data removed]",
            "text/plain": [
              "<Figure size 864x720 with 1 Axes>"
            ]
          },
          "metadata": {
            "tags": []
          }
        }
      ]
    },
    {
      "cell_type": "code",
      "metadata": {
        "id": "hsWQGZaGM8cQ"
      },
      "source": [
        "data_train.drop(['Graduated'],axis=1, inplace=True)\n",
        "data_test.drop(['Graduated'],axis=1, inplace=True)"
      ],
      "execution_count": 94,
      "outputs": []
    },
    {
      "cell_type": "code",
      "metadata": {
        "id": "D3pgErcjT9Oz"
      },
      "source": [
        "#remove work experience and ID columns\n",
        "data_train.drop(['Work_Experience','ID'],axis=1, inplace=True)\n",
        "data_test.drop(['Work_Experience','ID'],axis=1, inplace=True)"
      ],
      "execution_count": 95,
      "outputs": []
    },
    {
      "cell_type": "code",
      "metadata": {
        "id": "lKJJvJdEa_tz"
      },
      "source": [
        "#replace nans in profession with Not_Specified\n",
        "data_train.loc[data_train['Profession'].isna(),'Profession'] = 'Not_Specified'\n",
        "data_test.loc[data_test['Profession'].isna(),'Profession'] = 'Not_Specified'"
      ],
      "execution_count": 96,
      "outputs": []
    },
    {
      "cell_type": "code",
      "metadata": {
        "id": "1jIiwYxZ_exQ"
      },
      "source": [
        "#family size imputer \n",
        "def  impute_family_size(df, lower_bound_age, upper_bound_age, marriage):\n",
        "  impute_value = round(df[(df['Age'].between(lower_bound_age,upper_bound_age, inclusive=True))&(df['Ever_Married']==marriage)]['Family_Size'].mean())\n",
        "  df.loc[(df['Family_Size'].isna())&(df['Age'].between(lower_bound_age,upper_bound_age, inclusive=True))&(df['Ever_Married']==marriage), 'Family_Size'] = impute_value\n",
        "  return df"
      ],
      "execution_count": 97,
      "outputs": []
    },
    {
      "cell_type": "code",
      "metadata": {
        "colab": {
          "base_uri": "https://localhost:8080/",
          "height": 402
        },
        "id": "kFWYuqSQ_aBl",
        "outputId": "11dd8735-47fd-4d39-932d-071b14b6d9db"
      },
      "source": [
        "#for train data\n",
        "impute_family_size(data_train, 18,35,'No')\n",
        "impute_family_size(data_train, 18,35,'Yes')\n",
        "impute_family_size(data_train, 36,55,'No')\n",
        "impute_family_size(data_train, 36,55,'Yes')\n",
        "impute_family_size(data_train, 56,100,'No')\n",
        "impute_family_size(data_train, 56,100,'Yes')\n",
        "\n",
        "#for test data\n",
        "impute_family_size(data_test, 18,35,'No')\n",
        "impute_family_size(data_test, 18,35,'Yes')\n",
        "impute_family_size(data_test, 36,55,'No')\n",
        "impute_family_size(data_test, 36,55,'Yes')\n",
        "impute_family_size(data_test, 56,100,'No')\n",
        "impute_family_size(data_test, 56,100,'Yes')\n",
        "\n"
      ],
      "execution_count": 98,
      "outputs": [
        {
          "output_type": "execute_result",
          "data": {
            "text/html": [
              "<div>\n",
              "<style scoped>\n",
              "    .dataframe tbody tr th:only-of-type {\n",
              "        vertical-align: middle;\n",
              "    }\n",
              "\n",
              "    .dataframe tbody tr th {\n",
              "        vertical-align: top;\n",
              "    }\n",
              "\n",
              "    .dataframe thead th {\n",
              "        text-align: right;\n",
              "    }\n",
              "</style>\n",
              "<table border=\"1\" class=\"dataframe\">\n",
              "  <thead>\n",
              "    <tr style=\"text-align: right;\">\n",
              "      <th></th>\n",
              "      <th>Gender</th>\n",
              "      <th>Ever_Married</th>\n",
              "      <th>Age</th>\n",
              "      <th>Profession</th>\n",
              "      <th>Spending_Score</th>\n",
              "      <th>Family_Size</th>\n",
              "      <th>Var_1</th>\n",
              "      <th>Segmentation</th>\n",
              "    </tr>\n",
              "  </thead>\n",
              "  <tbody>\n",
              "    <tr>\n",
              "      <th>0</th>\n",
              "      <td>Female</td>\n",
              "      <td>Yes</td>\n",
              "      <td>36</td>\n",
              "      <td>Engineer</td>\n",
              "      <td>Low</td>\n",
              "      <td>1.0</td>\n",
              "      <td>Cat_6</td>\n",
              "      <td>B</td>\n",
              "    </tr>\n",
              "    <tr>\n",
              "      <th>1</th>\n",
              "      <td>Male</td>\n",
              "      <td>Yes</td>\n",
              "      <td>37</td>\n",
              "      <td>Healthcare</td>\n",
              "      <td>Average</td>\n",
              "      <td>4.0</td>\n",
              "      <td>Cat_6</td>\n",
              "      <td>A</td>\n",
              "    </tr>\n",
              "    <tr>\n",
              "      <th>2</th>\n",
              "      <td>Female</td>\n",
              "      <td>Yes</td>\n",
              "      <td>69</td>\n",
              "      <td>Not_Specified</td>\n",
              "      <td>Low</td>\n",
              "      <td>1.0</td>\n",
              "      <td>Cat_6</td>\n",
              "      <td>A</td>\n",
              "    </tr>\n",
              "    <tr>\n",
              "      <th>3</th>\n",
              "      <td>Male</td>\n",
              "      <td>Yes</td>\n",
              "      <td>59</td>\n",
              "      <td>Executive</td>\n",
              "      <td>High</td>\n",
              "      <td>2.0</td>\n",
              "      <td>Cat_6</td>\n",
              "      <td>B</td>\n",
              "    </tr>\n",
              "    <tr>\n",
              "      <th>4</th>\n",
              "      <td>Female</td>\n",
              "      <td>No</td>\n",
              "      <td>19</td>\n",
              "      <td>Marketing</td>\n",
              "      <td>Low</td>\n",
              "      <td>4.0</td>\n",
              "      <td>Cat_6</td>\n",
              "      <td>A</td>\n",
              "    </tr>\n",
              "    <tr>\n",
              "      <th>...</th>\n",
              "      <td>...</td>\n",
              "      <td>...</td>\n",
              "      <td>...</td>\n",
              "      <td>...</td>\n",
              "      <td>...</td>\n",
              "      <td>...</td>\n",
              "      <td>...</td>\n",
              "      <td>...</td>\n",
              "    </tr>\n",
              "    <tr>\n",
              "      <th>2622</th>\n",
              "      <td>Male</td>\n",
              "      <td>No</td>\n",
              "      <td>29</td>\n",
              "      <td>Healthcare</td>\n",
              "      <td>Low</td>\n",
              "      <td>4.0</td>\n",
              "      <td>Cat_6</td>\n",
              "      <td>B</td>\n",
              "    </tr>\n",
              "    <tr>\n",
              "      <th>2623</th>\n",
              "      <td>Female</td>\n",
              "      <td>No</td>\n",
              "      <td>35</td>\n",
              "      <td>Doctor</td>\n",
              "      <td>Low</td>\n",
              "      <td>1.0</td>\n",
              "      <td>Cat_6</td>\n",
              "      <td>A</td>\n",
              "    </tr>\n",
              "    <tr>\n",
              "      <th>2624</th>\n",
              "      <td>Female</td>\n",
              "      <td>No</td>\n",
              "      <td>53</td>\n",
              "      <td>Entertainment</td>\n",
              "      <td>Low</td>\n",
              "      <td>2.0</td>\n",
              "      <td>Cat_6</td>\n",
              "      <td>C</td>\n",
              "    </tr>\n",
              "    <tr>\n",
              "      <th>2625</th>\n",
              "      <td>Male</td>\n",
              "      <td>Yes</td>\n",
              "      <td>47</td>\n",
              "      <td>Executive</td>\n",
              "      <td>High</td>\n",
              "      <td>5.0</td>\n",
              "      <td>Cat_4</td>\n",
              "      <td>C</td>\n",
              "    </tr>\n",
              "    <tr>\n",
              "      <th>2626</th>\n",
              "      <td>Female</td>\n",
              "      <td>No</td>\n",
              "      <td>43</td>\n",
              "      <td>Healthcare</td>\n",
              "      <td>Low</td>\n",
              "      <td>3.0</td>\n",
              "      <td>Cat_7</td>\n",
              "      <td>A</td>\n",
              "    </tr>\n",
              "  </tbody>\n",
              "</table>\n",
              "<p>2627 rows × 8 columns</p>\n",
              "</div>"
            ],
            "text/plain": [
              "      Gender Ever_Married  Age  ... Family_Size  Var_1  Segmentation\n",
              "0     Female          Yes   36  ...         1.0  Cat_6             B\n",
              "1       Male          Yes   37  ...         4.0  Cat_6             A\n",
              "2     Female          Yes   69  ...         1.0  Cat_6             A\n",
              "3       Male          Yes   59  ...         2.0  Cat_6             B\n",
              "4     Female           No   19  ...         4.0  Cat_6             A\n",
              "...      ...          ...  ...  ...         ...    ...           ...\n",
              "2622    Male           No   29  ...         4.0  Cat_6             B\n",
              "2623  Female           No   35  ...         1.0  Cat_6             A\n",
              "2624  Female           No   53  ...         2.0  Cat_6             C\n",
              "2625    Male          Yes   47  ...         5.0  Cat_4             C\n",
              "2626  Female           No   43  ...         3.0  Cat_7             A\n",
              "\n",
              "[2627 rows x 8 columns]"
            ]
          },
          "metadata": {
            "tags": []
          },
          "execution_count": 98
        }
      ]
    },
    {
      "cell_type": "code",
      "metadata": {
        "id": "M82elvbIEzC3"
      },
      "source": [
        "#filling nans in Var_1 with the most frequent value\n",
        "data_train['Var_1'].fillna(data_train['Var_1'].mode()[0], inplace=True)\n",
        "data_test['Var_1'].fillna(data_test['Var_1'].mode()[0], inplace=True)"
      ],
      "execution_count": 99,
      "outputs": []
    },
    {
      "cell_type": "code",
      "metadata": {
        "colab": {
          "base_uri": "https://localhost:8080/"
        },
        "id": "QpUc2_tOi_S-",
        "outputId": "37d6391a-85ff-414d-c8b3-b50f4bb099e2"
      },
      "source": [
        "data_train.isna().sum()"
      ],
      "execution_count": 100,
      "outputs": [
        {
          "output_type": "execute_result",
          "data": {
            "text/plain": [
              "Gender              0\n",
              "Ever_Married      140\n",
              "Age                 0\n",
              "Profession          0\n",
              "Spending_Score      0\n",
              "Family_Size        12\n",
              "Var_1               0\n",
              "Segmentation        0\n",
              "dtype: int64"
            ]
          },
          "metadata": {
            "tags": []
          },
          "execution_count": 100
        }
      ]
    },
    {
      "cell_type": "markdown",
      "metadata": {
        "id": "OOzjTflKFWoJ"
      },
      "source": [
        "Modelling"
      ]
    },
    {
      "cell_type": "code",
      "metadata": {
        "id": "SQ37f16NEzXo"
      },
      "source": [
        "from sklearn.model_selection import train_test_split\n",
        "\n",
        "encoder = LabelEncoder()\n",
        "\n",
        "data_train.dropna(inplace=True)\n",
        "data_test.dropna(inplace=True)\n",
        "\n",
        "X_train= data_train.drop(['Segmentation'],axis=1)\n",
        "X_train = pd.get_dummies(X_train, drop_first=True)\n",
        "y_train= encoder.fit_transform(data_train['Segmentation'])\n",
        "\n",
        "X_test = data_test.drop(['Segmentation'], axis=1)\n",
        "X_test = pd.get_dummies(X_test, drop_first=True)\n",
        "y_test= encoder.transform(data_test['Segmentation'])"
      ],
      "execution_count": 104,
      "outputs": []
    },
    {
      "cell_type": "code",
      "metadata": {
        "id": "y6qlrND-MIR6"
      },
      "source": [
        "### Nested Cross Validation For model selection\n",
        "from sklearn.pipeline import Pipeline\n",
        "from sklearn.model_selection import GridSearchCV\n",
        "from sklearn.model_selection import cross_val_score\n",
        "from sklearn.svm import SVC\n",
        "from sklearn.ensemble import RandomForestClassifier\n",
        "from xgboost import XGBClassifier\n",
        "from sklearn.preprocessing import MinMaxScaler\n",
        "from sklearn.model_selection import KFold\n",
        "from sklearn.metrics import classification_report, confusion_matrix, plot_confusion_matrix\n",
        "scaler=MinMaxScaler()\n",
        "rf = RandomForestClassifier(random_state=33)\n",
        "svm = SVC(random_state=33)\n",
        "xg = XGBClassifier(random_state=33)\n",
        "cv_inner = KFold(n_splits=3, shuffle=True, random_state=33)\n",
        "cv_outer = KFold(n_splits=5, shuffle=True, random_state=55)"
      ],
      "execution_count": 106,
      "outputs": []
    },
    {
      "cell_type": "code",
      "metadata": {
        "colab": {
          "base_uri": "https://localhost:8080/"
        },
        "id": "dK2smKLcMQS1",
        "outputId": "298a2bff-c95d-4ec4-8851-9696072abbcc"
      },
      "source": [
        "#Support Vector Machine\n",
        "pipe_svm = Pipeline(steps=[('scaler',scaler),('SVM',svm)])\n",
        "param_grid_svm = {'SVM__C': [0.1, 1, 10, 100, 1000],  \n",
        "              'SVM__gamma': [1, 0.1, 0.01, 0.001], \n",
        "              'SVM__kernel': ['rbf']}\n",
        "grid_svm = GridSearchCV(pipe_svm, param_grid_svm, scoring='accuracy', n_jobs=-1,cv=cv_inner)\n",
        "scores_svm = cross_val_score(grid_svm, X_train, y_train, scoring='accuracy', cv=cv_outer)\n",
        "print(scores_svm)\n",
        "print(np.mean(scores_svm), np.std(scores_svm))"
      ],
      "execution_count": 56,
      "outputs": [
        {
          "output_type": "stream",
          "text": [
            "[0.49117276 0.5220681  0.5220681  0.4977918  0.49968454]\n",
            "0.5065570588071494 0.012976304654942202\n"
          ],
          "name": "stdout"
        }
      ]
    },
    {
      "cell_type": "code",
      "metadata": {
        "colab": {
          "base_uri": "https://localhost:8080/"
        },
        "id": "sZFHiba4Ys4i",
        "outputId": "19e39164-cfaf-460a-ec21-fccda0c07f88"
      },
      "source": [
        "#Random Forest\n",
        "pipe_rf = Pipeline(steps=[('scaler',scaler),('RF',rf)])\n",
        "param_grid_rf = {'RF__max_depth': [4,6,8],  \n",
        "              'RF__max_features': [0.6, 0.8], \n",
        "              'RF__min_samples_split': [20,40,60],\n",
        "              'RF__n_estimators': [100,250,500]}\n",
        "grid_rf = GridSearchCV(pipe_rf, param_grid_rf, scoring='accuracy', n_jobs=-1,cv=cv_inner)\n",
        "scores_rf = cross_val_score(grid_rf, X_train, y_train, scoring='accuracy', cv=cv_outer)\n",
        "print(scores_rf)\n",
        "print(np.mean(scores_rf), np.std(scores_rf))\n"
      ],
      "execution_count": 57,
      "outputs": [
        {
          "output_type": "stream",
          "text": [
            "[0.51008827 0.53972257 0.52459016 0.48706625 0.51419558]\n",
            "0.5151325676960471 0.01736753136225997\n"
          ],
          "name": "stdout"
        }
      ]
    },
    {
      "cell_type": "code",
      "metadata": {
        "colab": {
          "base_uri": "https://localhost:8080/"
        },
        "id": "GNu5L--JhA1U",
        "outputId": "10dcd5b7-0f0c-4db6-f6ad-ea5eeb97d3e0"
      },
      "source": [
        "#XGBoost\n",
        "pipe_xg = Pipeline(steps=[('scaler',scaler),('XG',xg)])\n",
        "param_grid_xg = {'XG__max_depth': [4,6,8],  \n",
        "              'XG__learning_rate': [0.01, 0.05, 0.1], \n",
        "              'XG__colsample_bytree': [0.8],\n",
        "              'XG__subsample': [0.8],\n",
        "              'XG__min_child_weight': [0.5,1,5],\n",
        "              'XG__min_samples_split': [20,40,60]}\n",
        "grid_xg = GridSearchCV(pipe_xg, param_grid_xg, scoring='accuracy', n_jobs=-1,cv=cv_inner)\n",
        "scores_xg = cross_val_score(grid_xg, X_train, y_train, scoring='accuracy', cv=cv_outer)\n",
        "print(scores_xg)\n",
        "print(np.mean(scores_xg), np.std(scores_xg))"
      ],
      "execution_count": 58,
      "outputs": [
        {
          "output_type": "stream",
          "text": [
            "[0.52080706 0.54539723 0.53783102 0.50662461 0.52933754]\n",
            "0.5279994908127503 0.013488864284042352\n"
          ],
          "name": "stdout"
        }
      ]
    },
    {
      "cell_type": "code",
      "metadata": {
        "id": "Z3TEvDFo2BFo"
      },
      "source": [
        "#building model with the most related features\n",
        "X_reduced= data_train[['Age','Profession','Spending_Score','Ever_Married']]\n",
        "X_reduced = pd.get_dummies(X_reduced, drop_first=True)"
      ],
      "execution_count": 59,
      "outputs": []
    },
    {
      "cell_type": "code",
      "metadata": {
        "colab": {
          "base_uri": "https://localhost:8080/"
        },
        "id": "Rvg8nbyHcsYv",
        "outputId": "4a5617de-600d-4cbf-cbec-700dbfe70905"
      },
      "source": [
        "#Support Vector Machine\n",
        "pipe_svm = Pipeline(steps=[('scaler',scaler),('SVM',svm)])\n",
        "param_grid_svm = {'SVM__C': [0.1, 1, 10, 100, 1000],  \n",
        "              'SVM__gamma': [1, 0.1, 0.01, 0.001], \n",
        "              'SVM__kernel': ['rbf']}\n",
        "grid_svm = GridSearchCV(pipe_svm, param_grid_svm, scoring='accuracy', n_jobs=-1,cv=cv_inner)\n",
        "scores_svm = cross_val_score(grid_svm, X_reduced, y_train, scoring='accuracy', cv=cv_outer)\n",
        "print(scores_svm)\n",
        "print(np.mean(scores_svm), np.std(scores_svm))\n"
      ],
      "execution_count": 60,
      "outputs": [
        {
          "output_type": "stream",
          "text": [
            "[0.5037831  0.52837327 0.53026482 0.50725552 0.49652997]\n",
            "0.5132413348661992 0.013589203055582113\n"
          ],
          "name": "stdout"
        }
      ]
    },
    {
      "cell_type": "code",
      "metadata": {
        "id": "BLUWDkjEdiSf",
        "colab": {
          "base_uri": "https://localhost:8080/"
        },
        "outputId": "a5269e4e-21ce-4b67-dce9-98abffc094b1"
      },
      "source": [
        "#Random Forest\n",
        "pipe_rf = Pipeline(steps=[('scaler',scaler),('RF',rf)])\n",
        "param_grid_rf = {'RF__max_depth': [4,6,8],  \n",
        "              'RF__max_features': [0.6, 0.8], \n",
        "              'RF__min_samples_split': [20,40,60],\n",
        "              'RF__n_estimators': [100,250,500]}\n",
        "grid_rf = GridSearchCV(pipe_rf, param_grid_rf, scoring='accuracy', n_jobs=-1,cv=cv_inner)\n",
        "scores_rf = cross_val_score(grid_rf, X_reduced, y_train, scoring='accuracy', cv=cv_outer)\n",
        "print(scores_rf)\n",
        "print(np.mean(scores_rf), np.std(scores_rf))\n"
      ],
      "execution_count": 62,
      "outputs": [
        {
          "output_type": "stream",
          "text": [
            "[0.51261034 0.52522068 0.51576293 0.48580442 0.50851735]\n",
            "0.5095831427196169 0.0131030529562308\n"
          ],
          "name": "stdout"
        }
      ]
    },
    {
      "cell_type": "code",
      "metadata": {
        "id": "Pyf91k5fdsRz",
        "colab": {
          "base_uri": "https://localhost:8080/"
        },
        "outputId": "e5ff86f8-bb15-41e7-e6d3-6db6a3612f6e"
      },
      "source": [
        "#XGBoost\n",
        "pipe_xg = Pipeline(steps=[('scaler',scaler),('XG',xg)])\n",
        "param_grid_xg = {'XG__max_depth': [4,6,8],  \n",
        "              'XG__learning_rate': [0.01, 0.05, 0.1], \n",
        "              'XG__colsample_bytree': [0.8],\n",
        "              'XG__subsample': [0.8],\n",
        "              'XG__min_child_weight': [0.5,1,5],\n",
        "              'XG__min_samples_split': [20,40,60]}\n",
        "grid_xg = GridSearchCV(pipe_xg, param_grid_xg, scoring='accuracy', n_jobs=-1,cv=cv_inner)\n",
        "scores_xg = cross_val_score(grid_xg, X_reduced, y_train, scoring='accuracy', cv=cv_outer)\n",
        "print(scores_xg)\n",
        "print(np.mean(scores_xg), np.std(scores_xg))"
      ],
      "execution_count": 63,
      "outputs": [
        {
          "output_type": "stream",
          "text": [
            "[0.51008827 0.52774275 0.51702396 0.50031546 0.51419558]\n",
            "0.5138732044187906 0.008950236528885611\n"
          ],
          "name": "stdout"
        }
      ]
    },
    {
      "cell_type": "code",
      "metadata": {
        "colab": {
          "base_uri": "https://localhost:8080/",
          "height": 463
        },
        "id": "23PsVNF_3AQ2",
        "outputId": "e7bc1e8b-39f2-44e7-a7cd-1e875e76d144"
      },
      "source": [
        "comp_df = pd.DataFrame({'SVM':[0.506, 0.513], 'Random Forest':[0.515, 0.512], 'XGBoost':[0.52, 0.513 ], 'Data':['All Features','Reduced Features']})\n",
        "comp_df = comp_df.melt(id_vars='Data')\n",
        "comp_df.columns = ['Data','Algorithm','Accuracy']\n",
        "plt.figure(figsize=(10,7))\n",
        "graph = sns.barplot(x='Data', y='Accuracy', hue='Algorithm', data=comp_df)\n",
        "graph.set_ylim(0.49, 0.54)"
      ],
      "execution_count": 75,
      "outputs": [
        {
          "output_type": "execute_result",
          "data": {
            "text/plain": [
              "(0.49, 0.54)"
            ]
          },
          "metadata": {
            "tags": []
          },
          "execution_count": 75
        },
        {
          "output_type": "display_data",
          "data": {
            "image/png": "[encoded data removed]",
            "text/plain": [
              "<Figure size 720x504 with 1 Axes>"
            ]
          },
          "metadata": {
            "tags": []
          }
        }
      ]
    },
    {
      "cell_type": "code",
      "metadata": {
        "id": "OQWgmlivh2Nj",
        "colab": {
          "base_uri": "https://localhost:8080/"
        },
        "outputId": "52eeb3c5-545c-4c94-b28c-215e81bf8795"
      },
      "source": [
        "#Final training with the best model with all features\n",
        "pipe_xg = Pipeline(steps=[('scaler',scaler),('XG',xg)])\n",
        "param_grid_xg = {'XG__max_depth': [4,6,8],  \n",
        "              'XG__learning_rate': [0.01, 0.05, 0.1], \n",
        "              'XG__colsample_bytree': [0.8],\n",
        "              'XG__subsample': [0.8],\n",
        "              'XG__min_child_weight': [0.5,1,5],\n",
        "              'XG__min_samples_split': [20,40,60]}\n",
        "grid_xg = GridSearchCV(pipe_xg, param_grid_xg, scoring='accuracy', n_jobs=-1,cv=cv_outer)\n",
        "grid_xg.fit(X_train,y_train)"
      ],
      "execution_count": 65,
      "outputs": [
        {
          "output_type": "execute_result",
          "data": {
            "text/plain": [
              "GridSearchCV(cv=KFold(n_splits=5, random_state=55, shuffle=True),\n",
              "             error_score=nan,\n",
              "             estimator=Pipeline(memory=None,\n",
              "                                steps=[('scaler',\n",
              "                                        MinMaxScaler(copy=True,\n",
              "                                                     feature_range=(0, 1))),\n",
              "                                       ('XG',\n",
              "                                        XGBClassifier(base_score=0.5,\n",
              "                                                      booster='gbtree',\n",
              "                                                      colsample_bylevel=1,\n",
              "                                                      colsample_bynode=1,\n",
              "                                                      colsample_bytree=1,\n",
              "                                                      gamma=0,\n",
              "                                                      learning_rate=0.1,\n",
              "                                                      max_delta_step=0,\n",
              "                                                      max_depth=3,\n",
              "                                                      min_child_wei...\n",
              "                                                      subsample=1,\n",
              "                                                      verbosity=1))],\n",
              "                                verbose=False),\n",
              "             iid='deprecated', n_jobs=-1,\n",
              "             param_grid={'XG__colsample_bytree': [0.8],\n",
              "                         'XG__learning_rate': [0.01, 0.05, 0.1],\n",
              "                         'XG__max_depth': [4, 6, 8],\n",
              "                         'XG__min_child_weight': [0.5, 1, 5],\n",
              "                         'XG__min_samples_split': [20, 40, 60],\n",
              "                         'XG__subsample': [0.8]},\n",
              "             pre_dispatch='2*n_jobs', refit=True, return_train_score=False,\n",
              "             scoring='accuracy', verbose=0)"
            ]
          },
          "metadata": {
            "tags": []
          },
          "execution_count": 65
        }
      ]
    },
    {
      "cell_type": "code",
      "metadata": {
        "colab": {
          "base_uri": "https://localhost:8080/"
        },
        "id": "l3f4s5epxZi-",
        "outputId": "8f34b59f-199e-4630-ac4a-feb60902f4bb"
      },
      "source": [
        "grid_xg.best_params_"
      ],
      "execution_count": 66,
      "outputs": [
        {
          "output_type": "execute_result",
          "data": {
            "text/plain": [
              "{'XG__colsample_bytree': 0.8,\n",
              " 'XG__learning_rate': 0.1,\n",
              " 'XG__max_depth': 4,\n",
              " 'XG__min_child_weight': 5,\n",
              " 'XG__min_samples_split': 20,\n",
              " 'XG__subsample': 0.8}"
            ]
          },
          "metadata": {
            "tags": []
          },
          "execution_count": 66
        }
      ]
    },
    {
      "cell_type": "code",
      "metadata": {
        "colab": {
          "base_uri": "https://localhost:8080/"
        },
        "id": "smF5w5NQvPag",
        "outputId": "66ee0c12-a90a-49d5-e63e-2c2c06744109"
      },
      "source": [
        "pipe_xg_final = Pipeline(steps=[('scaler',scaler),('XG',XGBClassifier(colsample_bytree= 0.8, learning_rate=0.1, max_depth=4, min_child_weight=5, min_samples_split=20, subsample=0.8, random_state=33))])\n",
        "pipe_xg_final.fit(X_train,y_train)\n",
        "preds = pipe_xg_final.predict(X_test)\n",
        "print(classification_report(y_test, preds))"
      ],
      "execution_count": 105,
      "outputs": [
        {
          "output_type": "stream",
          "text": [
            "              precision    recall  f1-score   support\n",
            "\n",
            "           0       0.37      0.31      0.33       821\n",
            "           1       0.26      0.20      0.23       543\n",
            "           2       0.26      0.36      0.30       466\n",
            "           3       0.43      0.48      0.45       747\n",
            "\n",
            "    accuracy                           0.34      2577\n",
            "   macro avg       0.33      0.34      0.33      2577\n",
            "weighted avg       0.34      0.34      0.34      2577\n",
            "\n"
          ],
          "name": "stdout"
        }
      ]
    },
    {
      "cell_type": "code",
      "metadata": {
        "colab": {
          "base_uri": "https://localhost:8080/",
          "height": 459
        },
        "id": "qpfQyXUS-KGR",
        "outputId": "4c019a34-4105-4e46-eaf8-63cf570e6a35"
      },
      "source": [
        "#confusion matrix plot\n",
        "df_cm = pd.DataFrame(confusion_matrix(y_test, preds), index = [i for i in sorted(data_test['Segmentation'].unique())],\n",
        "                  columns = [i for i in sorted(data_test['Segmentation'].unique())])\n",
        "df_cm.index.name = 'Actual'\n",
        "df_cm.columns.name = 'Predicted'\n",
        "df_cm = df_cm.astype(int)\n",
        "plt.figure(figsize = (10,7))\n",
        "sns.heatmap(df_cm, cmap=\"Blues\", annot=True, fmt='g')# font size\n"
      ],
      "execution_count": 138,
      "outputs": [
        {
          "output_type": "execute_result",
          "data": {
            "text/plain": [
              "<matplotlib.axes._subplots.AxesSubplot at 0x7f7d8dbe5d10>"
            ]
          },
          "metadata": {
            "tags": []
          },
          "execution_count": 138
        },
        {
          "output_type": "display_data",
          "data": {
            "image/png": "[encoded data removed]",
            "text/plain": [
              "<Figure size 720x504 with 2 Axes>"
            ]
          },
          "metadata": {
            "tags": []
          }
        }
      ]
    },
    {
      "cell_type": "code",
      "metadata": {
        "id": "_CDZdbSoQy8O"
      },
      "source": [
        ""
      ],
      "execution_count": null,
      "outputs": []
    }
  ]
}