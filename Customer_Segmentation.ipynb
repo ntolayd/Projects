{
  "nbformat": 4,
  "nbformat_minor": 0,
  "metadata": {
    "colab": {
      "name": "Untitled7.ipynb",
      "provenance": [],
      "collapsed_sections": [],
      "authorship_tag": "ABX9TyM/fyZC0cMcgec/PLaoqn35",
      "include_colab_link": true
    },
    "kernelspec": {
      "display_name": "Python 3",
      "name": "python3"
    }
  },
  "cells": [
    {
      "cell_type": "markdown",
      "metadata": {
        "id": "view-in-github",
        "colab_type": "text"
      },
      "source": [
        "<a href=\"https://colab.research.google.com/github/ntolayd/Projects/blob/main/Customer_Segmentation.ipynb\" target=\"_parent\"><img src=\"https://colab.research.google.com/assets/colab-badge.svg\" alt=\"Open In Colab\"/></a>"
      ]
    },
    {
      "cell_type": "code",
      "metadata": {
        "colab": {
          "base_uri": "https://localhost:8080/"
        },
        "id": "EP4FBEYcakr5",
        "outputId": "95141222-d0ac-4745-a324-33df372178fa"
      },
      "source": [
        "from google.colab import drive\n",
        "drive.mount('/content/gdrive')"
      ],
      "execution_count": 1,
      "outputs": [
        {
          "output_type": "stream",
          "text": [
            "Mounted at /content/gdrive\n"
          ],
          "name": "stdout"
        }
      ]
    },
    {
      "cell_type": "code",
      "metadata": {
        "colab": {
          "base_uri": "https://localhost:8080/"
        },
        "id": "bnHDh7wwan-O",
        "outputId": "6003044e-cd28-4631-9048-6f874f595b89"
      },
      "source": [
        "!unzip \"/content/gdrive/My Drive/car.zip\""
      ],
      "execution_count": 2,
      "outputs": [
        {
          "output_type": "stream",
          "text": [
            "Archive:  /content/gdrive/My Drive/car.zip\n",
            "  inflating: Test.csv                \n",
            "  inflating: Train.csv               \n"
          ],
          "name": "stdout"
        }
      ]
    },
    {
      "cell_type": "code",
      "metadata": {
        "id": "LKtHX06Pa6hp"
      },
      "source": [
        "import pandas as pd\n",
        "import numpy as np\n",
        "import matplotlib.pyplot as plt\n",
        "import seaborn as sns\n",
        "sns.set_theme()"
      ],
      "execution_count": 72,
      "outputs": []
    },
    {
      "cell_type": "code",
      "metadata": {
        "id": "Nh5TZCF5bDBX"
      },
      "source": [
        "data_train = pd.read_csv(\"Train.csv\")\n",
        "data_test = pd.read_csv(\"Test.csv\")"
      ],
      "execution_count": 80,
      "outputs": []
    },
    {
      "cell_type": "markdown",
      "metadata": {
        "id": "8qpBFVigqsGs"
      },
      "source": [
        "Exploratory Data Analysis and Preprocessing"
      ]
    },
    {
      "cell_type": "code",
      "metadata": {
        "colab": {
          "base_uri": "https://localhost:8080/",
          "height": 284
        },
        "id": "ljdQQ-STAuuw",
        "outputId": "3245b188-4e71-4a70-a0eb-82b3a94bf56b"
      },
      "source": [
        "data_train.describe()"
      ],
      "execution_count": 79,
      "outputs": [
        {
          "output_type": "execute_result",
          "data": {
            "text/html": [
              "<div>\n",
              "<style scoped>\n",
              "    .dataframe tbody tr th:only-of-type {\n",
              "        vertical-align: middle;\n",
              "    }\n",
              "\n",
              "    .dataframe tbody tr th {\n",
              "        vertical-align: top;\n",
              "    }\n",
              "\n",
              "    .dataframe thead th {\n",
              "        text-align: right;\n",
              "    }\n",
              "</style>\n",
              "<table border=\"1\" class=\"dataframe\">\n",
              "  <thead>\n",
              "    <tr style=\"text-align: right;\">\n",
              "      <th></th>\n",
              "      <th>ID</th>\n",
              "      <th>Age</th>\n",
              "      <th>Work_Experience</th>\n",
              "      <th>Family_Size</th>\n",
              "    </tr>\n",
              "  </thead>\n",
              "  <tbody>\n",
              "    <tr>\n",
              "      <th>count</th>\n",
              "      <td>8068.000000</td>\n",
              "      <td>8068.000000</td>\n",
              "      <td>7239.000000</td>\n",
              "      <td>7733.000000</td>\n",
              "    </tr>\n",
              "    <tr>\n",
              "      <th>mean</th>\n",
              "      <td>463479.214551</td>\n",
              "      <td>43.466906</td>\n",
              "      <td>2.641663</td>\n",
              "      <td>2.850123</td>\n",
              "    </tr>\n",
              "    <tr>\n",
              "      <th>std</th>\n",
              "      <td>2595.381232</td>\n",
              "      <td>16.711696</td>\n",
              "      <td>3.406763</td>\n",
              "      <td>1.531413</td>\n",
              "    </tr>\n",
              "    <tr>\n",
              "      <th>min</th>\n",
              "      <td>458982.000000</td>\n",
              "      <td>18.000000</td>\n",
              "      <td>0.000000</td>\n",
              "      <td>1.000000</td>\n",
              "    </tr>\n",
              "    <tr>\n",
              "      <th>25%</th>\n",
              "      <td>461240.750000</td>\n",
              "      <td>30.000000</td>\n",
              "      <td>0.000000</td>\n",
              "      <td>2.000000</td>\n",
              "    </tr>\n",
              "    <tr>\n",
              "      <th>50%</th>\n",
              "      <td>463472.500000</td>\n",
              "      <td>40.000000</td>\n",
              "      <td>1.000000</td>\n",
              "      <td>3.000000</td>\n",
              "    </tr>\n",
              "    <tr>\n",
              "      <th>75%</th>\n",
              "      <td>465744.250000</td>\n",
              "      <td>53.000000</td>\n",
              "      <td>4.000000</td>\n",
              "      <td>4.000000</td>\n",
              "    </tr>\n",
              "    <tr>\n",
              "      <th>max</th>\n",
              "      <td>467974.000000</td>\n",
              "      <td>89.000000</td>\n",
              "      <td>14.000000</td>\n",
              "      <td>9.000000</td>\n",
              "    </tr>\n",
              "  </tbody>\n",
              "</table>\n",
              "</div>"
            ],
            "text/plain": [
              "                  ID          Age  Work_Experience  Family_Size\n",
              "count    8068.000000  8068.000000      7239.000000  7733.000000\n",
              "mean   463479.214551    43.466906         2.641663     2.850123\n",
              "std      2595.381232    16.711696         3.406763     1.531413\n",
              "min    458982.000000    18.000000         0.000000     1.000000\n",
              "25%    461240.750000    30.000000         0.000000     2.000000\n",
              "50%    463472.500000    40.000000         1.000000     3.000000\n",
              "75%    465744.250000    53.000000         4.000000     4.000000\n",
              "max    467974.000000    89.000000        14.000000     9.000000"
            ]
          },
          "metadata": {
            "tags": []
          },
          "execution_count": 79
        }
      ]
    },
    {
      "cell_type": "code",
      "metadata": {
        "colab": {
          "base_uri": "https://localhost:8080/",
          "height": 166
        },
        "id": "TnP5RQwoq4Rt",
        "outputId": "aa8a06b2-aaeb-496f-ebba-d5cc8def1b82"
      },
      "source": [
        "data_train.describe(include=['object'])"
      ],
      "execution_count": 81,
      "outputs": [
        {
          "output_type": "execute_result",
          "data": {
            "text/html": [
              "<div>\n",
              "<style scoped>\n",
              "    .dataframe tbody tr th:only-of-type {\n",
              "        vertical-align: middle;\n",
              "    }\n",
              "\n",
              "    .dataframe tbody tr th {\n",
              "        vertical-align: top;\n",
              "    }\n",
              "\n",
              "    .dataframe thead th {\n",
              "        text-align: right;\n",
              "    }\n",
              "</style>\n",
              "<table border=\"1\" class=\"dataframe\">\n",
              "  <thead>\n",
              "    <tr style=\"text-align: right;\">\n",
              "      <th></th>\n",
              "      <th>Gender</th>\n",
              "      <th>Ever_Married</th>\n",
              "      <th>Graduated</th>\n",
              "      <th>Profession</th>\n",
              "      <th>Spending_Score</th>\n",
              "      <th>Var_1</th>\n",
              "      <th>Segmentation</th>\n",
              "    </tr>\n",
              "  </thead>\n",
              "  <tbody>\n",
              "    <tr>\n",
              "      <th>count</th>\n",
              "      <td>8068</td>\n",
              "      <td>7928</td>\n",
              "      <td>7990</td>\n",
              "      <td>7944</td>\n",
              "      <td>8068</td>\n",
              "      <td>7992</td>\n",
              "      <td>8068</td>\n",
              "    </tr>\n",
              "    <tr>\n",
              "      <th>unique</th>\n",
              "      <td>2</td>\n",
              "      <td>2</td>\n",
              "      <td>2</td>\n",
              "      <td>9</td>\n",
              "      <td>3</td>\n",
              "      <td>7</td>\n",
              "      <td>4</td>\n",
              "    </tr>\n",
              "    <tr>\n",
              "      <th>top</th>\n",
              "      <td>Male</td>\n",
              "      <td>Yes</td>\n",
              "      <td>Yes</td>\n",
              "      <td>Artist</td>\n",
              "      <td>Low</td>\n",
              "      <td>Cat_6</td>\n",
              "      <td>D</td>\n",
              "    </tr>\n",
              "    <tr>\n",
              "      <th>freq</th>\n",
              "      <td>4417</td>\n",
              "      <td>4643</td>\n",
              "      <td>4968</td>\n",
              "      <td>2516</td>\n",
              "      <td>4878</td>\n",
              "      <td>5238</td>\n",
              "      <td>2268</td>\n",
              "    </tr>\n",
              "  </tbody>\n",
              "</table>\n",
              "</div>"
            ],
            "text/plain": [
              "       Gender Ever_Married Graduated  ... Spending_Score  Var_1 Segmentation\n",
              "count    8068         7928      7990  ...           8068   7992         8068\n",
              "unique      2            2         2  ...              3      7            4\n",
              "top      Male          Yes       Yes  ...            Low  Cat_6            D\n",
              "freq     4417         4643      4968  ...           4878   5238         2268\n",
              "\n",
              "[4 rows x 7 columns]"
            ]
          },
          "metadata": {
            "tags": []
          },
          "execution_count": 81
        }
      ]
    },
    {
      "cell_type": "code",
      "metadata": {
        "colab": {
          "base_uri": "https://localhost:8080/"
        },
        "id": "OZTXa462rA-Y",
        "outputId": "6097acd1-a119-4554-e897-885b156c68bd"
      },
      "source": [
        "data_train.isna().sum()"
      ],
      "execution_count": 35,
      "outputs": [
        {
          "output_type": "execute_result",
          "data": {
            "text/plain": [
              "ID                   0\n",
              "Gender               0\n",
              "Ever_Married       140\n",
              "Age                  0\n",
              "Graduated           78\n",
              "Profession         124\n",
              "Work_Experience    829\n",
              "Spending_Score       0\n",
              "Family_Size        335\n",
              "Var_1               76\n",
              "Segmentation         0\n",
              "dtype: int64"
            ]
          },
          "metadata": {
            "tags": []
          },
          "execution_count": 35
        }
      ]
    },
    {
      "cell_type": "code",
      "metadata": {
        "colab": {
          "base_uri": "https://localhost:8080/"
        },
        "id": "kxwwK4EMUQAC",
        "outputId": "4e5b9309-9cfc-403f-ce49-d96c592d1421"
      },
      "source": [
        "# The average age of people that have less than 2 years of work experience\n",
        "data_train[data_train['Work_Experience'] < 2]['Age'].mean()"
      ],
      "execution_count": 36,
      "outputs": [
        {
          "output_type": "execute_result",
          "data": {
            "text/plain": [
              "45.77054794520548"
            ]
          },
          "metadata": {
            "tags": []
          },
          "execution_count": 36
        }
      ]
    },
    {
      "cell_type": "code",
      "metadata": {
        "colab": {
          "base_uri": "https://localhost:8080/",
          "height": 522
        },
        "id": "3o4OGPs3sX-b",
        "outputId": "4483c8c8-9403-4404-90d9-0f3f795b8f05"
      },
      "source": [
        "plt.figure(figsize=(10,7))\n",
        "sns.countplot('Ever_Married', hue='Family_Size', data=data_train)"
      ],
      "execution_count": 37,
      "outputs": [
        {
          "output_type": "stream",
          "text": [
            "/usr/local/lib/python3.7/dist-packages/seaborn/_decorators.py:43: FutureWarning: Pass the following variable as a keyword arg: x. From version 0.12, the only valid positional argument will be `data`, and passing other arguments without an explicit keyword will result in an error or misinterpretation.\n",
            "  FutureWarning\n"
          ],
          "name": "stderr"
        },
        {
          "output_type": "execute_result",
          "data": {
            "text/plain": [
              "<matplotlib.axes._subplots.AxesSubplot at 0x7f367c1ed150>"
            ]
          },
          "metadata": {
            "tags": []
          },
          "execution_count": 37
        },
        {
          "output_type": "display_data",
          "data": {
            "image/png": "[encoded data removed]",
            "text/plain": [
              "<Figure size 720x504 with 1 Axes>"
            ]
          },
          "metadata": {
            "tags": []
          }
        }
      ]
    },
    {
      "cell_type": "code",
      "metadata": {
        "colab": {
          "base_uri": "https://localhost:8080/",
          "height": 448
        },
        "id": "a-ovKpsT-CS6",
        "outputId": "6dbf5d53-5578-446b-90da-786de2c086aa"
      },
      "source": [
        "age_groups = data_train.groupby(['Segmentation'])['Age'].mean().reset_index()\n",
        "plt.figure(figsize=(10,7))\n",
        "splot = sns.barplot(x='Segmentation', y='Age', data=age_groups )\n",
        "for p in splot.patches:\n",
        "    splot.annotate(format(p.get_height(), '.1f'), \n",
        "                   (p.get_x() + p.get_width() / 2., p.get_height()), \n",
        "                   ha = 'center', va = 'center', \n",
        "                   xytext = (0, 9), \n",
        "                   textcoords = 'offset points') "
      ],
      "execution_count": 38,
      "outputs": [
        {
          "output_type": "display_data",
          "data": {
            "image/png": "[encoded data removed]",
            "text/plain": [
              "<Figure size 720x504 with 1 Axes>"
            ]
          },
          "metadata": {
            "tags": []
          }
        }
      ]
    },
    {
      "cell_type": "code",
      "metadata": {
        "colab": {
          "base_uri": "https://localhost:8080/",
          "height": 519
        },
        "id": "SNH2pCNZAtR2",
        "outputId": "492a0541-be92-4c7c-c067-f184c61be8e1"
      },
      "source": [
        "plt.figure(figsize=(10,7))\n",
        "sns.countplot('Var_1', hue='Segmentation', data=data_train,  order=sorted(list(data_train['Var_1'].dropna().unique())), hue_order=sorted(data_train['Segmentation'].unique()))"
      ],
      "execution_count": 39,
      "outputs": [
        {
          "output_type": "stream",
          "text": [
            "/usr/local/lib/python3.7/dist-packages/seaborn/_decorators.py:43: FutureWarning: Pass the following variable as a keyword arg: x. From version 0.12, the only valid positional argument will be `data`, and passing other arguments without an explicit keyword will result in an error or misinterpretation.\n",
            "  FutureWarning\n"
          ],
          "name": "stderr"
        },
        {
          "output_type": "execute_result",
          "data": {
            "text/plain": [
              "<matplotlib.axes._subplots.AxesSubplot at 0x7f367600f650>"
            ]
          },
          "metadata": {
            "tags": []
          },
          "execution_count": 39
        },
        {
          "output_type": "display_data",
          "data": {
            "image/png": "[encoded data removed]",
            "text/plain": [
              "<Figure size 720x504 with 1 Axes>"
            ]
          },
          "metadata": {
            "tags": []
          }
        }
      ]
    },
    {
      "cell_type": "code",
      "metadata": {
        "colab": {
          "base_uri": "https://localhost:8080/",
          "height": 402
        },
        "id": "o2bIZibqL4Zz",
        "outputId": "25e269df-80eb-47cf-83d4-6eb44aa3378c"
      },
      "source": [
        "data_train"
      ],
      "execution_count": 74,
      "outputs": [
        {
          "output_type": "execute_result",
          "data": {
            "text/html": [
              "<div>\n",
              "<style scoped>\n",
              "    .dataframe tbody tr th:only-of-type {\n",
              "        vertical-align: middle;\n",
              "    }\n",
              "\n",
              "    .dataframe tbody tr th {\n",
              "        vertical-align: top;\n",
              "    }\n",
              "\n",
              "    .dataframe thead th {\n",
              "        text-align: right;\n",
              "    }\n",
              "</style>\n",
              "<table border=\"1\" class=\"dataframe\">\n",
              "  <thead>\n",
              "    <tr style=\"text-align: right;\">\n",
              "      <th></th>\n",
              "      <th>ID</th>\n",
              "      <th>Gender</th>\n",
              "      <th>Ever_Married</th>\n",
              "      <th>Age</th>\n",
              "      <th>Graduated</th>\n",
              "      <th>Profession</th>\n",
              "      <th>Work_Experience</th>\n",
              "      <th>Spending_Score</th>\n",
              "      <th>Family_Size</th>\n",
              "      <th>Var_1</th>\n",
              "      <th>Segmentation</th>\n",
              "    </tr>\n",
              "  </thead>\n",
              "  <tbody>\n",
              "    <tr>\n",
              "      <th>0</th>\n",
              "      <td>462809</td>\n",
              "      <td>Male</td>\n",
              "      <td>No</td>\n",
              "      <td>22</td>\n",
              "      <td>No</td>\n",
              "      <td>Healthcare</td>\n",
              "      <td>1.0</td>\n",
              "      <td>Low</td>\n",
              "      <td>4.0</td>\n",
              "      <td>Cat_4</td>\n",
              "      <td>D</td>\n",
              "    </tr>\n",
              "    <tr>\n",
              "      <th>1</th>\n",
              "      <td>462643</td>\n",
              "      <td>Female</td>\n",
              "      <td>Yes</td>\n",
              "      <td>38</td>\n",
              "      <td>Yes</td>\n",
              "      <td>Engineer</td>\n",
              "      <td>NaN</td>\n",
              "      <td>Average</td>\n",
              "      <td>3.0</td>\n",
              "      <td>Cat_4</td>\n",
              "      <td>A</td>\n",
              "    </tr>\n",
              "    <tr>\n",
              "      <th>2</th>\n",
              "      <td>466315</td>\n",
              "      <td>Female</td>\n",
              "      <td>Yes</td>\n",
              "      <td>67</td>\n",
              "      <td>Yes</td>\n",
              "      <td>Engineer</td>\n",
              "      <td>1.0</td>\n",
              "      <td>Low</td>\n",
              "      <td>1.0</td>\n",
              "      <td>Cat_6</td>\n",
              "      <td>B</td>\n",
              "    </tr>\n",
              "    <tr>\n",
              "      <th>3</th>\n",
              "      <td>461735</td>\n",
              "      <td>Male</td>\n",
              "      <td>Yes</td>\n",
              "      <td>67</td>\n",
              "      <td>Yes</td>\n",
              "      <td>Lawyer</td>\n",
              "      <td>0.0</td>\n",
              "      <td>High</td>\n",
              "      <td>2.0</td>\n",
              "      <td>Cat_6</td>\n",
              "      <td>B</td>\n",
              "    </tr>\n",
              "    <tr>\n",
              "      <th>4</th>\n",
              "      <td>462669</td>\n",
              "      <td>Female</td>\n",
              "      <td>Yes</td>\n",
              "      <td>40</td>\n",
              "      <td>Yes</td>\n",
              "      <td>Entertainment</td>\n",
              "      <td>NaN</td>\n",
              "      <td>High</td>\n",
              "      <td>6.0</td>\n",
              "      <td>Cat_6</td>\n",
              "      <td>A</td>\n",
              "    </tr>\n",
              "    <tr>\n",
              "      <th>...</th>\n",
              "      <td>...</td>\n",
              "      <td>...</td>\n",
              "      <td>...</td>\n",
              "      <td>...</td>\n",
              "      <td>...</td>\n",
              "      <td>...</td>\n",
              "      <td>...</td>\n",
              "      <td>...</td>\n",
              "      <td>...</td>\n",
              "      <td>...</td>\n",
              "      <td>...</td>\n",
              "    </tr>\n",
              "    <tr>\n",
              "      <th>8063</th>\n",
              "      <td>464018</td>\n",
              "      <td>Male</td>\n",
              "      <td>No</td>\n",
              "      <td>22</td>\n",
              "      <td>No</td>\n",
              "      <td>NaN</td>\n",
              "      <td>0.0</td>\n",
              "      <td>Low</td>\n",
              "      <td>7.0</td>\n",
              "      <td>Cat_1</td>\n",
              "      <td>D</td>\n",
              "    </tr>\n",
              "    <tr>\n",
              "      <th>8064</th>\n",
              "      <td>464685</td>\n",
              "      <td>Male</td>\n",
              "      <td>No</td>\n",
              "      <td>35</td>\n",
              "      <td>No</td>\n",
              "      <td>Executive</td>\n",
              "      <td>3.0</td>\n",
              "      <td>Low</td>\n",
              "      <td>4.0</td>\n",
              "      <td>Cat_4</td>\n",
              "      <td>D</td>\n",
              "    </tr>\n",
              "    <tr>\n",
              "      <th>8065</th>\n",
              "      <td>465406</td>\n",
              "      <td>Female</td>\n",
              "      <td>No</td>\n",
              "      <td>33</td>\n",
              "      <td>Yes</td>\n",
              "      <td>Healthcare</td>\n",
              "      <td>1.0</td>\n",
              "      <td>Low</td>\n",
              "      <td>1.0</td>\n",
              "      <td>Cat_6</td>\n",
              "      <td>D</td>\n",
              "    </tr>\n",
              "    <tr>\n",
              "      <th>8066</th>\n",
              "      <td>467299</td>\n",
              "      <td>Female</td>\n",
              "      <td>No</td>\n",
              "      <td>27</td>\n",
              "      <td>Yes</td>\n",
              "      <td>Healthcare</td>\n",
              "      <td>1.0</td>\n",
              "      <td>Low</td>\n",
              "      <td>4.0</td>\n",
              "      <td>Cat_6</td>\n",
              "      <td>B</td>\n",
              "    </tr>\n",
              "    <tr>\n",
              "      <th>8067</th>\n",
              "      <td>461879</td>\n",
              "      <td>Male</td>\n",
              "      <td>Yes</td>\n",
              "      <td>37</td>\n",
              "      <td>Yes</td>\n",
              "      <td>Executive</td>\n",
              "      <td>0.0</td>\n",
              "      <td>Average</td>\n",
              "      <td>3.0</td>\n",
              "      <td>Cat_4</td>\n",
              "      <td>B</td>\n",
              "    </tr>\n",
              "  </tbody>\n",
              "</table>\n",
              "<p>8068 rows × 11 columns</p>\n",
              "</div>"
            ],
            "text/plain": [
              "          ID  Gender Ever_Married  ...  Family_Size  Var_1 Segmentation\n",
              "0     462809    Male           No  ...          4.0  Cat_4            D\n",
              "1     462643  Female          Yes  ...          3.0  Cat_4            A\n",
              "2     466315  Female          Yes  ...          1.0  Cat_6            B\n",
              "3     461735    Male          Yes  ...          2.0  Cat_6            B\n",
              "4     462669  Female          Yes  ...          6.0  Cat_6            A\n",
              "...      ...     ...          ...  ...          ...    ...          ...\n",
              "8063  464018    Male           No  ...          7.0  Cat_1            D\n",
              "8064  464685    Male           No  ...          4.0  Cat_4            D\n",
              "8065  465406  Female           No  ...          1.0  Cat_6            D\n",
              "8066  467299  Female           No  ...          4.0  Cat_6            B\n",
              "8067  461879    Male          Yes  ...          3.0  Cat_4            B\n",
              "\n",
              "[8068 rows x 11 columns]"
            ]
          },
          "metadata": {
            "tags": []
          },
          "execution_count": 74
        }
      ]
    },
    {
      "cell_type": "code",
      "metadata": {
        "colab": {
          "base_uri": "https://localhost:8080/",
          "height": 518
        },
        "id": "YQmwK09PLy1W",
        "outputId": "56b1b296-4cb8-4ece-9e12-c103b2b289ab"
      },
      "source": [
        "plt.figure(figsize=(10,7))\n",
        "sns.countplot('Spending_Score', hue='Profession', data=data_train)"
      ],
      "execution_count": 77,
      "outputs": [
        {
          "output_type": "stream",
          "text": [
            "/usr/local/lib/python3.7/dist-packages/seaborn/_decorators.py:43: FutureWarning: Pass the following variable as a keyword arg: x. From version 0.12, the only valid positional argument will be `data`, and passing other arguments without an explicit keyword will result in an error or misinterpretation.\n",
            "  FutureWarning\n"
          ],
          "name": "stderr"
        },
        {
          "output_type": "execute_result",
          "data": {
            "text/plain": [
              "<matplotlib.axes._subplots.AxesSubplot at 0x7f366b567bd0>"
            ]
          },
          "metadata": {
            "tags": []
          },
          "execution_count": 77
        },
        {
          "output_type": "display_data",
          "data": {
            "image/png": "[encoded data removed]",
            "text/plain": [
              "<Figure size 720x504 with 1 Axes>"
            ]
          },
          "metadata": {
            "tags": []
          }
        }
      ]
    },
    {
      "cell_type": "code",
      "metadata": {
        "id": "H0ehwE3WMac1"
      },
      "source": [
        "plt.figure(figsize=(10,7))\n",
        "sns.countplot('Spending_Score', hue='Profession', data=data_train)"
      ],
      "execution_count": null,
      "outputs": []
    },
    {
      "cell_type": "code",
      "metadata": {
        "colab": {
          "base_uri": "https://localhost:8080/",
          "height": 518
        },
        "id": "-YqkUhSdrEI_",
        "outputId": "379c885a-d81c-45fb-fcc8-8fc129712899"
      },
      "source": [
        "plt.figure(figsize=(10,7))\n",
        "sns.countplot('Graduated', hue='Profession', data=data_train)"
      ],
      "execution_count": 78,
      "outputs": [
        {
          "output_type": "stream",
          "text": [
            "/usr/local/lib/python3.7/dist-packages/seaborn/_decorators.py:43: FutureWarning: Pass the following variable as a keyword arg: x. From version 0.12, the only valid positional argument will be `data`, and passing other arguments without an explicit keyword will result in an error or misinterpretation.\n",
            "  FutureWarning\n"
          ],
          "name": "stderr"
        },
        {
          "output_type": "execute_result",
          "data": {
            "text/plain": [
              "<matplotlib.axes._subplots.AxesSubplot at 0x7f366b44e850>"
            ]
          },
          "metadata": {
            "tags": []
          },
          "execution_count": 78
        },
        {
          "output_type": "display_data",
          "data": {
            "image/png": "[encoded data removed]",
            "text/plain": [
              "<Figure size 720x504 with 1 Axes>"
            ]
          },
          "metadata": {
            "tags": []
          }
        }
      ]
    },
    {
      "cell_type": "code",
      "metadata": {
        "id": "hsWQGZaGM8cQ"
      },
      "source": [
        "data_train.drop(['Graduated'],axis=1, inplace=True)\n",
        "data_test.drop(['Graduated'],axis=1, inplace=True)"
      ],
      "execution_count": null,
      "outputs": []
    },
    {
      "cell_type": "code",
      "metadata": {
        "colab": {
          "base_uri": "https://localhost:8080/",
          "height": 518
        },
        "id": "PeZb2gs7m4vq",
        "outputId": "5bc0ce03-8f76-49d3-e540-35f28f65e897"
      },
      "source": [
        "plt.figure(figsize=(10,7))\n",
        "sns.distplot(data_train['Age'], bins=8)"
      ],
      "execution_count": 41,
      "outputs": [
        {
          "output_type": "stream",
          "text": [
            "/usr/local/lib/python3.7/dist-packages/seaborn/distributions.py:2557: FutureWarning: `distplot` is a deprecated function and will be removed in a future version. Please adapt your code to use either `displot` (a figure-level function with similar flexibility) or `histplot` (an axes-level function for histograms).\n",
            "  warnings.warn(msg, FutureWarning)\n"
          ],
          "name": "stderr"
        },
        {
          "output_type": "execute_result",
          "data": {
            "text/plain": [
              "<matplotlib.axes._subplots.AxesSubplot at 0x7f3675e29710>"
            ]
          },
          "metadata": {
            "tags": []
          },
          "execution_count": 41
        },
        {
          "output_type": "display_data",
          "data": {
            "image/png": "[encoded data removed]",
            "text/plain": [
              "<Figure size 720x504 with 1 Axes>"
            ]
          },
          "metadata": {
            "tags": []
          }
        }
      ]
    },
    {
      "cell_type": "code",
      "metadata": {
        "colab": {
          "base_uri": "https://localhost:8080/",
          "height": 518
        },
        "id": "Ofiaj5LgaibC",
        "outputId": "e3cbed26-d4d7-4b3e-e082-62f55fd8b3a0"
      },
      "source": [
        "plt.figure(figsize=(10,7))\n",
        "sns.countplot('Profession', hue='Graduated', data=data_train)"
      ],
      "execution_count": 42,
      "outputs": [
        {
          "output_type": "stream",
          "text": [
            "/usr/local/lib/python3.7/dist-packages/seaborn/_decorators.py:43: FutureWarning: Pass the following variable as a keyword arg: x. From version 0.12, the only valid positional argument will be `data`, and passing other arguments without an explicit keyword will result in an error or misinterpretation.\n",
            "  FutureWarning\n"
          ],
          "name": "stderr"
        },
        {
          "output_type": "execute_result",
          "data": {
            "text/plain": [
              "<matplotlib.axes._subplots.AxesSubplot at 0x7f3675deefd0>"
            ]
          },
          "metadata": {
            "tags": []
          },
          "execution_count": 42
        },
        {
          "output_type": "display_data",
          "data": {
            "image/png": "[encoded data removed]",
            "text/plain": [
              "<Figure size 720x504 with 1 Axes>"
            ]
          },
          "metadata": {
            "tags": []
          }
        }
      ]
    },
    {
      "cell_type": "code",
      "metadata": {
        "id": "D3pgErcjT9Oz"
      },
      "source": [
        "#remove work experience and ID columns\n",
        "data_train.drop(['Work_Experience','ID'],axis=1, inplace=True)\n",
        "data_test.drop(['Work_Experience','ID'],axis=1, inplace=True)"
      ],
      "execution_count": 43,
      "outputs": []
    },
    {
      "cell_type": "code",
      "metadata": {
        "colab": {
          "base_uri": "https://localhost:8080/",
          "height": 730
        },
        "id": "JHlBXK2RmRGS",
        "outputId": "a983aa23-d970-473c-a769-24b7c797ef46"
      },
      "source": [
        "###Chi squared test for assesing relationship between features and target variable \n",
        "from sklearn.preprocessing import KBinsDiscretizer\n",
        "trans = KBinsDiscretizer(n_bins=8, encode='ordinal', strategy='quantile')\n",
        "trans2= KBinsDiscretizer(n_bins=2, encode='ordinal', strategy='quantile')\n",
        "\n",
        "chi_data = data_train.dropna(how='any')\n",
        "x = chi_data.drop(['Segmentation'],axis=1)\n",
        "y = chi_data['Segmentation']\n",
        "x['Age'] = trans.fit_transform(x['Age'].values.reshape(-1,1))\n",
        "x['Family_Size'] = trans2.fit_transform(x['Family_Size'].values.reshape(-1,1))\n",
        "\n",
        "from sklearn.preprocessing import OrdinalEncoder, LabelEncoder\n",
        "#prepare features\n",
        "def prepare_inputs(X):\n",
        "\toe = OrdinalEncoder()\n",
        "\toe.fit(X)\n",
        "\tX_enc = oe.transform(X)\n",
        "\treturn X_enc\n",
        "\n",
        "# prepare target\n",
        "def prepare_targets(y):\n",
        "\tle = LabelEncoder()\n",
        "\tle.fit(y)\n",
        "\ty_enc = le.transform(y)\n",
        "\treturn y_enc\n",
        "\n",
        "x = prepare_inputs(x)\n",
        "y = prepare_targets(y)\n",
        "\n",
        "\n",
        "from sklearn.feature_selection import SelectKBest,chi2\n",
        "fs = SelectKBest(score_func=chi2, k='all')\n",
        "fs.fit(x, y)\n",
        "labels= list(chi_data.drop(['Segmentation'],axis=1).columns)\n",
        "# what are scores for the features\n",
        "for i in range(len(fs.scores_)):\n",
        "\tprint(labels[i], \":\", fs.scores_[i])\n",
        "# plot the scores\n",
        "fig, ax = plt.subplots(figsize=(12,10))\n",
        "ax.bar([i for i in range(len(fs.scores_))], fs.scores_)\n",
        "ax.set_xticks(range(len(labels)))\n",
        "ax.set_xticklabels(labels)\n",
        "plt.show()"
      ],
      "execution_count": 44,
      "outputs": [
        {
          "output_type": "stream",
          "text": [
            "Gender : 6.151749448142619\n",
            "Ever_Married : 538.6725088037484\n",
            "Age : 2287.559684427274\n",
            "Graduated : 362.52765870733566\n",
            "Profession : 2242.598175948434\n",
            "Spending_Score : 739.8335326197881\n",
            "Family_Size : 151.3220450944962\n",
            "Var_1 : 50.91190674980379\n"
          ],
          "name": "stdout"
        },
        {
          "output_type": "display_data",
          "data": {
            "image/png": "[encoded data removed]",
            "text/plain": [
              "<Figure size 864x720 with 1 Axes>"
            ]
          },
          "metadata": {
            "tags": []
          }
        }
      ]
    },
    {
      "cell_type": "code",
      "metadata": {
        "id": "lKJJvJdEa_tz"
      },
      "source": [
        "#replace nans in profession with Not_Specified\n",
        "data_train.loc[data_train['Profession'].isna(),'Profession'] = 'Not_Specified'\n",
        "data_test.loc[data_test['Profession'].isna(),'Profession'] = 'Not_Specified'"
      ],
      "execution_count": 45,
      "outputs": []
    },
    {
      "cell_type": "code",
      "metadata": {
        "id": "1jIiwYxZ_exQ"
      },
      "source": [
        "#family size imputer \n",
        "def  impute_family_size(df, lower_bound_age, upper_bound_age, marriage):\n",
        "  impute_value = round(df[(df['Age'].between(lower_bound_age,upper_bound_age, inclusive=True))&(df['Ever_Married']==marriage)]['Family_Size'].mean())\n",
        "  df.loc[(df['Family_Size'].isna())&(df['Age'].between(lower_bound_age,upper_bound_age, inclusive=True))&(df['Ever_Married']==marriage), 'Family_Size'] = impute_value\n",
        "  return df"
      ],
      "execution_count": 46,
      "outputs": []
    },
    {
      "cell_type": "code",
      "metadata": {
        "id": "kFWYuqSQ_aBl"
      },
      "source": [
        "#for train data\n",
        "impute_family_size(data_train, 18,35,'No')\n",
        "impute_family_size(data_train, 18,35,'Yes')\n",
        "impute_family_size(data_train, 36,55,'No')\n",
        "impute_family_size(data_train, 36,55,'Yes')\n",
        "impute_family_size(data_train, 56,100,'No')\n",
        "impute_family_size(data_train, 56,100,'Yes')\n",
        "\n",
        "#for test data\n",
        "impute_family_size(data_test, 18,35,'No')\n",
        "impute_family_size(data_test, 18,35,'Yes')\n",
        "impute_family_size(data_test, 36,55,'No')\n",
        "impute_family_size(data_test, 36,55,'Yes')\n",
        "impute_family_size(data_test, 56,100,'No')\n",
        "impute_family_size(data_test, 56,100,'Yes')\n",
        "\n"
      ],
      "execution_count": null,
      "outputs": []
    },
    {
      "cell_type": "code",
      "metadata": {
        "id": "M82elvbIEzC3"
      },
      "source": [
        "#filling nans in Var_1 with the most frequent value\n",
        "data_train['Var_1'].fillna(data_train['Var_1'].mode()[0], inplace=True)\n",
        "data_test['Var_1'].fillna(data_train['Var_1'].mode()[0], inplace=True)"
      ],
      "execution_count": 50,
      "outputs": []
    },
    {
      "cell_type": "markdown",
      "metadata": {
        "id": "OOzjTflKFWoJ"
      },
      "source": [
        "Modelling"
      ]
    },
    {
      "cell_type": "code",
      "metadata": {
        "id": "SQ37f16NEzXo"
      },
      "source": [
        "from sklearn.model_selection import train_test_split\n",
        "\n",
        "encoder = LabelEncoder()\n",
        "\n",
        "data_train.dropna(inplace=True)\n",
        "data_test.dropna(inplace=True)\n",
        "\n",
        "X_train= data_train.drop(['Segmentation'],axis=1)\n",
        "X_train = pd.get_dummies(X_train, drop_first=True)\n",
        "y_train= encoder.fit_transform(data_train['Segmentation'])\n",
        "\n",
        "X_test = data_test.drop(['Segmentation'], axis=1)\n",
        "X_test = pd.get_dummies(X_test, drop_first=True)\n",
        "y_test= encoder.transform(data_test['Segmentation'])"
      ],
      "execution_count": 53,
      "outputs": []
    },
    {
      "cell_type": "code",
      "metadata": {
        "id": "y6qlrND-MIR6"
      },
      "source": [
        "### Nested Cross Validation For model selection\n",
        "from sklearn.pipeline import Pipeline\n",
        "from sklearn.model_selection import GridSearchCV\n",
        "from sklearn.model_selection import cross_val_score\n",
        "from sklearn.svm import SVC\n",
        "from sklearn.ensemble import RandomForestClassifier\n",
        "from xgboost import XGBClassifier\n",
        "from sklearn.preprocessing import MinMaxScaler\n",
        "from sklearn.model_selection import KFold\n",
        "from sklearn.metrics import classification_report, confusion_matrix\n",
        "scaler=MinMaxScaler()\n",
        "rf = RandomForestClassifier(random_state=33)\n",
        "svm = SVC(random_state=33)\n",
        "xg = XGBClassifier(random_state=33)\n",
        "cv_inner = KFold(n_splits=3, shuffle=True, random_state=33)\n",
        "cv_outer = KFold(n_splits=5, shuffle=True, random_state=55)"
      ],
      "execution_count": 70,
      "outputs": []
    },
    {
      "cell_type": "code",
      "metadata": {
        "colab": {
          "base_uri": "https://localhost:8080/"
        },
        "id": "dK2smKLcMQS1",
        "outputId": "298a2bff-c95d-4ec4-8851-9696072abbcc"
      },
      "source": [
        "#Support Vector Machine\n",
        "pipe_svm = Pipeline(steps=[('scaler',scaler),('SVM',svm)])\n",
        "param_grid_svm = {'SVM__C': [0.1, 1, 10, 100, 1000],  \n",
        "              'SVM__gamma': [1, 0.1, 0.01, 0.001], \n",
        "              'SVM__kernel': ['rbf']}\n",
        "grid_svm = GridSearchCV(pipe_svm, param_grid_svm, scoring='accuracy', n_jobs=-1,cv=cv_inner)\n",
        "scores_svm = cross_val_score(grid_svm, X_train, y_train, scoring='accuracy', cv=cv_outer)\n",
        "print(scores_svm)\n",
        "print(np.mean(scores_svm), np.std(scores_svm))"
      ],
      "execution_count": 56,
      "outputs": [
        {
          "output_type": "stream",
          "text": [
            "[0.49117276 0.5220681  0.5220681  0.4977918  0.49968454]\n",
            "0.5065570588071494 0.012976304654942202\n"
          ],
          "name": "stdout"
        }
      ]
    },
    {
      "cell_type": "code",
      "metadata": {
        "colab": {
          "base_uri": "https://localhost:8080/"
        },
        "id": "sZFHiba4Ys4i",
        "outputId": "19e39164-cfaf-460a-ec21-fccda0c07f88"
      },
      "source": [
        "#Random Forest\n",
        "pipe_rf = Pipeline(steps=[('scaler',scaler),('RF',rf)])\n",
        "param_grid_rf = {'RF__max_depth': [4,6,8],  \n",
        "              'RF__max_features': [0.6, 0.8], \n",
        "              'RF__min_samples_split': [20,40,60],\n",
        "              'RF__n_estimators': [100,250,500]}\n",
        "grid_rf = GridSearchCV(pipe_rf, param_grid_rf, scoring='accuracy', n_jobs=-1,cv=cv_inner)\n",
        "scores_rf = cross_val_score(grid_rf, X_train, y_train, scoring='accuracy', cv=cv_outer)\n",
        "print(scores_rf)\n",
        "print(np.mean(scores_rf), np.std(scores_rf))\n"
      ],
      "execution_count": 57,
      "outputs": [
        {
          "output_type": "stream",
          "text": [
            "[0.51008827 0.53972257 0.52459016 0.48706625 0.51419558]\n",
            "0.5151325676960471 0.01736753136225997\n"
          ],
          "name": "stdout"
        }
      ]
    },
    {
      "cell_type": "code",
      "metadata": {
        "colab": {
          "base_uri": "https://localhost:8080/"
        },
        "id": "GNu5L--JhA1U",
        "outputId": "10dcd5b7-0f0c-4db6-f6ad-ea5eeb97d3e0"
      },
      "source": [
        "#XGBoost\n",
        "pipe_xg = Pipeline(steps=[('scaler',scaler),('XG',xg)])\n",
        "param_grid_xg = {'XG__max_depth': [4,6,8],  \n",
        "              'XG__learning_rate': [0.01, 0.05, 0.1], \n",
        "              'XG__colsample_bytree': [0.8],\n",
        "              'XG__subsample': [0.8],\n",
        "              'XG__min_child_weight': [0.5,1,5],\n",
        "              'XG__min_samples_split': [20,40,60]}\n",
        "grid_xg = GridSearchCV(pipe_xg, param_grid_xg, scoring='accuracy', n_jobs=-1,cv=cv_inner)\n",
        "scores_xg = cross_val_score(grid_xg, X_train, y_train, scoring='accuracy', cv=cv_outer)\n",
        "print(scores_xg)\n",
        "print(np.mean(scores_xg), np.std(scores_xg))"
      ],
      "execution_count": 58,
      "outputs": [
        {
          "output_type": "stream",
          "text": [
            "[0.52080706 0.54539723 0.53783102 0.50662461 0.52933754]\n",
            "0.5279994908127503 0.013488864284042352\n"
          ],
          "name": "stdout"
        }
      ]
    },
    {
      "cell_type": "code",
      "metadata": {
        "id": "Z3TEvDFo2BFo"
      },
      "source": [
        "#building model with the most related features\n",
        "X_reduced= data_train[['Age','Profession','Spending_Score','Ever_Married']]\n",
        "X_reduced = pd.get_dummies(X_reduced, drop_first=True)"
      ],
      "execution_count": 59,
      "outputs": []
    },
    {
      "cell_type": "code",
      "metadata": {
        "colab": {
          "base_uri": "https://localhost:8080/"
        },
        "id": "Rvg8nbyHcsYv",
        "outputId": "4a5617de-600d-4cbf-cbec-700dbfe70905"
      },
      "source": [
        "#Support Vector Machine\n",
        "pipe_svm = Pipeline(steps=[('scaler',scaler),('SVM',svm)])\n",
        "param_grid_svm = {'SVM__C': [0.1, 1, 10, 100, 1000],  \n",
        "              'SVM__gamma': [1, 0.1, 0.01, 0.001], \n",
        "              'SVM__kernel': ['rbf']}\n",
        "grid_svm = GridSearchCV(pipe_svm, param_grid_svm, scoring='accuracy', n_jobs=-1,cv=cv_inner)\n",
        "scores_svm = cross_val_score(grid_svm, X_reduced, y_train, scoring='accuracy', cv=cv_outer)\n",
        "print(scores_svm)\n",
        "print(np.mean(scores_svm), np.std(scores_svm))\n"
      ],
      "execution_count": 60,
      "outputs": [
        {
          "output_type": "stream",
          "text": [
            "[0.5037831  0.52837327 0.53026482 0.50725552 0.49652997]\n",
            "0.5132413348661992 0.013589203055582113\n"
          ],
          "name": "stdout"
        }
      ]
    },
    {
      "cell_type": "code",
      "metadata": {
        "id": "BLUWDkjEdiSf",
        "colab": {
          "base_uri": "https://localhost:8080/"
        },
        "outputId": "a5269e4e-21ce-4b67-dce9-98abffc094b1"
      },
      "source": [
        "#Random Forest\n",
        "pipe_rf = Pipeline(steps=[('scaler',scaler),('RF',rf)])\n",
        "param_grid_rf = {'RF__max_depth': [4,6,8],  \n",
        "              'RF__max_features': [0.6, 0.8], \n",
        "              'RF__min_samples_split': [20,40,60],\n",
        "              'RF__n_estimators': [100,250,500]}\n",
        "grid_rf = GridSearchCV(pipe_rf, param_grid_rf, scoring='accuracy', n_jobs=-1,cv=cv_inner)\n",
        "scores_rf = cross_val_score(grid_rf, X_reduced, y_train, scoring='accuracy', cv=cv_outer)\n",
        "print(scores_rf)\n",
        "print(np.mean(scores_rf), np.std(scores_rf))\n"
      ],
      "execution_count": 62,
      "outputs": [
        {
          "output_type": "stream",
          "text": [
            "[0.51261034 0.52522068 0.51576293 0.48580442 0.50851735]\n",
            "0.5095831427196169 0.0131030529562308\n"
          ],
          "name": "stdout"
        }
      ]
    },
    {
      "cell_type": "code",
      "metadata": {
        "id": "Pyf91k5fdsRz",
        "colab": {
          "base_uri": "https://localhost:8080/"
        },
        "outputId": "e5ff86f8-bb15-41e7-e6d3-6db6a3612f6e"
      },
      "source": [
        "#XGBoost\n",
        "pipe_xg = Pipeline(steps=[('scaler',scaler),('XG',xg)])\n",
        "param_grid_xg = {'XG__max_depth': [4,6,8],  \n",
        "              'XG__learning_rate': [0.01, 0.05, 0.1], \n",
        "              'XG__colsample_bytree': [0.8],\n",
        "              'XG__subsample': [0.8],\n",
        "              'XG__min_child_weight': [0.5,1,5],\n",
        "              'XG__min_samples_split': [20,40,60]}\n",
        "grid_xg = GridSearchCV(pipe_xg, param_grid_xg, scoring='accuracy', n_jobs=-1,cv=cv_inner)\n",
        "scores_xg = cross_val_score(grid_xg, X_reduced, y_train, scoring='accuracy', cv=cv_outer)\n",
        "print(scores_xg)\n",
        "print(np.mean(scores_xg), np.std(scores_xg))"
      ],
      "execution_count": 63,
      "outputs": [
        {
          "output_type": "stream",
          "text": [
            "[0.51008827 0.52774275 0.51702396 0.50031546 0.51419558]\n",
            "0.5138732044187906 0.008950236528885611\n"
          ],
          "name": "stdout"
        }
      ]
    },
    {
      "cell_type": "code",
      "metadata": {
        "id": "OQWgmlivh2Nj",
        "colab": {
          "base_uri": "https://localhost:8080/"
        },
        "outputId": "52eeb3c5-545c-4c94-b28c-215e81bf8795"
      },
      "source": [
        "#Final training with the best model\n",
        "pipe_xg = Pipeline(steps=[('scaler',scaler),('XG',xg)])\n",
        "param_grid_xg = {'XG__max_depth': [4,6,8],  \n",
        "              'XG__learning_rate': [0.01, 0.05, 0.1], \n",
        "              'XG__colsample_bytree': [0.8],\n",
        "              'XG__subsample': [0.8],\n",
        "              'XG__min_child_weight': [0.5,1,5],\n",
        "              'XG__min_samples_split': [20,40,60]}\n",
        "grid_xg = GridSearchCV(pipe_xg, param_grid_xg, scoring='accuracy', n_jobs=-1,cv=cv_outer)\n",
        "grid_xg.fit(X_train,y_train)"
      ],
      "execution_count": 65,
      "outputs": [
        {
          "output_type": "execute_result",
          "data": {
            "text/plain": [
              "GridSearchCV(cv=KFold(n_splits=5, random_state=55, shuffle=True),\n",
              "             error_score=nan,\n",
              "             estimator=Pipeline(memory=None,\n",
              "                                steps=[('scaler',\n",
              "                                        MinMaxScaler(copy=True,\n",
              "                                                     feature_range=(0, 1))),\n",
              "                                       ('XG',\n",
              "                                        XGBClassifier(base_score=0.5,\n",
              "                                                      booster='gbtree',\n",
              "                                                      colsample_bylevel=1,\n",
              "                                                      colsample_bynode=1,\n",
              "                                                      colsample_bytree=1,\n",
              "                                                      gamma=0,\n",
              "                                                      learning_rate=0.1,\n",
              "                                                      max_delta_step=0,\n",
              "                                                      max_depth=3,\n",
              "                                                      min_child_wei...\n",
              "                                                      subsample=1,\n",
              "                                                      verbosity=1))],\n",
              "                                verbose=False),\n",
              "             iid='deprecated', n_jobs=-1,\n",
              "             param_grid={'XG__colsample_bytree': [0.8],\n",
              "                         'XG__learning_rate': [0.01, 0.05, 0.1],\n",
              "                         'XG__max_depth': [4, 6, 8],\n",
              "                         'XG__min_child_weight': [0.5, 1, 5],\n",
              "                         'XG__min_samples_split': [20, 40, 60],\n",
              "                         'XG__subsample': [0.8]},\n",
              "             pre_dispatch='2*n_jobs', refit=True, return_train_score=False,\n",
              "             scoring='accuracy', verbose=0)"
            ]
          },
          "metadata": {
            "tags": []
          },
          "execution_count": 65
        }
      ]
    },
    {
      "cell_type": "code",
      "metadata": {
        "colab": {
          "base_uri": "https://localhost:8080/"
        },
        "id": "l3f4s5epxZi-",
        "outputId": "8f34b59f-199e-4630-ac4a-feb60902f4bb"
      },
      "source": [
        "grid_xg.best_params_"
      ],
      "execution_count": 66,
      "outputs": [
        {
          "output_type": "execute_result",
          "data": {
            "text/plain": [
              "{'XG__colsample_bytree': 0.8,\n",
              " 'XG__learning_rate': 0.1,\n",
              " 'XG__max_depth': 4,\n",
              " 'XG__min_child_weight': 5,\n",
              " 'XG__min_samples_split': 20,\n",
              " 'XG__subsample': 0.8}"
            ]
          },
          "metadata": {
            "tags": []
          },
          "execution_count": 66
        }
      ]
    },
    {
      "cell_type": "code",
      "metadata": {
        "colab": {
          "base_uri": "https://localhost:8080/"
        },
        "id": "smF5w5NQvPag",
        "outputId": "72af4ab6-fa45-4d24-9492-f41f7d9dab6f"
      },
      "source": [
        "pipe_xg_final = Pipeline(steps=[('scaler',scaler),('XG',XGBClassifier(colsample_bytree= 0.8, learning_rate=0.1, max_depth=4, min_child_weight=5, min_samples_split=20, subsample=0.8, random_state=33))])\n",
        "pipe_xg_final.fit(X_train,y_train)\n",
        "preds = pipe_xg_final.predict(X_test)\n",
        "print(classification_report(y_test, preds))"
      ],
      "execution_count": 69,
      "outputs": [
        {
          "output_type": "stream",
          "text": [
            "              precision    recall  f1-score   support\n",
            "\n",
            "           0       0.37      0.31      0.33       821\n",
            "           1       0.26      0.20      0.23       543\n",
            "           2       0.26      0.36      0.30       466\n",
            "           3       0.43      0.48      0.45       747\n",
            "\n",
            "    accuracy                           0.34      2577\n",
            "   macro avg       0.33      0.34      0.33      2577\n",
            "weighted avg       0.34      0.34      0.34      2577\n",
            "\n"
          ],
          "name": "stdout"
        }
      ]
    },
    {
      "cell_type": "code",
      "metadata": {
        "colab": {
          "base_uri": "https://localhost:8080/"
        },
        "id": "qpfQyXUS-KGR",
        "outputId": "f659c935-c40b-404a-b657-b4992e0f6390"
      },
      "source": [
        "print(confusion_matrix(y_test, preds))"
      ],
      "execution_count": 71,
      "outputs": [
        {
          "output_type": "stream",
          "text": [
            "[[253 124 188 256]\n",
            " [148 109 150 136]\n",
            " [123  99 166  78]\n",
            " [169  84 138 356]]\n"
          ],
          "name": "stdout"
        }
      ]
    },
    {
      "cell_type": "code",
      "metadata": {
        "id": "VVztVJGj0VZG"
      },
      "source": [
        ""
      ],
      "execution_count": null,
      "outputs": []
    }
  ]
}