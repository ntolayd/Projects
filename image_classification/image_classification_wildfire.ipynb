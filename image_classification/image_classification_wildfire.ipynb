{
  "nbformat": 4,
  "nbformat_minor": 0,
  "metadata": {
    "accelerator": "GPU",
    "colab": {
      "name": "forestfire.ipynb",
      "provenance": [],
      "collapsed_sections": [],
      "authorship_tag": "ABX9TyOfiXp4HSZNATiJ7gtVgX7h",
      "include_colab_link": true
    },
    "kernelspec": {
      "display_name": "Python 3",
      "name": "python3"
    }
  },
  "cells": [
    {
      "cell_type": "markdown",
      "metadata": {
        "id": "view-in-github",
        "colab_type": "text"
      },
      "source": [
        "<a href=\"https://colab.research.google.com/github/ntolayd/Projects/blob/main/image_classification/image_classification_wildfire.ipynb\" target=\"_parent\"><img src=\"https://colab.research.google.com/assets/colab-badge.svg\" alt=\"Open In Colab\"/></a>"
      ]
    },
    {
      "cell_type": "code",
      "metadata": {
        "id": "RfDRLrZGXPB7"
      },
      "source": [
        "#!rm -rf Validation"
      ],
      "execution_count": 1,
      "outputs": []
    },
    {
      "cell_type": "code",
      "metadata": {
        "colab": {
          "base_uri": "https://localhost:8080/"
        },
        "id": "9EhLGDVxvawB",
        "outputId": "171ffe48-4a41-4dbc-d0bb-1074267f3644"
      },
      "source": [
        "from google.colab import drive\n",
        "drive.mount('/content/gdrive')"
      ],
      "execution_count": 2,
      "outputs": [
        {
          "output_type": "stream",
          "text": [
            "Drive already mounted at /content/gdrive; to attempt to forcibly remount, call drive.mount(\"/content/gdrive\", force_remount=True).\n"
          ],
          "name": "stdout"
        }
      ]
    },
    {
      "cell_type": "code",
      "metadata": {
        "id": "YDHeK9qnvdD8"
      },
      "source": [
        "!unzip \"/content/gdrive/My Drive/Test.zip\"\n",
        "!unzip \"/content/gdrive/My Drive/Training.zip\""
      ],
      "execution_count": null,
      "outputs": []
    },
    {
      "cell_type": "code",
      "metadata": {
        "id": "iLVyF4nXSvoW"
      },
      "source": [
        "import os \n",
        "import random\n",
        "import shutil"
      ],
      "execution_count": 3,
      "outputs": []
    },
    {
      "cell_type": "code",
      "metadata": {
        "id": "MK29LTT7t91W"
      },
      "source": [
        "os.mkdir('Validation')\n",
        "os.mkdir('Validation/Fire')\n",
        "os.mkdir('Validation/No_Fire')"
      ],
      "execution_count": 4,
      "outputs": []
    },
    {
      "cell_type": "code",
      "metadata": {
        "colab": {
          "base_uri": "https://localhost:8080/"
        },
        "id": "U75gvxH8BPKj",
        "outputId": "81c21260-1fba-49a8-9bf1-2d5f1b676377"
      },
      "source": [
        "len(os.listdir('Training/No_Fire'))"
      ],
      "execution_count": 5,
      "outputs": [
        {
          "output_type": "execute_result",
          "data": {
            "text/plain": [
              "14357"
            ]
          },
          "metadata": {
            "tags": []
          },
          "execution_count": 5
        }
      ]
    },
    {
      "cell_type": "code",
      "metadata": {
        "id": "R5UWXTtIRrKI"
      },
      "source": [
        "#Creating validation folder and moving randomly selected images from traning folder to validation folder\n",
        "source = 'Training/Fire'\n",
        "dest = 'Validation/Fire'\n",
        "files = os.listdir(source)\n",
        "no_of_files = len(files) // 6\n",
        "\n",
        "for file_name in random.sample(files, no_of_files):\n",
        "    shutil.move(os.path.join(source, file_name), dest)\n"
      ],
      "execution_count": 6,
      "outputs": []
    },
    {
      "cell_type": "code",
      "metadata": {
        "id": "v3huqs0vR-LV"
      },
      "source": [
        "#Creating validation folder and moving randomly selected images from traning folder to validation folder\n",
        "source = 'Training/No_Fire'\n",
        "dest = 'Validation/No_Fire'\n",
        "files = os.listdir(source)\n",
        "no_of_files = len(files) // 6\n",
        "\n",
        "for file_name in random.sample(files, no_of_files):\n",
        "    shutil.move(os.path.join(source, file_name), dest)\n"
      ],
      "execution_count": 7,
      "outputs": []
    },
    {
      "cell_type": "code",
      "metadata": {
        "id": "ZH4UIILyy1D9"
      },
      "source": [
        "import numpy as np\n",
        "from tqdm import tqdm\n",
        "from random import shuffle\n",
        "import cv2\n",
        "import os \n",
        "from tensorflow.keras.preprocessing.image import ImageDataGenerator\n",
        "import tensorflow as tf\n",
        "import matplotlib.pyplot as plt\n",
        "import pandas as pd\n",
        "from keras.models import Sequential\n",
        "from keras.layers import GlobalAveragePooling2D, Flatten, Conv2D, MaxPooling2D\n",
        "from keras.layers import Dropout\n",
        "from keras.layers import Dense\n",
        "from keras.optimizers import Adam, RMSprop\n",
        "from sklearn.metrics import classification_report"
      ],
      "execution_count": 8,
      "outputs": []
    },
    {
      "cell_type": "code",
      "metadata": {
        "id": "IivF0Q3hxFQl"
      },
      "source": [
        "Train_fire_dir = 'Training/Fire'\n",
        "Train_nofire_dir = 'Training/No_Fire'\n",
        "Validation_fire_dir ='Validation/Fire'\n",
        "Validation_no_fire_dir ='Validation/No_Fire'\n",
        "Test_fire_dir = 'Test/Fire'\n",
        "Test_nofire_dir = 'Test/No_Fire'\n",
        "Train_path = 'Training'\n",
        "Test_path = 'Test'\n",
        "Validation_path ='Validation'"
      ],
      "execution_count": 9,
      "outputs": []
    },
    {
      "cell_type": "code",
      "metadata": {
        "colab": {
          "base_uri": "https://localhost:8080/"
        },
        "id": "cUNZMATZRfxu",
        "outputId": "de7b90a3-c6cc-4b76-c697-f677ccadc870"
      },
      "source": [
        "train_datagen = ImageDataGenerator(rescale=1./255,\n",
        "                                   rotation_range=15,\n",
        "                                   horizontal_flip=True,\n",
        "                                   vertical_flip=True,\n",
        "                                   #width_shift_range=0.1,\n",
        "                                   #height_shift_range=0.1,\n",
        "                                   #fill_mode='reflect',\n",
        "                                   #zoom_range=0.1\n",
        "                                   )\n",
        "\n",
        "validation_datagen = ImageDataGenerator(rescale=1./255)\n",
        "\n",
        "test_datagen = ImageDataGenerator(rescale=1./255)\n",
        "\n",
        "train_generator = train_datagen.flow_from_directory(\n",
        "    Train_path,\n",
        "    target_size=(254, 254),\n",
        "    batch_size=32,\n",
        "    color_mode='rgb',\n",
        "    class_mode='binary',\n",
        "    shuffle=True) # set as training data\n",
        "\n",
        "validation_generator = validation_datagen.flow_from_directory(\n",
        "    Validation_path, \n",
        "    target_size=(254, 254),\n",
        "    color_mode='rgb',\n",
        "    batch_size=32,\n",
        "    class_mode='binary', shuffle=False) # set as validation data\n",
        "\n",
        "test_generator = test_datagen.flow_from_directory(\n",
        "        Test_path,\n",
        "        target_size=(254, 254),\n",
        "        color_mode='rgb',\n",
        "        batch_size=1,\n",
        "        class_mode='binary', shuffle=False)"
      ],
      "execution_count": 10,
      "outputs": [
        {
          "output_type": "stream",
          "text": [
            "Found 32814 images belonging to 2 classes.\n",
            "Found 6561 images belonging to 2 classes.\n",
            "Found 8617 images belonging to 2 classes.\n"
          ],
          "name": "stdout"
        }
      ]
    },
    {
      "cell_type": "code",
      "metadata": {
        "colab": {
          "base_uri": "https://localhost:8080/"
        },
        "id": "mVluLnzGC2vK",
        "outputId": "66ca2d6f-5cdd-4530-b896-1d35b9c9ddc0"
      },
      "source": [
        "train_generator.class_indices"
      ],
      "execution_count": 15,
      "outputs": [
        {
          "output_type": "execute_result",
          "data": {
            "text/plain": [
              "{'Fire': 0, 'No_Fire': 1}"
            ]
          },
          "metadata": {
            "tags": []
          },
          "execution_count": 15
        }
      ]
    },
    {
      "cell_type": "markdown",
      "metadata": {
        "id": "9KzWaInh7XbN"
      },
      "source": [
        "**Xception**"
      ]
    },
    {
      "cell_type": "code",
      "metadata": {
        "colab": {
          "base_uri": "https://localhost:8080/"
        },
        "id": "95eWg9i1kRFe",
        "outputId": "7c83cec0-69ed-419a-e607-2377248b9296"
      },
      "source": [
        "from keras.applications import Xception\n",
        "\n",
        "\n",
        "xcep = Xception(\n",
        "    include_top=False,\n",
        "    input_shape=(254,254,3))\n",
        "model = Sequential()\n",
        "model.add(xcep)\n",
        "model.add(GlobalAveragePooling2D())\n",
        "model.add(Dropout(0.5))\n",
        "model.add(Dense(1, activation='sigmoid'))\n"
      ],
      "execution_count": null,
      "outputs": [
        {
          "output_type": "stream",
          "text": [
            "Downloading data from https://storage.googleapis.com/tensorflow/keras-applications/xception/xception_weights_tf_dim_ordering_tf_kernels_notop.h5\n",
            "83689472/83683744 [==============================] - 1s 0us/step\n"
          ],
          "name": "stdout"
        }
      ]
    },
    {
      "cell_type": "code",
      "metadata": {
        "id": "nQhHvf6ckQ-9"
      },
      "source": [
        "model.compile(loss='binary_crossentropy',\n",
        "              optimizer=Adam(lr=0.00005),\n",
        "              metrics=['accuracy'])"
      ],
      "execution_count": null,
      "outputs": []
    },
    {
      "cell_type": "code",
      "metadata": {
        "colab": {
          "base_uri": "https://localhost:8080/"
        },
        "id": "JSbNCvvHkQ26",
        "outputId": "c3ffaf57-2c84-4721-d576-26263276c36a"
      },
      "source": [
        "history = model.fit(\n",
        "          train_generator,\n",
        "          steps_per_epoch = train_generator.samples // 32,\n",
        "          validation_data = validation_generator,\n",
        "          epochs = 6)"
      ],
      "execution_count": null,
      "outputs": [
        {
          "output_type": "stream",
          "text": [
            "Epoch 1/6\n",
            "984/984 [==============================] - 805s 814ms/step - loss: 0.0823 - accuracy: 0.9712 - val_loss: 0.0022 - val_accuracy: 0.9994\n",
            "Epoch 2/6\n",
            "984/984 [==============================] - 802s 815ms/step - loss: 0.0061 - accuracy: 0.9985 - val_loss: 0.0021 - val_accuracy: 0.9996\n",
            "Epoch 3/6\n",
            "984/984 [==============================] - 803s 816ms/step - loss: 0.0035 - accuracy: 0.9989 - val_loss: 0.0022 - val_accuracy: 0.9995\n",
            "Epoch 4/6\n",
            "984/984 [==============================] - 803s 816ms/step - loss: 0.0027 - accuracy: 0.9990 - val_loss: 0.0030 - val_accuracy: 0.9989\n",
            "Epoch 5/6\n",
            "984/984 [==============================] - 802s 814ms/step - loss: 0.0025 - accuracy: 0.9992 - val_loss: 0.0015 - val_accuracy: 0.9994\n",
            "Epoch 6/6\n",
            "984/984 [==============================] - 802s 815ms/step - loss: 0.0023 - accuracy: 0.9993 - val_loss: 0.0017 - val_accuracy: 0.9995\n"
          ],
          "name": "stdout"
        }
      ]
    },
    {
      "cell_type": "code",
      "metadata": {
        "id": "yLHJfbkckQjq"
      },
      "source": [
        "predictions = model.predict(test_generator)\n"
      ],
      "execution_count": null,
      "outputs": []
    },
    {
      "cell_type": "code",
      "metadata": {
        "colab": {
          "base_uri": "https://localhost:8080/"
        },
        "id": "Tl9sfA5Fkdv6",
        "outputId": "d610411d-7d05-43c0-e753-6c366e280537"
      },
      "source": [
        "\n",
        "test_labels=test_generator.classes \n",
        "\n",
        "y_pred = [1 * (x[0]>=0.5) for x in predictions]\n",
        "\n",
        "print(classification_report(test_labels, y_pred))"
      ],
      "execution_count": null,
      "outputs": [
        {
          "output_type": "stream",
          "text": [
            "              precision    recall  f1-score   support\n",
            "\n",
            "           0       0.94      0.79      0.86      5137\n",
            "           1       0.75      0.93      0.83      3480\n",
            "\n",
            "    accuracy                           0.84      8617\n",
            "   macro avg       0.84      0.86      0.84      8617\n",
            "weighted avg       0.86      0.84      0.84      8617\n",
            "\n"
          ],
          "name": "stdout"
        }
      ]
    },
    {
      "cell_type": "code",
      "metadata": {
        "colab": {
          "base_uri": "https://localhost:8080/",
          "height": 295
        },
        "id": "vmEHAVTOkgYX",
        "outputId": "7be3c4f2-7e1d-42e6-a5d3-ddc11c05501e"
      },
      "source": [
        "# summarize history for loss\n",
        "plt.plot(history.history['loss'])\n",
        "plt.plot(history.history['val_loss'])\n",
        "plt.title('model loss')\n",
        "plt.ylabel('loss')\n",
        "plt.xlabel('epoch')\n",
        "plt.legend(['train', 'validation'], loc='upper left')\n",
        "plt.show()"
      ],
      "execution_count": null,
      "outputs": [
        {
          "output_type": "display_data",
          "data": {
            "image/png": "[encoded data removed]",
            "text/plain": [
              "<Figure size 432x288 with 1 Axes>"
            ]
          },
          "metadata": {
            "tags": []
          }
        }
      ]
    },
    {
      "cell_type": "code",
      "metadata": {
        "colab": {
          "base_uri": "https://localhost:8080/",
          "height": 295
        },
        "id": "773qTh8vkgU9",
        "outputId": "3f121283-e7ca-4b27-bc7d-e7b92d3e97f4"
      },
      "source": [
        "# summarize history for accuracy\n",
        "plt.plot(history.history['accuracy'])\n",
        "plt.plot(history.history['val_accuracy'])\n",
        "plt.title('model accuracy')\n",
        "plt.ylabel('accuracy')\n",
        "plt.xlabel('epoch')\n",
        "plt.legend(['train', 'validation'], loc='upper left')\n",
        "plt.show()\n"
      ],
      "execution_count": null,
      "outputs": [
        {
          "output_type": "display_data",
          "data": {
            "image/png": "[encoded data removed]",
            "text/plain": [
              "<Figure size 432x288 with 1 Axes>"
            ]
          },
          "metadata": {
            "tags": []
          }
        }
      ]
    },
    {
      "cell_type": "markdown",
      "metadata": {
        "id": "8lPTHSta7jgJ"
      },
      "source": [
        "**DenseNet**"
      ]
    },
    {
      "cell_type": "code",
      "metadata": {
        "colab": {
          "base_uri": "https://localhost:8080/"
        },
        "id": "OTW6Rbn2Q0-v",
        "outputId": "1e8b7428-4a60-4ae5-de40-a22e04504e10"
      },
      "source": [
        "from keras.applications import DenseNet121\n",
        "densenet_v2 = DenseNet121(\n",
        "    include_top=False,\n",
        "    input_shape=(254,254,3))\n",
        "model = Sequential()\n",
        "model.add(densenet_v2)\n",
        "model.add(GlobalAveragePooling2D())\n",
        "model.add(Dropout(0.5))\n",
        "model.add(Dense(512, activation='relu'))\n",
        "model.add(Dropout(0.4))\n",
        "model.add(Dense(1, activation='sigmoid'))\n",
        "\n",
        "model.compile(loss='binary_crossentropy',\n",
        "              optimizer=Adam(lr=0.00005),\n",
        "              metrics=['accuracy'])"
      ],
      "execution_count": null,
      "outputs": [
        {
          "output_type": "stream",
          "text": [
            "Downloading data from https://storage.googleapis.com/tensorflow/keras-applications/densenet/densenet121_weights_tf_dim_ordering_tf_kernels_notop.h5\n",
            "29089792/29084464 [==============================] - 1s 0us/step\n"
          ],
          "name": "stdout"
        }
      ]
    },
    {
      "cell_type": "code",
      "metadata": {
        "colab": {
          "base_uri": "https://localhost:8080/"
        },
        "id": "gOgOBkpRYR9j",
        "outputId": "0f4df9b2-a7bc-444a-fa88-ac9185b603a6"
      },
      "source": [
        "history = model.fit(\n",
        "          train_generator,\n",
        "          steps_per_epoch = train_generator.samples // 32,\n",
        "          validation_data = validation_generator, \n",
        "          validation_steps = validation_generator.samples // 32,\n",
        "          epochs = 6)"
      ],
      "execution_count": null,
      "outputs": [
        {
          "output_type": "stream",
          "text": [
            "Epoch 1/6\n",
            "984/984 [==============================] - 746s 742ms/step - loss: 0.0626 - accuracy: 0.9764 - val_loss: 0.0041 - val_accuracy: 0.9989\n",
            "Epoch 2/6\n",
            "984/984 [==============================] - 723s 734ms/step - loss: 0.0061 - accuracy: 0.9983 - val_loss: 0.0028 - val_accuracy: 0.9992\n",
            "Epoch 3/6\n",
            "984/984 [==============================] - 723s 735ms/step - loss: 0.0041 - accuracy: 0.9987 - val_loss: 0.0013 - val_accuracy: 0.9995\n",
            "Epoch 4/6\n",
            "984/984 [==============================] - 725s 736ms/step - loss: 0.0039 - accuracy: 0.9987 - val_loss: 0.0395 - val_accuracy: 0.9834\n",
            "Epoch 5/6\n",
            "984/984 [==============================] - 730s 742ms/step - loss: 0.0044 - accuracy: 0.9988 - val_loss: 0.0027 - val_accuracy: 0.9990\n",
            "Epoch 6/6\n",
            "984/984 [==============================] - 738s 750ms/step - loss: 0.0059 - accuracy: 0.9986 - val_loss: 8.8920e-04 - val_accuracy: 0.9997\n"
          ],
          "name": "stdout"
        }
      ]
    },
    {
      "cell_type": "code",
      "metadata": {
        "id": "SvVAl845YUAd"
      },
      "source": [
        "predictions = model.predict(test_generator)"
      ],
      "execution_count": null,
      "outputs": []
    },
    {
      "cell_type": "code",
      "metadata": {
        "colab": {
          "base_uri": "https://localhost:8080/"
        },
        "id": "HduCe0x2Yf8G",
        "outputId": "52d76003-1533-4cab-b95f-6c9a559ac96c"
      },
      "source": [
        "test_labels=test_generator.classes \n",
        "\n",
        "y_pred = [1 * (x[0]>=0.5) for x in predictions]\n",
        "\n",
        "print(classification_report(test_labels, y_pred))"
      ],
      "execution_count": null,
      "outputs": [
        {
          "output_type": "stream",
          "text": [
            "              precision    recall  f1-score   support\n",
            "\n",
            "           0       0.96      0.88      0.92      5137\n",
            "           1       0.85      0.94      0.89      3480\n",
            "\n",
            "    accuracy                           0.91      8617\n",
            "   macro avg       0.90      0.91      0.91      8617\n",
            "weighted avg       0.91      0.91      0.91      8617\n",
            "\n"
          ],
          "name": "stdout"
        }
      ]
    },
    {
      "cell_type": "code",
      "metadata": {
        "colab": {
          "base_uri": "https://localhost:8080/",
          "height": 295
        },
        "id": "FiI8Gva4YiL-",
        "outputId": "1772f4fb-49f3-48f9-8516-ce3140975a2a"
      },
      "source": [
        "# summarize history for loss\n",
        "plt.plot(history.history['loss'])\n",
        "plt.plot(history.history['val_loss'])\n",
        "plt.title('model loss')\n",
        "plt.ylabel('loss')\n",
        "plt.xlabel('epoch')\n",
        "plt.legend(['train', 'validation'], loc='upper left')\n",
        "plt.show()"
      ],
      "execution_count": null,
      "outputs": [
        {
          "output_type": "display_data",
          "data": {
            "image/png": "[encoded data removed]",
            "text/plain": [
              "<Figure size 432x288 with 1 Axes>"
            ]
          },
          "metadata": {
            "tags": []
          }
        }
      ]
    },
    {
      "cell_type": "code",
      "metadata": {
        "colab": {
          "base_uri": "https://localhost:8080/",
          "height": 295
        },
        "id": "tE8vHxqcYj2Q",
        "outputId": "b8aa92de-bfe8-4ef5-8dc3-b541be94221b"
      },
      "source": [
        "# summarize history for accuracy\n",
        "plt.plot(history.history['accuracy'])\n",
        "plt.plot(history.history['val_accuracy'])\n",
        "plt.title('model accuracy')\n",
        "plt.ylabel('accuracy')\n",
        "plt.xlabel('epoch')\n",
        "plt.legend(['train', 'validation'], loc='upper left')\n",
        "plt.show()\n"
      ],
      "execution_count": null,
      "outputs": [
        {
          "output_type": "display_data",
          "data": {
            "image/png": "[encoded data removed]",
            "text/plain": [
              "<Figure size 432x288 with 1 Axes>"
            ]
          },
          "metadata": {
            "tags": []
          }
        }
      ]
    },
    {
      "cell_type": "markdown",
      "metadata": {
        "id": "Ur6ZfHCd74dJ"
      },
      "source": [
        "**VGG16**"
      ]
    },
    {
      "cell_type": "code",
      "metadata": {
        "colab": {
          "base_uri": "https://localhost:8080/"
        },
        "id": "VJzu_InPYlt_",
        "outputId": "b7cbdc01-b624-4ba3-db9e-c08959630211"
      },
      "source": [
        "from keras.applications import VGG16\n",
        "vgg16 = VGG16(\n",
        "    include_top=False,\n",
        "    input_shape=(350,350,3),\n",
        "    classifier_activation=\"sigmoid\")\n",
        "model = Sequential()\n",
        "model.add(vgg16)\n",
        "model.add(GlobalAveragePooling2D())\n",
        "model.add(Dropout(0.5))\n",
        "model.add(Dense(512, activation='relu'))\n",
        "model.add(Dropout(0.5))\n",
        "model.add(Dense(1, activation='sigmoid'))"
      ],
      "execution_count": null,
      "outputs": [
        {
          "output_type": "stream",
          "text": [
            "Downloading data from https://storage.googleapis.com/tensorflow/keras-applications/vgg16/vgg16_weights_tf_dim_ordering_tf_kernels_notop.h5\n",
            "58892288/58889256 [==============================] - 1s 0us/step\n"
          ],
          "name": "stdout"
        }
      ]
    },
    {
      "cell_type": "code",
      "metadata": {
        "id": "maGxbF6VbTdV"
      },
      "source": [
        "model.compile(loss='binary_crossentropy',\n",
        "              optimizer=Adam(lr=0.00004),\n",
        "              metrics=['accuracy'])"
      ],
      "execution_count": null,
      "outputs": []
    },
    {
      "cell_type": "code",
      "metadata": {
        "colab": {
          "base_uri": "https://localhost:8080/"
        },
        "id": "WAO2RoDLbXdq",
        "outputId": "c62a4f4b-7870-489e-82e7-1f6cba64e397"
      },
      "source": [
        "history = model.fit(\n",
        "          train_generator,\n",
        "          steps_per_epoch = train_generator.samples // 16,\n",
        "          validation_data = validation_generator, \n",
        "          validation_steps = validation_generator.samples // 16,\n",
        "          epochs = 6)"
      ],
      "execution_count": null,
      "outputs": [
        {
          "output_type": "stream",
          "text": [
            "Epoch 1/6\n",
            "2050/2050 [==============================] - 2253s 1s/step - loss: 0.1398 - accuracy: 0.9492 - val_loss: 0.0468 - val_accuracy: 0.9806\n",
            "Epoch 2/6\n",
            "2050/2050 [==============================] - 2210s 1s/step - loss: 0.0274 - accuracy: 0.9900 - val_loss: 0.0110 - val_accuracy: 0.9977\n",
            "Epoch 3/6\n",
            "2050/2050 [==============================] - 2195s 1s/step - loss: 0.0163 - accuracy: 0.9949 - val_loss: 0.0126 - val_accuracy: 0.9970\n",
            "Epoch 4/6\n",
            "2050/2050 [==============================] - 2187s 1s/step - loss: 0.0113 - accuracy: 0.9959 - val_loss: 0.0075 - val_accuracy: 0.9976\n",
            "Epoch 5/6\n",
            "2050/2050 [==============================] - 2181s 1s/step - loss: 0.0329 - accuracy: 0.9908 - val_loss: 0.0079 - val_accuracy: 0.9970\n",
            "Epoch 6/6\n",
            "2050/2050 [==============================] - 2183s 1s/step - loss: 0.0120 - accuracy: 0.9967 - val_loss: 0.0055 - val_accuracy: 0.9983\n"
          ],
          "name": "stdout"
        }
      ]
    },
    {
      "cell_type": "code",
      "metadata": {
        "id": "p2vaTvCmbZp3"
      },
      "source": [
        "predictions = model.predict(test_generator)\n"
      ],
      "execution_count": null,
      "outputs": []
    },
    {
      "cell_type": "code",
      "metadata": {
        "colab": {
          "base_uri": "https://localhost:8080/"
        },
        "id": "UmHNo3B8bber",
        "outputId": "4d5f7ea7-41a1-480c-8009-a22b9c79481c"
      },
      "source": [
        "test_labels=test_generator.classes \n",
        "\n",
        "y_pred = [1 * (x[0]>=0.5) for x in predictions]\n",
        "\n",
        "print(classification_report(test_labels, y_pred))"
      ],
      "execution_count": null,
      "outputs": [
        {
          "output_type": "stream",
          "text": [
            "              precision    recall  f1-score   support\n",
            "\n",
            "           0       0.83      0.95      0.89      5137\n",
            "           1       0.90      0.72      0.80      3480\n",
            "\n",
            "    accuracy                           0.85      8617\n",
            "   macro avg       0.87      0.83      0.84      8617\n",
            "weighted avg       0.86      0.85      0.85      8617\n",
            "\n"
          ],
          "name": "stdout"
        }
      ]
    },
    {
      "cell_type": "code",
      "metadata": {
        "colab": {
          "base_uri": "https://localhost:8080/"
        },
        "id": "2Zt0N128bdBA",
        "outputId": "bc9a6c28-eaab-4d39-ea9b-951f682de185"
      },
      "source": [
        "# summarize history for loss\n",
        "plt.plot(history.history['loss'])\n",
        "plt.plot(history.history['val_loss'])\n",
        "plt.title('model loss')\n",
        "plt.ylabel('loss')\n",
        "plt.xlabel('epoch')\n",
        "plt.legend(['train', 'validation'], loc='upper left')\n",
        "plt.show()"
      ],
      "execution_count": null,
      "outputs": [
        {
          "output_type": "display_data",
          "data": {
            "image/png": "[encoded data removed]",
            "text/plain": [
              "<Figure size 432x288 with 1 Axes>"
            ]
          },
          "metadata": {
            "tags": [],
            "needs_background": "light"
          }
        }
      ]
    },
    {
      "cell_type": "code",
      "metadata": {
        "colab": {
          "base_uri": "https://localhost:8080/"
        },
        "id": "fT_rvnpUbfE0",
        "outputId": "07716002-0b62-4048-c88c-7cd58a8adaaf"
      },
      "source": [
        "# summarize history for accuracy\n",
        "plt.plot(history.history['accuracy'])\n",
        "plt.plot(history.history['val_accuracy'])\n",
        "plt.title('model accuracy')\n",
        "plt.ylabel('accuracy')\n",
        "plt.xlabel('epoch')\n",
        "plt.legend(['train', 'validation'], loc='upper left')\n",
        "plt.show()\n"
      ],
      "execution_count": null,
      "outputs": [
        {
          "output_type": "display_data",
          "data": {
            "image/png": "[encoded data removed]",
            "text/plain": [
              "<Figure size 432x288 with 1 Axes>"
            ]
          },
          "metadata": {
            "tags": [],
            "needs_background": "light"
          }
        }
      ]
    },
    {
      "cell_type": "markdown",
      "metadata": {
        "id": "JiLtJbYU7_uH"
      },
      "source": [
        "**ResNet**"
      ]
    },
    {
      "cell_type": "code",
      "metadata": {
        "id": "-7a9N64zbgmi"
      },
      "source": [
        "from keras.applications import ResNet101\n",
        "\n",
        "resnet = ResNet101(\n",
        "    include_top=False,\n",
        "    input_shape=(254,254,3))\n",
        "model = Sequential()\n",
        "model.add(resnet)\n",
        "model.add(GlobalAveragePooling2D())\n",
        "model.add(Dropout(0.5))\n",
        "model.add(Dense(512, activation='relu'))\n",
        "model.add(Dropout(0.4))\n",
        "model.add(Dense(1, activation='sigmoid'))"
      ],
      "execution_count": 17,
      "outputs": []
    },
    {
      "cell_type": "code",
      "metadata": {
        "id": "PdQI_0HYb18U"
      },
      "source": [
        "model.compile(loss='binary_crossentropy',\n",
        "              optimizer=RMSprop(lr=0.00005),\n",
        "              metrics=['accuracy'])"
      ],
      "execution_count": 18,
      "outputs": []
    },
    {
      "cell_type": "code",
      "metadata": {
        "colab": {
          "base_uri": "https://localhost:8080/"
        },
        "id": "6Abt5D1db4Ub",
        "outputId": "032a654a-3464-4880-9eb8-969d39e553af"
      },
      "source": [
        "history = model.fit(\n",
        "          train_generator,\n",
        "          steps_per_epoch = train_generator.samples // 32,\n",
        "          validation_data = validation_generator, \n",
        "          validation_steps = validation_generator.samples // 32,\n",
        "          epochs = 6)"
      ],
      "execution_count": 19,
      "outputs": [
        {
          "output_type": "stream",
          "text": [
            "Epoch 1/6\n",
            "1025/1025 [==============================] - 833s 795ms/step - loss: 0.0622 - accuracy: 0.9776 - val_loss: 1.4772 - val_accuracy: 0.6998\n",
            "Epoch 2/6\n",
            "1025/1025 [==============================] - 810s 790ms/step - loss: 0.0103 - accuracy: 0.9978 - val_loss: 0.0181 - val_accuracy: 0.9970\n",
            "Epoch 3/6\n",
            "1025/1025 [==============================] - 809s 789ms/step - loss: 0.0147 - accuracy: 0.9976 - val_loss: 3.7591 - val_accuracy: 0.9805\n",
            "Epoch 4/6\n",
            "1025/1025 [==============================] - 808s 788ms/step - loss: 0.0098 - accuracy: 0.9980 - val_loss: 0.0201 - val_accuracy: 0.9977\n",
            "Epoch 5/6\n",
            "1025/1025 [==============================] - 808s 788ms/step - loss: 0.0099 - accuracy: 0.9984 - val_loss: 0.0095 - val_accuracy: 0.9979\n",
            "Epoch 6/6\n",
            "1025/1025 [==============================] - 809s 788ms/step - loss: 0.0112 - accuracy: 0.9976 - val_loss: 0.0154 - val_accuracy: 0.9976\n"
          ],
          "name": "stdout"
        }
      ]
    },
    {
      "cell_type": "code",
      "metadata": {
        "id": "-Cn_jOC_b6d1"
      },
      "source": [
        "predictions = model.predict(test_generator)\n"
      ],
      "execution_count": 20,
      "outputs": []
    },
    {
      "cell_type": "code",
      "metadata": {
        "colab": {
          "base_uri": "https://localhost:8080/"
        },
        "id": "TkaapofSb714",
        "outputId": "02cf510a-2060-4d78-e0a7-20f3926be4e8"
      },
      "source": [
        "# import classification_report\n",
        "from sklearn.metrics import classification_report\n",
        "\n",
        "# get the ground truth of your data. \n",
        "test_labels=test_generator.classes \n",
        "\n",
        "y_pred = [1 * (x[0]>=0.5) for x in predictions]\n",
        "\n",
        "# get the classification report\n",
        "print(classification_report(test_labels, y_pred))"
      ],
      "execution_count": 21,
      "outputs": [
        {
          "output_type": "stream",
          "text": [
            "              precision    recall  f1-score   support\n",
            "\n",
            "           0       0.98      0.81      0.89      5137\n",
            "           1       0.78      0.97      0.86      3480\n",
            "\n",
            "    accuracy                           0.88      8617\n",
            "   macro avg       0.88      0.89      0.88      8617\n",
            "weighted avg       0.90      0.88      0.88      8617\n",
            "\n"
          ],
          "name": "stdout"
        }
      ]
    },
    {
      "cell_type": "code",
      "metadata": {
        "colab": {
          "base_uri": "https://localhost:8080/",
          "height": 295
        },
        "id": "SkoKsWD3b9xh",
        "outputId": "0e3a7bde-ef30-42c4-d9c8-110ae27dfccf"
      },
      "source": [
        "# summarize history for loss\n",
        "plt.plot(history.history['loss'])\n",
        "plt.plot(history.history['val_loss'])\n",
        "plt.title('model loss')\n",
        "plt.ylabel('loss')\n",
        "plt.xlabel('epoch')\n",
        "plt.legend(['train', 'validation'], loc='upper left')\n",
        "plt.show()"
      ],
      "execution_count": 22,
      "outputs": [
        {
          "output_type": "display_data",
          "data": {
            "image/png": "[encoded data removed]",
            "text/plain": [
              "<Figure size 432x288 with 1 Axes>"
            ]
          },
          "metadata": {
            "tags": [],
            "needs_background": "light"
          }
        }
      ]
    },
    {
      "cell_type": "code",
      "metadata": {
        "colab": {
          "base_uri": "https://localhost:8080/",
          "height": 295
        },
        "id": "nrp7NtsUb_Cz",
        "outputId": "e10d00e8-937c-4ed0-f119-6b51cf4bd7da"
      },
      "source": [
        "# summarize history for accuracy\n",
        "plt.plot(history.history['accuracy'])\n",
        "plt.plot(history.history['val_accuracy'])\n",
        "plt.title('model accuracy')\n",
        "plt.ylabel('accuracy')\n",
        "plt.xlabel('epoch')\n",
        "plt.legend(['train', 'validation'], loc='upper left')\n",
        "plt.show()\n"
      ],
      "execution_count": 23,
      "outputs": [
        {
          "output_type": "display_data",
          "data": {
            "image/png": "[encoded data removed]",
            "text/plain": [
              "<Figure size 432x288 with 1 Axes>"
            ]
          },
          "metadata": {
            "tags": [],
            "needs_background": "light"
          }
        }
      ]
    },
    {
      "cell_type": "markdown",
      "metadata": {
        "id": "hMU70F3__93k"
      },
      "source": [
        "**DenseNet169**"
      ]
    },
    {
      "cell_type": "code",
      "metadata": {
        "id": "bIrJDTVa5Zm4",
        "colab": {
          "base_uri": "https://localhost:8080/"
        },
        "outputId": "90380c91-cdd8-4ed8-ef86-196a23539163"
      },
      "source": [
        "from keras.applications import DenseNet169\n",
        "\n",
        "densenet_v2 = DenseNet121(\n",
        "    include_top=False,\n",
        "    input_shape=(254,254,3))\n",
        "model = Sequential()\n",
        "model.add(densenet_v2)\n",
        "model.add(GlobalAveragePooling2D())\n",
        "model.add(Dropout(0.5))\n",
        "model.add(Dense(512, activation='relu'))\n",
        "model.add(Dropout(0.3))\n",
        "model.add(Dense(1, activation='sigmoid'))\n",
        "\n"
      ],
      "execution_count": null,
      "outputs": [
        {
          "output_type": "stream",
          "text": [
            "Downloading data from https://storage.googleapis.com/tensorflow/keras-applications/densenet/densenet121_weights_tf_dim_ordering_tf_kernels_notop.h5\n",
            "29089792/29084464 [==============================] - 0s 0us/step\n"
          ],
          "name": "stdout"
        }
      ]
    },
    {
      "cell_type": "code",
      "metadata": {
        "id": "InWNY2NU8HUd"
      },
      "source": [
        "model.compile(loss='binary_crossentropy',\n",
        "              #optimizer=Adam(lr=0.00004),\n",
        "              optimizer=RMSprop(lr=0.00007),\n",
        "              metrics=['accuracy'])"
      ],
      "execution_count": 12,
      "outputs": []
    },
    {
      "cell_type": "code",
      "metadata": {
        "colab": {
          "base_uri": "https://localhost:8080/"
        },
        "id": "l17t_5h88h5j",
        "outputId": "5c3c2af9-bc3d-46de-aa56-31a56cd240c3"
      },
      "source": [
        "history = model.fit(\n",
        "          train_generator,\n",
        "          steps_per_epoch = train_generator.samples // 32,\n",
        "          validation_data = validation_generator,\n",
        "          epochs = 5)   "
      ],
      "execution_count": null,
      "outputs": [
        {
          "output_type": "stream",
          "text": [
            "Epoch 1/5\n",
            "2050/2050 [==============================] - 1194s 574ms/step - loss: 0.0133 - accuracy: 0.9980 - val_loss: 0.0038 - val_accuracy: 0.9980\n",
            "Epoch 2/5\n",
            "2050/2050 [==============================] - 1169s 570ms/step - loss: 0.0068 - accuracy: 0.9986 - val_loss: 0.0031 - val_accuracy: 0.9995\n",
            "Epoch 3/5\n",
            "2050/2050 [==============================] - 1167s 569ms/step - loss: 0.0125 - accuracy: 0.9982 - val_loss: 0.0044 - val_accuracy: 0.9991\n",
            "Epoch 4/5\n",
            "2050/2050 [==============================] - 1168s 570ms/step - loss: 0.0053 - accuracy: 0.9992 - val_loss: 0.0249 - val_accuracy: 0.9919\n",
            "Epoch 5/5\n",
            "2050/2050 [==============================] - 1163s 567ms/step - loss: 0.0059 - accuracy: 0.9992 - val_loss: 0.0065 - val_accuracy: 0.9992\n"
          ],
          "name": "stdout"
        }
      ]
    },
    {
      "cell_type": "code",
      "metadata": {
        "id": "CgZ4UPsg8kzV"
      },
      "source": [
        "predictions = model.predict(test_generator)\n"
      ],
      "execution_count": null,
      "outputs": []
    },
    {
      "cell_type": "code",
      "metadata": {
        "id": "1Ye33lntJw_n",
        "colab": {
          "base_uri": "https://localhost:8080/"
        },
        "outputId": "1c6e954c-d071-4764-a7c4-5bea4dc5b552"
      },
      "source": [
        "test_labels=test_generator.classes \n",
        "\n",
        "y_pred = [1 * (x[0]>=0.5) for x in predictions]\n",
        "\n",
        "print(classification_report(test_labels, y_pred))"
      ],
      "execution_count": null,
      "outputs": [
        {
          "output_type": "stream",
          "text": [
            "              precision    recall  f1-score   support\n",
            "\n",
            "           0       0.99      0.78      0.87      5137\n",
            "           1       0.75      0.99      0.86      3480\n",
            "\n",
            "    accuracy                           0.87      8617\n",
            "   macro avg       0.87      0.89      0.87      8617\n",
            "weighted avg       0.90      0.87      0.87      8617\n",
            "\n"
          ],
          "name": "stdout"
        }
      ]
    },
    {
      "cell_type": "code",
      "metadata": {
        "id": "i0-u2KgTC28b"
      },
      "source": [
        ""
      ],
      "execution_count": null,
      "outputs": []
    }
  ]
}