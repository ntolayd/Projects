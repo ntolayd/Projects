{
  "nbformat": 4,
  "nbformat_minor": 0,
  "metadata": {
    "accelerator": "GPU",
    "colab": {
      "name": "forestfire.ipynb adlı not defterinin kopyası",
      "provenance": [],
      "collapsed_sections": [],
      "machine_shape": "hm",
      "authorship_tag": "ABX9TyM/toEK9IdYeQniS3/XdeQh"
    },
    "kernelspec": {
      "display_name": "Python 3",
      "name": "python3"
    }
  },
  "cells": [
    {
      "cell_type": "code",
      "metadata": {
        "colab": {
          "base_uri": "https://localhost:8080/"
        },
        "id": "9EhLGDVxvawB",
        "outputId": "bfd95d62-ea88-4c0b-a1bf-9199012e4f08"
      },
      "source": [
        "from google.colab import drive\n",
        "drive.mount('/content/gdrive')"
      ],
      "execution_count": null,
      "outputs": [
        {
          "output_type": "stream",
          "text": [
            "Mounted at /content/gdrive\n"
          ],
          "name": "stdout"
        }
      ]
    },
    {
      "cell_type": "code",
      "metadata": {
        "id": "YDHeK9qnvdD8"
      },
      "source": [
        "!unzip \"/content/gdrive/My Drive/Test.zip\"\n",
        "!unzip \"/content/gdrive/My Drive/Training.zip\""
      ],
      "execution_count": null,
      "outputs": []
    },
    {
      "cell_type": "code",
      "metadata": {
        "id": "iLVyF4nXSvoW"
      },
      "source": [
        "import os \n",
        "import random\n",
        "import shutil\n"
      ],
      "execution_count": null,
      "outputs": []
    },
    {
      "cell_type": "code",
      "metadata": {
        "id": "MK29LTT7t91W"
      },
      "source": [
        "os.mkdir('Validation')\n",
        "os.mkdir('Validation/Fire')\n",
        "os.mkdir('Validation/No_Fire')"
      ],
      "execution_count": null,
      "outputs": []
    },
    {
      "cell_type": "code",
      "metadata": {
        "id": "R5UWXTtIRrKI"
      },
      "source": [
        "#Creating validation folder and moving randomly selected images from traning folder to validation folder\n",
        "random.seed(126)\n",
        "source = 'Training/Fire'\n",
        "dest = 'Validation/Fire'\n",
        "files = os.listdir(source)\n",
        "no_of_files = len(files) // 6\n",
        "\n",
        "for file_name in random.sample(files, no_of_files):\n",
        "    shutil.move(os.path.join(source, file_name), dest)\n"
      ],
      "execution_count": null,
      "outputs": []
    },
    {
      "cell_type": "code",
      "metadata": {
        "id": "v3huqs0vR-LV"
      },
      "source": [
        "#Creating validation folder and moving randomly selected images from traning folder to validation folder\n",
        "random.seed(19)\n",
        "source = 'Training/No_Fire'\n",
        "dest = 'Validation/No_Fire'\n",
        "files = os.listdir(source)\n",
        "no_of_files = len(files) // 6\n",
        "\n",
        "for file_name in random.sample(files, no_of_files):\n",
        "    shutil.move(os.path.join(source, file_name), dest)\n"
      ],
      "execution_count": null,
      "outputs": []
    },
    {
      "cell_type": "code",
      "metadata": {
        "id": "ZH4UIILyy1D9"
      },
      "source": [
        "import numpy as np\n",
        "from tqdm import tqdm\n",
        "from random import shuffle\n",
        "import cv2\n",
        "import os \n",
        "from tensorflow.keras.preprocessing.image import ImageDataGenerator\n",
        "import tensorflow as tf\n",
        "import matplotlib.pyplot as plt\n",
        "import pandas as pd\n",
        "from keras.models import Sequential\n",
        "from keras.layers import GlobalAveragePooling2D, Flatten, Conv2D, MaxPooling2D\n",
        "from keras.layers import Dropout\n",
        "from keras.layers import Dense\n",
        "from keras.optimizers import Adam, RMSprop\n",
        "from sklearn.metrics import classification_report\n",
        "from skimage.color import rgb2hsv\n",
        "import skimage"
      ],
      "execution_count": null,
      "outputs": []
    },
    {
      "cell_type": "code",
      "metadata": {
        "id": "IivF0Q3hxFQl"
      },
      "source": [
        "Train_path = 'Training'\n",
        "Test_path = 'Test'\n",
        "Validation_path ='Validation'"
      ],
      "execution_count": null,
      "outputs": []
    },
    {
      "cell_type": "code",
      "metadata": {
        "id": "5mNfR3nHHuz6"
      },
      "source": [
        "from skimage.color import rgb2hsv\n",
        "def color_aug(img):\n",
        "  img = img / 255\n",
        "  new_img = rgb2hsv(img) * 255\n",
        "  return new_img"
      ],
      "execution_count": null,
      "outputs": []
    },
    {
      "cell_type": "code",
      "metadata": {
        "id": "fDlqfGF-H4ks"
      },
      "source": [
        "def noise(img):\n",
        "    img = img / 255\n",
        "    gimg = skimage.util.random_noise(img, mode='poisson') * 255\n",
        "    return gimg "
      ],
      "execution_count": null,
      "outputs": []
    },
    {
      "cell_type": "code",
      "metadata": {
        "colab": {
          "base_uri": "https://localhost:8080/"
        },
        "id": "cUNZMATZRfxu",
        "outputId": "39f0f38c-41a7-41cb-a9ab-86075f9d54d0"
      },
      "source": [
        "train_datagen = ImageDataGenerator(rescale=1./255,\n",
        "                                   rotation_range=45,\n",
        "                                   #horizontal_flip = True,\n",
        "                                   vertical_flip=True,\n",
        "                                   #width_shift_range=0.2,\n",
        "                                   #height_shift_range=0.2,\n",
        "                                   #fill_mode='reflect',\n",
        "                                   #brightness_range=[0.5, 1.5]\n",
        "                                   #preprocessing_function=noise\n",
        "                                   )\n",
        "\n",
        "validation_datagen = ImageDataGenerator(rescale=1./255)\n",
        "\n",
        "test_datagen = ImageDataGenerator(rescale=1./255)\n",
        "\n",
        "train_generator = train_datagen.flow_from_directory(\n",
        "    Train_path,\n",
        "    target_size=(254, 254),\n",
        "    batch_size=64,\n",
        "    color_mode='rgb',\n",
        "    class_mode='binary',\n",
        "    shuffle=True) # set as training data\n",
        "\n",
        "validation_generator = validation_datagen.flow_from_directory(\n",
        "    Validation_path, \n",
        "    target_size=(254, 254),\n",
        "    color_mode='rgb',\n",
        "    batch_size=64,\n",
        "    class_mode='binary', shuffle=False) # set as validation data\n",
        "\n",
        "test_generator = test_datagen.flow_from_directory(\n",
        "        Test_path,\n",
        "        target_size=(254, 254),\n",
        "        color_mode='rgb',\n",
        "        batch_size=1,\n",
        "        class_mode='binary', shuffle=False)"
      ],
      "execution_count": null,
      "outputs": [
        {
          "output_type": "stream",
          "text": [
            "Found 32814 images belonging to 2 classes.\n",
            "Found 6561 images belonging to 2 classes.\n",
            "Found 8617 images belonging to 2 classes.\n"
          ],
          "name": "stdout"
        }
      ]
    },
    {
      "cell_type": "code",
      "metadata": {
        "colab": {
          "base_uri": "https://localhost:8080/"
        },
        "id": "mVluLnzGC2vK",
        "outputId": "7dfb67eb-899a-4da4-96c8-a01dcc3484cf"
      },
      "source": [
        "train_generator.class_indices"
      ],
      "execution_count": null,
      "outputs": [
        {
          "output_type": "execute_result",
          "data": {
            "text/plain": [
              "{'Fire': 0, 'No_Fire': 1}"
            ]
          },
          "metadata": {
            "tags": []
          },
          "execution_count": 11
        }
      ]
    },
    {
      "cell_type": "markdown",
      "metadata": {
        "id": "8lPTHSta7jgJ"
      },
      "source": [
        "**DenseNet**"
      ]
    },
    {
      "cell_type": "code",
      "metadata": {
        "id": "OTW6Rbn2Q0-v"
      },
      "source": [
        "from keras.applications import DenseNet121\n",
        "densenet_v2 = DenseNet121(\n",
        "    include_top=False,\n",
        "    input_shape=(254,254,3))\n",
        "model = Sequential()\n",
        "model.add(densenet_v2)\n",
        "model.add(GlobalAveragePooling2D())\n",
        "model.add(Dropout(0.6))\n",
        "model.add(Dense(512, activation='relu'))\n",
        "model.add(Dropout(0.6))\n",
        "model.add(Dense(1, activation='sigmoid'))\n",
        "\n",
        "model.compile(loss='binary_crossentropy',\n",
        "              optimizer=RMSprop(lr=0.000075),\n",
        "              metrics=['accuracy'])"
      ],
      "execution_count": null,
      "outputs": []
    },
    {
      "cell_type": "code",
      "metadata": {
        "colab": {
          "base_uri": "https://localhost:8080/"
        },
        "id": "gOgOBkpRYR9j",
        "outputId": "0d8eb37d-25ca-45c7-9e3c-728bb95b8eb6"
      },
      "source": [
        "history = model.fit(\n",
        "          train_generator,\n",
        "          steps_per_epoch = train_generator.samples // 64,\n",
        "          validation_data = validation_generator, \n",
        "          validation_steps = validation_generator.samples // 64,\n",
        "          epochs = 5)"
      ],
      "execution_count": null,
      "outputs": [
        {
          "output_type": "stream",
          "text": [
            "Epoch 1/5\n",
            "512/512 [==============================] - 517s 966ms/step - loss: 0.1312 - accuracy: 0.9472 - val_loss: 0.0132 - val_accuracy: 0.9968\n",
            "Epoch 2/5\n",
            "512/512 [==============================] - 489s 954ms/step - loss: 0.0100 - accuracy: 0.9975 - val_loss: 0.0030 - val_accuracy: 0.9992\n",
            "Epoch 3/5\n",
            "512/512 [==============================] - 481s 938ms/step - loss: 0.0079 - accuracy: 0.9979 - val_loss: 0.0042 - val_accuracy: 0.9991\n",
            "Epoch 4/5\n",
            "512/512 [==============================] - 474s 925ms/step - loss: 0.0108 - accuracy: 0.9971 - val_loss: 0.0017 - val_accuracy: 0.9997\n",
            "Epoch 5/5\n",
            "512/512 [==============================] - 475s 927ms/step - loss: 0.0077 - accuracy: 0.9984 - val_loss: 0.0049 - val_accuracy: 0.9991\n"
          ],
          "name": "stdout"
        }
      ]
    },
    {
      "cell_type": "code",
      "metadata": {
        "id": "SvVAl845YUAd"
      },
      "source": [
        "predictions = model.predict(test_generator)"
      ],
      "execution_count": null,
      "outputs": []
    },
    {
      "cell_type": "code",
      "metadata": {
        "colab": {
          "base_uri": "https://localhost:8080/"
        },
        "id": "HduCe0x2Yf8G",
        "outputId": "5379ff44-4712-4c46-9d86-0df8b77023aa"
      },
      "source": [
        "test_labels=test_generator.classes \n",
        "\n",
        "y_pred = [1 * (x[0]>=0.5) for x in predictions]\n",
        "\n",
        "print(classification_report(test_labels, y_pred))"
      ],
      "execution_count": null,
      "outputs": [
        {
          "output_type": "stream",
          "text": [
            "              precision    recall  f1-score   support\n",
            "\n",
            "           0       0.96      0.92      0.94      5137\n",
            "           1       0.89      0.95      0.92      3480\n",
            "\n",
            "    accuracy                           0.93      8617\n",
            "   macro avg       0.93      0.94      0.93      8617\n",
            "weighted avg       0.93      0.93      0.93      8617\n",
            "\n"
          ],
          "name": "stdout"
        }
      ]
    },
    {
      "cell_type": "code",
      "metadata": {
        "colab": {
          "base_uri": "https://localhost:8080/",
          "height": 295
        },
        "id": "FiI8Gva4YiL-",
        "outputId": "64812bfa-057d-4204-8e88-9e4341bd8986"
      },
      "source": [
        "# summarize history for loss\n",
        "plt.plot(history.history['loss'])\n",
        "plt.plot(history.history['val_loss'])\n",
        "plt.title('model loss')\n",
        "plt.ylabel('loss')\n",
        "plt.xlabel('epoch')\n",
        "plt.legend(['train', 'validation'], loc='upper left')\n",
        "plt.show()"
      ],
      "execution_count": null,
      "outputs": [
        {
          "output_type": "display_data",
          "data": {
            "image/png": "[encoded data removed]",
            "text/plain": [
              "<Figure size 432x288 with 1 Axes>"
            ]
          },
          "metadata": {
            "tags": [],
            "needs_background": "light"
          }
        }
      ]
    },
    {
      "cell_type": "code",
      "metadata": {
        "colab": {
          "base_uri": "https://localhost:8080/",
          "height": 295
        },
        "id": "tE8vHxqcYj2Q",
        "outputId": "e9d5a04e-ed91-467d-d1bb-41cf114be65f"
      },
      "source": [
        "# summarize history for accuracy\n",
        "plt.plot(history.history['accuracy'])\n",
        "plt.plot(history.history['val_accuracy'])\n",
        "plt.title('model accuracy')\n",
        "plt.ylabel('accuracy')\n",
        "plt.xlabel('epoch')\n",
        "plt.legend(['train', 'validation'], loc='upper left')\n",
        "plt.show()\n"
      ],
      "execution_count": null,
      "outputs": [
        {
          "output_type": "display_data",
          "data": {
            "image/png": "[encoded data removed]",
            "text/plain": [
              "<Figure size 432x288 with 1 Axes>"
            ]
          },
          "metadata": {
            "tags": [],
            "needs_background": "light"
          }
        }
      ]
    }
  ]
}